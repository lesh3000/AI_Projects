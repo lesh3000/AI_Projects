{
 "cells": [
  {
   "cell_type": "markdown",
   "metadata": {
    "slideshow": {
     "slide_type": "slide"
    }
   },
   "source": [
    "# Bank Loan Application Modelling\n",
    "## Context\n",
    "\n",
    "#### Before approving a loan, the company calculates the probability that the borrower will default.\n",
    "#### It is therefore looking for a scoring algorithm that will enable it to decide whether or not to lend to a given borrower."
   ]
  },
  {
   "cell_type": "code",
   "execution_count": 2,
   "metadata": {
    "slideshow": {
     "slide_type": "-"
    }
   },
   "outputs": [],
   "source": [
    "%config IPCompleter.greedy=True\n",
    "import pandas as pd\n",
    "import numpy as nm\n",
    "import matplotlib.pyplot as plt\n",
    "import warnings\n",
    "import random\n",
    "warnings.filterwarnings(\"ignore\")"
   ]
  },
  {
   "cell_type": "code",
   "execution_count": 3,
   "metadata": {
    "slideshow": {
     "slide_type": "-"
    }
   },
   "outputs": [],
   "source": [
    "def chooseColor():\n",
    "    colors=['b', 'g', 'r','c','m','y']\n",
    "    return colors[random.randint(0,5)]"
   ]
  },
  {
   "cell_type": "code",
   "execution_count": 4,
   "metadata": {
    "slideshow": {
     "slide_type": "-"
    }
   },
   "outputs": [],
   "source": [
    "def NanTooMany(dataq):\n",
    "    mis_val_percent = pd.DataFrame(100 * dataq.isnull().sum() / len(dataq))\n",
    "    mis_val_percent= mis_val_percent[mis_val_percent[0]>=50]\n",
    "    print(\"Missing values in percentage, columns to drop\")\n",
    "    print(mis_val_percent.sort_values(by=0,ascending=False))\n",
    "    mis_val_percent.index.name=\"name\"\n",
    "    for index in mis_val_percent.iterrows(): \n",
    "        dataq=dataq.drop(index[0],axis=1)\n",
    "    return dataq"
   ]
  },
  {
   "cell_type": "code",
   "execution_count": 5,
   "metadata": {
    "slideshow": {
     "slide_type": "-"
    }
   },
   "outputs": [],
   "source": [
    "def checkMatches(data,dat):\n",
    "    sat=set(data['SK_ID_CURR']) & set(dat['SK_ID_CURR'])\n",
    "    match=len(sat)/len(data['SK_ID_CURR'])\n",
    "    print(\"percent of matching records: \"+ str(match))\n",
    "    if match>0.70:\n",
    "        dataq=pd.merge(data, dat, how='left', on='SK_ID_CURR')\n",
    "    return dataq"
   ]
  },
  {
   "cell_type": "markdown",
   "metadata": {
    "slideshow": {
     "slide_type": "slide"
    }
   },
   "source": [
    "# Data Selection\n",
    "## Three datafiles are selected to meet the project needs\n",
    "- application_train includes data for current credit application and binary TARGET variable \n",
    "- bureau includes data on previous credits issued for a specific application available in application_train\n",
    "- previous_application includes data on previous applications submited to the same institution\n",
    "\n",
    "### Keeping columns that include less than 50% of missing values\n",
    "_output provides list of the droped columns and missing values percent per data file_"
   ]
  },
  {
   "cell_type": "code",
   "execution_count": 61,
   "metadata": {
    "scrolled": true,
    "slideshow": {
     "slide_type": "subslide"
    }
   },
   "outputs": [
    {
     "name": "stdout",
     "output_type": "stream",
     "text": [
      "Missing values in percentage, columns to drop\n",
      "                              0\n",
      "COMMONAREA_MODE          68.716\n",
      "COMMONAREA_AVG           68.716\n",
      "COMMONAREA_MEDI          68.716\n",
      "NONLIVINGAPARTMENTS_MEDI 68.413\n",
      "NONLIVINGAPARTMENTS_AVG  68.413\n",
      "NONLIVINGAPARTMENTS_MODE 68.413\n",
      "FONDKAPREMONT_MODE       67.284\n",
      "LIVINGAPARTMENTS_MEDI    67.249\n",
      "LIVINGAPARTMENTS_AVG     67.249\n",
      "LIVINGAPARTMENTS_MODE    67.249\n",
      "FLOORSMIN_MEDI           66.605\n",
      "FLOORSMIN_MODE           66.605\n",
      "FLOORSMIN_AVG            66.605\n",
      "OWN_CAR_AGE              66.289\n",
      "YEARS_BUILD_AVG          65.276\n",
      "YEARS_BUILD_MODE         65.276\n",
      "YEARS_BUILD_MEDI         65.276\n",
      "LANDAREA_AVG             57.964\n",
      "LANDAREA_MODE            57.964\n",
      "LANDAREA_MEDI            57.964\n",
      "BASEMENTAREA_MODE        56.706\n",
      "BASEMENTAREA_MEDI        56.706\n",
      "BASEMENTAREA_AVG         56.706\n",
      "NONLIVINGAREA_AVG        53.512\n",
      "NONLIVINGAREA_MODE       53.512\n",
      "NONLIVINGAREA_MEDI       53.512\n",
      "ELEVATORS_MODE           51.676\n",
      "ELEVATORS_MEDI           51.676\n",
      "ELEVATORS_AVG            51.676\n",
      "Missing values in percentage, columns to drop\n",
      "                            0\n",
      "AMT_ANNUITY            71.473\n",
      "AMT_CREDIT_MAX_OVERDUE 65.513\n",
      "Missing values in percentage, columns to drop\n",
      "                              0\n",
      "RATE_INTEREST_PRIMARY    99.644\n",
      "RATE_INTEREST_PRIVILEGED 99.644\n",
      "AMT_DOWN_PAYMENT         53.636\n",
      "RATE_DOWN_PAYMENT        53.636\n"
     ]
    }
   ],
   "source": [
    "application = pd.read_csv(\"application_test.csv\")\n",
    "bureau = pd.read_csv(\"bureau.csv\")\n",
    "previous_app = pd.read_csv(\"previous_application.csv\")\n",
    "application=NanTooMany(application)\n",
    "bureau=NanTooMany(bureau)\n",
    "previous_app=NanTooMany(previous_app)"
   ]
  },
  {
   "cell_type": "markdown",
   "metadata": {
    "slideshow": {
     "slide_type": "slide"
    }
   },
   "source": [
    "## Target Variable Distribution\n",
    "\n",
    "### Supervised learning is based on labeled data\n",
    "### The dataset inludes target variable\n",
    "\n",
    "* 1 Defaulted applications\n",
    "* 0 Repaid applications\n",
    "\n",
    "_data set is unbalanced which is important for model accuracy method selection_"
   ]
  },
  {
   "cell_type": "code",
   "execution_count": 7,
   "metadata": {
    "slideshow": {
     "slide_type": "subslide"
    }
   },
   "outputs": [
    {
     "ename": "KeyError",
     "evalue": "'TARGET'",
     "output_type": "error",
     "traceback": [
      "\u001b[1;31m---------------------------------------------------------------------------\u001b[0m",
      "\u001b[1;31mKeyError\u001b[0m                                  Traceback (most recent call last)",
      "\u001b[1;32m~\\Anaconda3\\lib\\site-packages\\pandas\\core\\indexes\\base.py\u001b[0m in \u001b[0;36mget_loc\u001b[1;34m(self, key, method, tolerance)\u001b[0m\n\u001b[0;32m   2896\u001b[0m             \u001b[1;32mtry\u001b[0m\u001b[1;33m:\u001b[0m\u001b[1;33m\u001b[0m\u001b[1;33m\u001b[0m\u001b[0m\n\u001b[1;32m-> 2897\u001b[1;33m                 \u001b[1;32mreturn\u001b[0m \u001b[0mself\u001b[0m\u001b[1;33m.\u001b[0m\u001b[0m_engine\u001b[0m\u001b[1;33m.\u001b[0m\u001b[0mget_loc\u001b[0m\u001b[1;33m(\u001b[0m\u001b[0mkey\u001b[0m\u001b[1;33m)\u001b[0m\u001b[1;33m\u001b[0m\u001b[1;33m\u001b[0m\u001b[0m\n\u001b[0m\u001b[0;32m   2898\u001b[0m             \u001b[1;32mexcept\u001b[0m \u001b[0mKeyError\u001b[0m\u001b[1;33m:\u001b[0m\u001b[1;33m\u001b[0m\u001b[1;33m\u001b[0m\u001b[0m\n",
      "\u001b[1;32mpandas\\_libs\\index.pyx\u001b[0m in \u001b[0;36mpandas._libs.index.IndexEngine.get_loc\u001b[1;34m()\u001b[0m\n",
      "\u001b[1;32mpandas\\_libs\\index.pyx\u001b[0m in \u001b[0;36mpandas._libs.index.IndexEngine.get_loc\u001b[1;34m()\u001b[0m\n",
      "\u001b[1;32mpandas\\_libs\\hashtable_class_helper.pxi\u001b[0m in \u001b[0;36mpandas._libs.hashtable.PyObjectHashTable.get_item\u001b[1;34m()\u001b[0m\n",
      "\u001b[1;32mpandas\\_libs\\hashtable_class_helper.pxi\u001b[0m in \u001b[0;36mpandas._libs.hashtable.PyObjectHashTable.get_item\u001b[1;34m()\u001b[0m\n",
      "\u001b[1;31mKeyError\u001b[0m: 'TARGET'",
      "\nDuring handling of the above exception, another exception occurred:\n",
      "\u001b[1;31mKeyError\u001b[0m                                  Traceback (most recent call last)",
      "\u001b[1;32m<ipython-input-7-55ccc8cbc563>\u001b[0m in \u001b[0;36m<module>\u001b[1;34m\u001b[0m\n\u001b[1;32m----> 1\u001b[1;33m \u001b[0md\u001b[0m\u001b[1;33m=\u001b[0m \u001b[0mapplication\u001b[0m\u001b[1;33m[\u001b[0m\u001b[1;34m'TARGET'\u001b[0m\u001b[1;33m]\u001b[0m\u001b[1;33m.\u001b[0m\u001b[0mvalue_counts\u001b[0m\u001b[1;33m(\u001b[0m\u001b[1;33m)\u001b[0m\u001b[1;33m\u001b[0m\u001b[1;33m\u001b[0m\u001b[0m\n\u001b[0m\u001b[0;32m      2\u001b[0m \u001b[0mplt\u001b[0m\u001b[1;33m.\u001b[0m\u001b[0mfigure\u001b[0m\u001b[1;33m(\u001b[0m\u001b[0mfigsize\u001b[0m\u001b[1;33m=\u001b[0m\u001b[1;33m(\u001b[0m\u001b[1;36m10\u001b[0m\u001b[1;33m,\u001b[0m\u001b[1;36m1\u001b[0m\u001b[1;33m)\u001b[0m\u001b[1;33m)\u001b[0m\u001b[1;33m\u001b[0m\u001b[1;33m\u001b[0m\u001b[0m\n\u001b[0;32m      3\u001b[0m \u001b[0mplt\u001b[0m\u001b[1;33m.\u001b[0m\u001b[0mtitle\u001b[0m\u001b[1;33m(\u001b[0m\u001b[1;34m\"TARGET\"\u001b[0m\u001b[1;33m)\u001b[0m\u001b[1;33m\u001b[0m\u001b[1;33m\u001b[0m\u001b[0m\n\u001b[0;32m      4\u001b[0m \u001b[0my_pos\u001b[0m \u001b[1;33m=\u001b[0m \u001b[0mnm\u001b[0m\u001b[1;33m.\u001b[0m\u001b[0marange\u001b[0m\u001b[1;33m(\u001b[0m\u001b[0mlen\u001b[0m\u001b[1;33m(\u001b[0m\u001b[0md\u001b[0m\u001b[1;33m.\u001b[0m\u001b[0mindex\u001b[0m\u001b[1;33m)\u001b[0m\u001b[1;33m)\u001b[0m\u001b[1;33m\u001b[0m\u001b[1;33m\u001b[0m\u001b[0m\n\u001b[0;32m      5\u001b[0m         \u001b[1;31m# Create horizontal bars\u001b[0m\u001b[1;33m\u001b[0m\u001b[1;33m\u001b[0m\u001b[1;33m\u001b[0m\u001b[0m\n",
      "\u001b[1;32m~\\Anaconda3\\lib\\site-packages\\pandas\\core\\frame.py\u001b[0m in \u001b[0;36m__getitem__\u001b[1;34m(self, key)\u001b[0m\n\u001b[0;32m   2978\u001b[0m             \u001b[1;32mif\u001b[0m \u001b[0mself\u001b[0m\u001b[1;33m.\u001b[0m\u001b[0mcolumns\u001b[0m\u001b[1;33m.\u001b[0m\u001b[0mnlevels\u001b[0m \u001b[1;33m>\u001b[0m \u001b[1;36m1\u001b[0m\u001b[1;33m:\u001b[0m\u001b[1;33m\u001b[0m\u001b[1;33m\u001b[0m\u001b[0m\n\u001b[0;32m   2979\u001b[0m                 \u001b[1;32mreturn\u001b[0m \u001b[0mself\u001b[0m\u001b[1;33m.\u001b[0m\u001b[0m_getitem_multilevel\u001b[0m\u001b[1;33m(\u001b[0m\u001b[0mkey\u001b[0m\u001b[1;33m)\u001b[0m\u001b[1;33m\u001b[0m\u001b[1;33m\u001b[0m\u001b[0m\n\u001b[1;32m-> 2980\u001b[1;33m             \u001b[0mindexer\u001b[0m \u001b[1;33m=\u001b[0m \u001b[0mself\u001b[0m\u001b[1;33m.\u001b[0m\u001b[0mcolumns\u001b[0m\u001b[1;33m.\u001b[0m\u001b[0mget_loc\u001b[0m\u001b[1;33m(\u001b[0m\u001b[0mkey\u001b[0m\u001b[1;33m)\u001b[0m\u001b[1;33m\u001b[0m\u001b[1;33m\u001b[0m\u001b[0m\n\u001b[0m\u001b[0;32m   2981\u001b[0m             \u001b[1;32mif\u001b[0m \u001b[0mis_integer\u001b[0m\u001b[1;33m(\u001b[0m\u001b[0mindexer\u001b[0m\u001b[1;33m)\u001b[0m\u001b[1;33m:\u001b[0m\u001b[1;33m\u001b[0m\u001b[1;33m\u001b[0m\u001b[0m\n\u001b[0;32m   2982\u001b[0m                 \u001b[0mindexer\u001b[0m \u001b[1;33m=\u001b[0m \u001b[1;33m[\u001b[0m\u001b[0mindexer\u001b[0m\u001b[1;33m]\u001b[0m\u001b[1;33m\u001b[0m\u001b[1;33m\u001b[0m\u001b[0m\n",
      "\u001b[1;32m~\\Anaconda3\\lib\\site-packages\\pandas\\core\\indexes\\base.py\u001b[0m in \u001b[0;36mget_loc\u001b[1;34m(self, key, method, tolerance)\u001b[0m\n\u001b[0;32m   2897\u001b[0m                 \u001b[1;32mreturn\u001b[0m \u001b[0mself\u001b[0m\u001b[1;33m.\u001b[0m\u001b[0m_engine\u001b[0m\u001b[1;33m.\u001b[0m\u001b[0mget_loc\u001b[0m\u001b[1;33m(\u001b[0m\u001b[0mkey\u001b[0m\u001b[1;33m)\u001b[0m\u001b[1;33m\u001b[0m\u001b[1;33m\u001b[0m\u001b[0m\n\u001b[0;32m   2898\u001b[0m             \u001b[1;32mexcept\u001b[0m \u001b[0mKeyError\u001b[0m\u001b[1;33m:\u001b[0m\u001b[1;33m\u001b[0m\u001b[1;33m\u001b[0m\u001b[0m\n\u001b[1;32m-> 2899\u001b[1;33m                 \u001b[1;32mreturn\u001b[0m \u001b[0mself\u001b[0m\u001b[1;33m.\u001b[0m\u001b[0m_engine\u001b[0m\u001b[1;33m.\u001b[0m\u001b[0mget_loc\u001b[0m\u001b[1;33m(\u001b[0m\u001b[0mself\u001b[0m\u001b[1;33m.\u001b[0m\u001b[0m_maybe_cast_indexer\u001b[0m\u001b[1;33m(\u001b[0m\u001b[0mkey\u001b[0m\u001b[1;33m)\u001b[0m\u001b[1;33m)\u001b[0m\u001b[1;33m\u001b[0m\u001b[1;33m\u001b[0m\u001b[0m\n\u001b[0m\u001b[0;32m   2900\u001b[0m         \u001b[0mindexer\u001b[0m \u001b[1;33m=\u001b[0m \u001b[0mself\u001b[0m\u001b[1;33m.\u001b[0m\u001b[0mget_indexer\u001b[0m\u001b[1;33m(\u001b[0m\u001b[1;33m[\u001b[0m\u001b[0mkey\u001b[0m\u001b[1;33m]\u001b[0m\u001b[1;33m,\u001b[0m \u001b[0mmethod\u001b[0m\u001b[1;33m=\u001b[0m\u001b[0mmethod\u001b[0m\u001b[1;33m,\u001b[0m \u001b[0mtolerance\u001b[0m\u001b[1;33m=\u001b[0m\u001b[0mtolerance\u001b[0m\u001b[1;33m)\u001b[0m\u001b[1;33m\u001b[0m\u001b[1;33m\u001b[0m\u001b[0m\n\u001b[0;32m   2901\u001b[0m         \u001b[1;32mif\u001b[0m \u001b[0mindexer\u001b[0m\u001b[1;33m.\u001b[0m\u001b[0mndim\u001b[0m \u001b[1;33m>\u001b[0m \u001b[1;36m1\u001b[0m \u001b[1;32mor\u001b[0m \u001b[0mindexer\u001b[0m\u001b[1;33m.\u001b[0m\u001b[0msize\u001b[0m \u001b[1;33m>\u001b[0m \u001b[1;36m1\u001b[0m\u001b[1;33m:\u001b[0m\u001b[1;33m\u001b[0m\u001b[1;33m\u001b[0m\u001b[0m\n",
      "\u001b[1;32mpandas\\_libs\\index.pyx\u001b[0m in \u001b[0;36mpandas._libs.index.IndexEngine.get_loc\u001b[1;34m()\u001b[0m\n",
      "\u001b[1;32mpandas\\_libs\\index.pyx\u001b[0m in \u001b[0;36mpandas._libs.index.IndexEngine.get_loc\u001b[1;34m()\u001b[0m\n",
      "\u001b[1;32mpandas\\_libs\\hashtable_class_helper.pxi\u001b[0m in \u001b[0;36mpandas._libs.hashtable.PyObjectHashTable.get_item\u001b[1;34m()\u001b[0m\n",
      "\u001b[1;32mpandas\\_libs\\hashtable_class_helper.pxi\u001b[0m in \u001b[0;36mpandas._libs.hashtable.PyObjectHashTable.get_item\u001b[1;34m()\u001b[0m\n",
      "\u001b[1;31mKeyError\u001b[0m: 'TARGET'"
     ]
    }
   ],
   "source": [
    "\n",
    "d= application['TARGET'].value_counts()\n",
    "plt.figure(figsize=(10,1))\n",
    "plt.title(\"TARGET\")\n",
    "y_pos = nm.arange(len(d.index))\n",
    "        # Create horizontal bars\n",
    "plt.barh( d.index, d.values,color= chooseColor())\n",
    " \n",
    "        # Create names on the y-axis\n",
    "plt.yticks(y_pos, ['Repaid','Defaulted'])\n",
    "plt.show()"
   ]
  },
  {
   "cell_type": "markdown",
   "metadata": {
    "slideshow": {
     "slide_type": "slide"
    }
   },
   "source": [
    "<h1><u>Feature engineering</u></h1>\n",
    "\n",
    "The dataset includes raw data. The following part includes engineering of various features that could help us to explain why certain customers are defaulted in reapying their credits. \n",
    "\n",
    "For every new fetuare we control the percentage of corresponding records if coming from different datatables\n",
    "\n",
    "### 1. Binary Overdue\n",
    "#### if current applicant has a credit overdue on any other credit registered at the authorities ( 1 if overdue, 0 his credit histrory has no negative records)"
   ]
  },
  {
   "cell_type": "code",
   "execution_count": 62,
   "metadata": {
    "slideshow": {
     "slide_type": "fragment"
    }
   },
   "outputs": [
    {
     "name": "stdout",
     "output_type": "stream",
     "text": [
      "percent of matching records: 0.8682094206466436\n"
     ]
    },
    {
     "data": {
      "text/plain": [
       "0.000    41853\n",
       "1.000      467\n",
       "Name: overdue, dtype: int64"
      ]
     },
     "execution_count": 62,
     "metadata": {},
     "output_type": "execute_result"
    }
   ],
   "source": [
    "##adding overdue column 1 if overdue for a app exists\n",
    "bureau_overdue= bureau[['SK_ID_CURR','AMT_CREDIT_SUM_OVERDUE']]\n",
    "bureau_overdue= bureau_overdue.groupby(by='SK_ID_CURR').max().reset_index()\n",
    "bureau_overdue['overdue']=bureau_overdue['AMT_CREDIT_SUM_OVERDUE'].apply(lambda x: 1 if x >0 else 0)\n",
    "bureau_overdue=bureau_overdue.drop('AMT_CREDIT_SUM_OVERDUE', axis=1)\n",
    "application1= checkMatches(application,bureau_overdue)\n",
    "d=application1['overdue'].value_counts()\n",
    "d"
   ]
  },
  {
   "cell_type": "code",
   "execution_count": 63,
   "metadata": {
    "slideshow": {
     "slide_type": "fragment"
    }
   },
   "outputs": [
    {
     "data": {
      "image/png": "[encoded data removed]",
      "text/plain": [
       "<Figure size 720x72 with 1 Axes>"
      ]
     },
     "metadata": {
      "needs_background": "light"
     },
     "output_type": "display_data"
    }
   ],
   "source": [
    "plt.figure(figsize=(10,1))\n",
    "plt.barh(d.index,d.values,color= chooseColor())\n",
    "plt.title(\"Overdue\")\n",
    "y_pos = nm.arange(len(d.index))\n",
    "plt.yticks(y_pos, ['Repaid on time','Overdue payment'])\n",
    "plt.show()"
   ]
  },
  {
   "cell_type": "markdown",
   "metadata": {
    "slideshow": {
     "slide_type": "slide"
    }
   },
   "source": [
    "### 2. Binary New Customer\n",
    "#### We like to investigate if the current aplicant has already applied to credit at this institution ( 1 if new customer otherwise 0)"
   ]
  },
  {
   "cell_type": "code",
   "execution_count": 64,
   "metadata": {
    "slideshow": {
     "slide_type": "fragment"
    }
   },
   "outputs": [
    {
     "name": "stdout",
     "output_type": "stream",
     "text": [
      "percent of matching records: 0.9806335138683735\n"
     ]
    },
    {
     "data": {
      "text/plain": [
       "0    47800\n",
       "1      944\n",
       "Name: new_customer, dtype: int64"
      ]
     },
     "execution_count": 64,
     "metadata": {},
     "output_type": "execute_result"
    }
   ],
   "source": [
    "##adding new customer column 1 if new customer\n",
    "has_previous_application=set(previous_app['SK_ID_CURR']) & set(application['SK_ID_CURR'])\n",
    "dt={'SK_ID_CURR':list(has_previous_application)}\n",
    "newCustomers=pd.DataFrame(dt)\n",
    "newCustomers['new_customer']=0\n",
    "application1=checkMatches(application1,newCustomers)\n",
    "application1['new_customer']=application1['new_customer'].apply(lambda x: 1 if x!=0 else 0)\n",
    "d=application1['new_customer'].value_counts()\n",
    "d\n"
   ]
  },
  {
   "cell_type": "code",
   "execution_count": 65,
   "metadata": {
    "slideshow": {
     "slide_type": "fragment"
    }
   },
   "outputs": [
    {
     "data": {
      "image/png": "[encoded data removed]",
      "text/plain": [
       "<Figure size 720x72 with 1 Axes>"
      ]
     },
     "metadata": {
      "needs_background": "light"
     },
     "output_type": "display_data"
    }
   ],
   "source": [
    "plt.figure(figsize=(10,1))\n",
    "\n",
    "plt.barh(d.index,d.values,color= chooseColor())\n",
    "plt.title(\"New customer\")\n",
    "y_pos = nm.arange(len(d.index))\n",
    "        # Create names on the y-axis\n",
    "plt.yticks(y_pos, ['Already has credit','Does not have credits'])\n",
    "plt.show()"
   ]
  },
  {
   "cell_type": "markdown",
   "metadata": {
    "slideshow": {
     "slide_type": "slide"
    }
   },
   "source": [
    "### 3.Binary Last contract status\n",
    "#### To investigate if the last application/offer was approved , rejected, unused, canceled ( 1 if positive: approved, unused. 0 if negative)"
   ]
  },
  {
   "cell_type": "code",
   "execution_count": 66,
   "metadata": {
    "slideshow": {
     "slide_type": "fragment"
    }
   },
   "outputs": [
    {
     "name": "stdout",
     "output_type": "stream",
     "text": [
      "percent of matching records: 0.9806335138683735\n"
     ]
    },
    {
     "data": {
      "text/plain": [
       "0.000    26467\n",
       "1.000    21333\n",
       "Name: lastContractStatus, dtype: int64"
      ]
     },
     "execution_count": 66,
     "metadata": {},
     "output_type": "execute_result"
    }
   ],
   "source": [
    "##adding column last contract status 1 is positive ( approved and unused offer) othrwise 0\n",
    "hello=previous_app[['SK_ID_CURR','SK_ID_PREV', 'NAME_CONTRACT_STATUS']].groupby(by='SK_ID_CURR').max().reset_index()\n",
    "hello['lastContractStatus']= hello['NAME_CONTRACT_STATUS'].apply(lambda x: 1 if x=='Approved'or x=='Unused offer' else 0)\n",
    "new_pv_app=hello[['SK_ID_CURR','lastContractStatus']]\n",
    "application1=checkMatches(application1,new_pv_app)\n",
    "d=application1['lastContractStatus'].value_counts()\n",
    "d\n"
   ]
  },
  {
   "cell_type": "code",
   "execution_count": 67,
   "metadata": {
    "slideshow": {
     "slide_type": "fragment"
    }
   },
   "outputs": [
    {
     "data": {
      "image/png": "[encoded data removed]",
      "text/plain": [
       "<Figure size 720x72 with 1 Axes>"
      ]
     },
     "metadata": {
      "needs_background": "light"
     },
     "output_type": "display_data"
    }
   ],
   "source": [
    "plt.figure(figsize=(10,1))\n",
    "plt.barh(d.index,d.values,color= chooseColor())\n",
    "plt.title(\"Status of the last application\")\n",
    "y_pos = nm.arange(len(d.index))\n",
    " \n",
    "        # Create names on the y-axis\n",
    "plt.yticks(y_pos, ['Negative','Positive'])\n",
    "plt.show()"
   ]
  },
  {
   "cell_type": "markdown",
   "metadata": {
    "slideshow": {
     "slide_type": "slide"
    }
   },
   "source": [
    "### 4.Converting days from birth to years from birth\n",
    "\n",
    "Our dataset includes days from birth which is probably should be converted into years to see if there is a relationship between age of a person and payment default"
   ]
  },
  {
   "cell_type": "code",
   "execution_count": 68,
   "metadata": {
    "slideshow": {
     "slide_type": "fragment"
    }
   },
   "outputs": [
    {
     "data": {
      "text/plain": [
       "count   48744.000\n",
       "mean       44.022\n",
       "std        11.852\n",
       "min        20.104\n",
       "25%        34.236\n",
       "50%        43.247\n",
       "75%        53.800\n",
       "max        69.027\n",
       "Name: YEARS_BIRTH, dtype: float64"
      ]
     },
     "execution_count": 68,
     "metadata": {},
     "output_type": "execute_result"
    }
   ],
   "source": [
    "application1['DAYS_BIRTH']= pd.to_numeric(application1['DAYS_BIRTH'].abs()/365, downcast=\"signed\")\n",
    "application1['YEARS_BIRTH']=application1['DAYS_BIRTH']\n",
    "application1=application1.drop('DAYS_BIRTH',axis=1)\n",
    "application1['YEARS_BIRTH'].describe()"
   ]
  },
  {
   "cell_type": "code",
   "execution_count": 69,
   "metadata": {
    "slideshow": {
     "slide_type": "fragment"
    }
   },
   "outputs": [
    {
     "data": {
      "text/plain": [
       "<matplotlib.axes._subplots.AxesSubplot at 0x239023a70c8>"
      ]
     },
     "execution_count": 69,
     "metadata": {},
     "output_type": "execute_result"
    },
    {
     "data": {
      "image/png": "[encoded data removed]",
      "text/plain": [
       "<Figure size 360x216 with 1 Axes>"
      ]
     },
     "metadata": {
      "needs_background": "light"
     },
     "output_type": "display_data"
    }
   ],
   "source": [
    "application1['YEARS_BIRTH'].plot(kind='density',figsize=(5,3), title=\"Applicants Age\")"
   ]
  },
  {
   "cell_type": "markdown",
   "metadata": {
    "slideshow": {
     "slide_type": "slide"
    }
   },
   "source": [
    "## 5.Converting days since started new job to months\n",
    "\n",
    "Similary to the above, we like to invesigate the number of months person spent on the last place of work. We choose months over years because we cannot expect from an employee staying significant number of years with the same employee."
   ]
  },
  {
   "cell_type": "code",
   "execution_count": 70,
   "metadata": {
    "slideshow": {
     "slide_type": "fragment"
    }
   },
   "outputs": [
    {
     "data": {
      "text/plain": [
       "count   48744.000\n",
       "mean       82.274\n",
       "std        69.230\n",
       "min         0.033\n",
       "25%        34.933\n",
       "50%        81.067\n",
       "75%        97.000\n",
       "max       582.100\n",
       "Name: MONTHS_EMPLOYED, dtype: float64"
      ]
     },
     "execution_count": 70,
     "metadata": {},
     "output_type": "execute_result"
    }
   ],
   "source": [
    "application1['DAYS_EMPLOYED']= pd.to_numeric(application1['DAYS_EMPLOYED'].abs(), downcast=\"signed\")\n",
    "application1['MONTHS_EMPLOYED']=application1['DAYS_EMPLOYED']/30\n",
    "application1=application1.drop('DAYS_EMPLOYED',axis=1)\n",
    "med=application1['MONTHS_EMPLOYED'].median()\n",
    "application1['MONTHS_EMPLOYED']=application1['MONTHS_EMPLOYED'].apply(lambda x :med if x>4800 else x)\n",
    "application1['MONTHS_EMPLOYED'].describe()"
   ]
  },
  {
   "cell_type": "code",
   "execution_count": 71,
   "metadata": {
    "slideshow": {
     "slide_type": "fragment"
    }
   },
   "outputs": [
    {
     "data": {
      "text/plain": [
       "<matplotlib.axes._subplots.AxesSubplot at 0x23902435648>"
      ]
     },
     "execution_count": 71,
     "metadata": {},
     "output_type": "execute_result"
    },
    {
     "data": {
      "image/png": "[encoded data removed]",
      "text/plain": [
       "<Figure size 360x216 with 1 Axes>"
      ]
     },
     "metadata": {
      "needs_background": "light"
     },
     "output_type": "display_data"
    }
   ],
   "source": [
    "application1['MONTHS_EMPLOYED'].plot(kind='density',figsize=(5,3), title=\"Employee Seniority\")\n"
   ]
  },
  {
   "cell_type": "markdown",
   "metadata": {
    "slideshow": {
     "slide_type": "slide"
    }
   },
   "source": [
    "## 6.Number of documents provided by a customer\n",
    "\n",
    "Probably number of provided documents has relationship with payment default. Additional documents might have some prove of applicants financial stability."
   ]
  },
  {
   "cell_type": "code",
   "execution_count": 72,
   "metadata": {
    "slideshow": {
     "slide_type": "fragment"
    }
   },
   "outputs": [
    {
     "data": {
      "text/plain": [
       "1    47997\n",
       "0      747\n",
       "Name: totalDocuments, dtype: int64"
      ]
     },
     "execution_count": 72,
     "metadata": {},
     "output_type": "execute_result"
    }
   ],
   "source": [
    "coro=application1.filter(regex=('FLAG_DOCUMENT_') )\n",
    "coro['SK_ID_CURR']=application1['SK_ID_CURR']\n",
    "coro['TARGET']=application1['TARGET']\n",
    "coro['totalDocuments']=coro[['FLAG_DOCUMENT_2','FLAG_DOCUMENT_3','FLAG_DOCUMENT_4',\n",
    "                    'FLAG_DOCUMENT_5','FLAG_DOCUMENT_6','FLAG_DOCUMENT_7','FLAG_DOCUMENT_8','FLAG_DOCUMENT_9','FLAG_DOCUMENT_10',\n",
    "                    'FLAG_DOCUMENT_11','FLAG_DOCUMENT_12','FLAG_DOCUMENT_13','FLAG_DOCUMENT_14','FLAG_DOCUMENT_15','FLAG_DOCUMENT_16',\n",
    "                    'FLAG_DOCUMENT_17','FLAG_DOCUMENT_18','FLAG_DOCUMENT_19','FLAG_DOCUMENT_20','FLAG_DOCUMENT_21']].sum(axis=1)\n",
    "d=coro['totalDocuments'].value_counts()\n",
    "d"
   ]
  },
  {
   "cell_type": "markdown",
   "metadata": {
    "slideshow": {
     "slide_type": "subslide"
    }
   },
   "source": [
    "#### Investigate if the totalDocuments and Target are independent\n",
    "\n",
    "We want to investigate if defaults can be explained by low number of provided documents \n",
    "\n",
    "_method cross-tabulation, chi square_\n",
    "Assumptions:\n",
    "* independence\n",
    "* cell number should be higher than 5\n",
    "\n",
    "Null hypotesis:target variable is independent of number of documents provided."
   ]
  },
  {
   "cell_type": "code",
   "execution_count": 44,
   "metadata": {
    "slideshow": {
     "slide_type": "fragment"
    }
   },
   "outputs": [
    {
     "data": {
      "text/html": [
       "<div>\n",
       "<style scoped>\n",
       "    .dataframe tbody tr th:only-of-type {\n",
       "        vertical-align: middle;\n",
       "    }\n",
       "\n",
       "    .dataframe tbody tr th {\n",
       "        vertical-align: top;\n",
       "    }\n",
       "\n",
       "    .dataframe thead th {\n",
       "        text-align: right;\n",
       "    }\n",
       "</style>\n",
       "<table border=\"1\" class=\"dataframe\">\n",
       "  <thead>\n",
       "    <tr style=\"text-align: right;\">\n",
       "      <th>totalDocuments</th>\n",
       "      <th>0</th>\n",
       "      <th>1</th>\n",
       "      <th>2</th>\n",
       "      <th>3</th>\n",
       "      <th>4</th>\n",
       "    </tr>\n",
       "    <tr>\n",
       "      <th>TARGET</th>\n",
       "      <th></th>\n",
       "      <th></th>\n",
       "      <th></th>\n",
       "      <th></th>\n",
       "      <th></th>\n",
       "    </tr>\n",
       "  </thead>\n",
       "  <tbody>\n",
       "    <tr>\n",
       "      <td>0</td>\n",
       "      <td>27917</td>\n",
       "      <td>247239</td>\n",
       "      <td>7383</td>\n",
       "      <td>147</td>\n",
       "      <td>0</td>\n",
       "    </tr>\n",
       "    <tr>\n",
       "      <td>1</td>\n",
       "      <td>1632</td>\n",
       "      <td>22817</td>\n",
       "      <td>359</td>\n",
       "      <td>16</td>\n",
       "      <td>1</td>\n",
       "    </tr>\n",
       "  </tbody>\n",
       "</table>\n",
       "</div>"
      ],
      "text/plain": [
       "totalDocuments      0       1     2    3  4\n",
       "TARGET                                     \n",
       "0               27917  247239  7383  147  0\n",
       "1                1632   22817   359   16  1"
      ]
     },
     "execution_count": 44,
     "metadata": {},
     "output_type": "execute_result"
    }
   ],
   "source": [
    "hu=pd.crosstab(coro['TARGET'],coro['totalDocuments'])\n",
    "hu.head()"
   ]
  },
  {
   "cell_type": "code",
   "execution_count": 45,
   "metadata": {
    "slideshow": {
     "slide_type": "fragment"
    }
   },
   "outputs": [
    {
     "name": "stdout",
     "output_type": "stream",
     "text": [
      "3.950449223466765e-95 p < 0.05 reject H0. Variables are not independent and \n",
      " there is a relationship between number of provided documents and default\n"
     ]
    }
   ],
   "source": [
    "##checking is there is association : H0=variables are independent\n",
    "from scipy import stats\n",
    "chi2, p, dof, ex=stats.chi2_contingency(hu)\n",
    "print(str(p)+\" p < 0.05 reject H0. Variables are not independent and \\n there is a relationship between number of provided documents and default\")"
   ]
  },
  {
   "cell_type": "markdown",
   "metadata": {
    "slideshow": {
     "slide_type": "subslide"
    }
   },
   "source": [
    "#### Binary if customer provided documents\n",
    "Derivating fetuare to see if those customers who have provided documents have not defalted\n",
    "\n",
    "##### 1 at least document was provided"
   ]
  },
  {
   "cell_type": "code",
   "execution_count": 73,
   "metadata": {
    "slideshow": {
     "slide_type": "fragment"
    }
   },
   "outputs": [
    {
     "data": {
      "text/plain": [
       "1    47997\n",
       "0      747\n",
       "Name: document_provided, dtype: int64"
      ]
     },
     "execution_count": 73,
     "metadata": {},
     "output_type": "execute_result"
    }
   ],
   "source": [
    "coro['document_provided']=coro['totalDocuments'].apply(lambda x: 1 if x > 0  else 0)\n",
    "d=coro['document_provided'].value_counts()\n",
    "d"
   ]
  },
  {
   "cell_type": "code",
   "execution_count": 74,
   "metadata": {
    "slideshow": {
     "slide_type": "fragment"
    }
   },
   "outputs": [
    {
     "data": {
      "image/png": "[encoded data removed]",
      "text/plain": [
       "<Figure size 720x72 with 1 Axes>"
      ]
     },
     "metadata": {
      "needs_background": "light"
     },
     "output_type": "display_data"
    }
   ],
   "source": [
    "plt.figure(figsize=(10,1))\n",
    "plt.barh(d.index,d.values,color=chooseColor())\n",
    "plt.title(\"Documents provided by customer\")\n",
    "y_pos = nm.arange(len(d.index))\n",
    "\n",
    "        # Create names on the y-axis\n",
    "plt.yticks(y_pos, ['Not provided','Provided'])\n",
    "plt.show()"
   ]
  },
  {
   "cell_type": "code",
   "execution_count": 75,
   "metadata": {
    "slideshow": {
     "slide_type": "-"
    }
   },
   "outputs": [],
   "source": [
    "application1=application1[application1.columns.drop(list(application1.filter(regex='FLAG_DOCUMENT_')))]\n",
    "application1['document_provided']=coro['document_provided']\n",
    "application1['totalDocuments']=coro['totalDocuments']\n"
   ]
  },
  {
   "cell_type": "markdown",
   "metadata": {
    "slideshow": {
     "slide_type": "slide"
    }
   },
   "source": [
    "## 7.Sum current credit (quantitative)\n",
    "\n",
    "Investigate if there is a relationship between sum of current credits and credit default\n"
   ]
  },
  {
   "cell_type": "code",
   "execution_count": 76,
   "metadata": {
    "slideshow": {
     "slide_type": "fragment"
    }
   },
   "outputs": [
    {
     "name": "stdout",
     "output_type": "stream",
     "text": [
      "percent of matching records: 0.8682094206466436\n"
     ]
    },
    {
     "data": {
      "text/plain": [
       "count      42320.000\n",
       "mean      736497.536\n",
       "std      1679651.535\n",
       "min            0.000\n",
       "25%            0.000\n",
       "50%       207099.000\n",
       "75%       789801.131\n",
       "max     65441403.000\n",
       "Name: debt, dtype: float64"
      ]
     },
     "execution_count": 76,
     "metadata": {},
     "output_type": "execute_result"
    }
   ],
   "source": [
    "##current credit volume\n",
    "bureau['AMT_CREDIT_SUM_DEBT']=bureau['AMT_CREDIT_SUM_DEBT'].fillna(0).abs()\n",
    "credit=pd.DataFrame({'SK_ID_CURR':bureau['SK_ID_CURR'], 'debt':bureau['AMT_CREDIT_SUM_DEBT']})\n",
    "credit=credit.groupby(by='SK_ID_CURR').sum().reset_index()\n",
    "application3=checkMatches(application1,credit)\n",
    "pd.set_option('display.float_format', lambda x: '%.3f' % x)\n",
    "application3['debt'].describe()\n",
    "\n",
    "\n"
   ]
  },
  {
   "cell_type": "code",
   "execution_count": 77,
   "metadata": {
    "slideshow": {
     "slide_type": "fragment"
    }
   },
   "outputs": [
    {
     "data": {
      "text/plain": [
       "<matplotlib.axes._subplots.AxesSubplot at 0x239023a88c8>"
      ]
     },
     "execution_count": 77,
     "metadata": {},
     "output_type": "execute_result"
    },
    {
     "data": {
      "image/png": "[encoded data removed]",
      "text/plain": [
       "<Figure size 432x288 with 1 Axes>"
      ]
     },
     "metadata": {
      "needs_background": "light"
     },
     "output_type": "display_data"
    }
   ],
   "source": [
    "plt.title(\"Existing debt no extreme values\")\n",
    "application3.boxplot(column='debt',showfliers=False, figsize=(5,5))"
   ]
  },
  {
   "cell_type": "markdown",
   "metadata": {
    "slideshow": {
     "slide_type": "slide"
    }
   },
   "source": [
    "## 8.Binary Repaid all credits\n",
    "\n",
    "Investigate if all previously taken credits have been repaid.\n",
    "\n",
    "#### 1 if all the taken credit have been repaid"
   ]
  },
  {
   "cell_type": "code",
   "execution_count": 78,
   "metadata": {
    "slideshow": {
     "slide_type": "fragment"
    }
   },
   "outputs": [
    {
     "name": "stdout",
     "output_type": "stream",
     "text": [
      "percent of matching records: 0.8682094206466436\n"
     ]
    },
    {
     "data": {
      "text/plain": [
       "0.000    34743\n",
       "1.000     7577\n",
       "Name: repaidCredit, dtype: int64"
      ]
     },
     "execution_count": 78,
     "metadata": {},
     "output_type": "execute_result"
    }
   ],
   "source": [
    "##if al credit talen by customer have been repaid\n",
    "bureau['CREDIT_SCORE']=bureau['CREDIT_ACTIVE'].apply(lambda x :1 if x==\"Closed\" else -200)\n",
    "nn={'SK_ID_CURR':bureau['SK_ID_CURR'],'repaidCredit':bureau['CREDIT_SCORE']}\n",
    "gooCustomer=pd.DataFrame(nn)\n",
    "gooCustomer=gooCustomer.groupby(by='SK_ID_CURR').sum().reset_index()\n",
    "gooCustomer['repaidCredit']=gooCustomer['repaidCredit'].apply(lambda x:1 if x>0 else 0)\n",
    "application4= checkMatches(application3, gooCustomer)\n",
    "d= application4['repaidCredit'].value_counts()\n",
    "d\n"
   ]
  },
  {
   "cell_type": "code",
   "execution_count": 79,
   "metadata": {
    "slideshow": {
     "slide_type": "fragment"
    }
   },
   "outputs": [
    {
     "data": {
      "image/png": "[encoded data removed]",
      "text/plain": [
       "<Figure size 720x72 with 1 Axes>"
      ]
     },
     "metadata": {
      "needs_background": "light"
     },
     "output_type": "display_data"
    }
   ],
   "source": [
    "plt.figure(figsize=(10,1))\n",
    "plt.barh(d.index,d.values,color=chooseColor())\n",
    "plt.title(\"All credits been repaid\")\n",
    "y_pos = nm.arange(len(d.index))\n",
    " \n",
    "\n",
    " \n",
    "        # Create names on the y-axis\n",
    "plt.yticks(y_pos, ['No details provided','All been repaid'])\n",
    "plt.show()"
   ]
  },
  {
   "cell_type": "markdown",
   "metadata": {
    "slideshow": {
     "slide_type": "slide"
    }
   },
   "source": [
    "## 9.Binary Repaid Last Credit\n",
    " #### 1 if repaid\n",
    " \n",
    " The number of defaulted customers is low so we will only study not defaulted customers\n",
    " \n",
    " "
   ]
  },
  {
   "cell_type": "code",
   "execution_count": 80,
   "metadata": {
    "slideshow": {
     "slide_type": "fragment"
    }
   },
   "outputs": [
    {
     "name": "stdout",
     "output_type": "stream",
     "text": [
      "repaid customers: 256424 defauled customers: 7055\n",
      "percent of matching records: 0.7432504513376005\n"
     ]
    },
    {
     "data": {
      "text/plain": [
       "1    36229\n",
       "0    12515\n",
       "Name: repaidLastCredit, dtype: int64"
      ]
     },
     "execution_count": 80,
     "metadata": {},
     "output_type": "execute_result"
    }
   ],
   "source": [
    "##bureau1 = pd.read_csv(\"bureau.csv\")\n",
    "##if the last credit has been repaid\n",
    "lastCredit=pd.DataFrame({\"dateClosed\":bureau['DAYS_CREDIT_ENDDATE'],'SK_ID_CURR':bureau['SK_ID_CURR'],'status':bureau['CREDIT_ACTIVE']})\n",
    "lastCredit['dateClosed']=lastCredit['dateClosed'].apply(lambda x :x if x<=0 else 1)\n",
    "lastCredit['status']=lastCredit['status'].apply(lambda x :1 if x==\"Closed\" else 0)\n",
    "lastCredit=lastCredit[lastCredit['dateClosed']<=0]\n",
    "lastCredit=lastCredit.groupby(by='SK_ID_CURR').max().reset_index()\n",
    "lastCreditPaid=pd.DataFrame(lastCredit[lastCredit['status']==1])\n",
    "lastCreditFail=pd.DataFrame(lastCredit[lastCredit['status']==0])\n",
    "print(\"repaid customers: \"+str(len(lastCreditPaid))+ \" defauled customers: \"+ str(len(lastCreditFail)))\n",
    "lastCreditPaid.drop('status',axis=1)\n",
    "lastCreditFail.drop('status',axis=1)\n",
    "application5= checkMatches(application4,lastCreditPaid)\n",
    "application5['repaidLastCredit']= application5['dateClosed'].apply(lambda x:1 if x<=0 else 0)\n",
    "application5=application5.drop('dateClosed',axis=1)\n",
    "application5=application5.drop('status', axis=1)\n",
    "d= application5['repaidLastCredit'].value_counts()\n",
    "d\n"
   ]
  },
  {
   "cell_type": "code",
   "execution_count": 81,
   "metadata": {
    "slideshow": {
     "slide_type": "fragment"
    }
   },
   "outputs": [
    {
     "data": {
      "image/png": "[encoded data removed]",
      "text/plain": [
       "<Figure size 720x72 with 1 Axes>"
      ]
     },
     "metadata": {
      "needs_background": "light"
     },
     "output_type": "display_data"
    }
   ],
   "source": [
    "plt.figure(figsize=(10,1))\n",
    "plt.barh(d.index,d.values,color=chooseColor())\n",
    "plt.title(\"The customers who repaid the last credit\")\n",
    "y_pos = nm.arange(len(d.index))\n",
    " \n",
    "        # Create horizontal bars\n",
    "plt.barh( d.index, d.values)\n",
    " \n",
    "        # Create names on the y-axis\n",
    "plt.yticks(y_pos, ['No details','Repaid'])\n",
    "plt.show()"
   ]
  },
  {
   "cell_type": "markdown",
   "metadata": {
    "slideshow": {
     "slide_type": "slide"
    }
   },
   "source": [
    "<h1> <u>AVAILABLE VARIABLES AFTER FEATURE ENGINEERING</u></h1>"
   ]
  },
  {
   "cell_type": "code",
   "execution_count": 82,
   "metadata": {
    "slideshow": {
     "slide_type": "subslide"
    }
   },
   "outputs": [
    {
     "data": {
      "text/plain": [
       "Index(['SK_ID_CURR', 'NAME_CONTRACT_TYPE', 'CODE_GENDER', 'FLAG_OWN_CAR',\n",
       "       'FLAG_OWN_REALTY', 'CNT_CHILDREN', 'AMT_INCOME_TOTAL', 'AMT_CREDIT',\n",
       "       'AMT_ANNUITY', 'AMT_GOODS_PRICE', 'NAME_TYPE_SUITE', 'NAME_INCOME_TYPE',\n",
       "       'NAME_EDUCATION_TYPE', 'NAME_FAMILY_STATUS', 'NAME_HOUSING_TYPE',\n",
       "       'REGION_POPULATION_RELATIVE', 'DAYS_REGISTRATION', 'DAYS_ID_PUBLISH',\n",
       "       'FLAG_MOBIL', 'FLAG_EMP_PHONE', 'FLAG_WORK_PHONE', 'FLAG_CONT_MOBILE',\n",
       "       'FLAG_PHONE', 'FLAG_EMAIL', 'OCCUPATION_TYPE', 'CNT_FAM_MEMBERS',\n",
       "       'REGION_RATING_CLIENT', 'REGION_RATING_CLIENT_W_CITY',\n",
       "       'WEEKDAY_APPR_PROCESS_START', 'HOUR_APPR_PROCESS_START',\n",
       "       'REG_REGION_NOT_LIVE_REGION', 'REG_REGION_NOT_WORK_REGION',\n",
       "       'LIVE_REGION_NOT_WORK_REGION', 'REG_CITY_NOT_LIVE_CITY',\n",
       "       'REG_CITY_NOT_WORK_CITY', 'LIVE_CITY_NOT_WORK_CITY',\n",
       "       'ORGANIZATION_TYPE', 'EXT_SOURCE_1', 'EXT_SOURCE_2', 'EXT_SOURCE_3',\n",
       "       'APARTMENTS_AVG', 'YEARS_BEGINEXPLUATATION_AVG', 'ENTRANCES_AVG',\n",
       "       'FLOORSMAX_AVG', 'LIVINGAREA_AVG', 'APARTMENTS_MODE',\n",
       "       'YEARS_BEGINEXPLUATATION_MODE', 'ENTRANCES_MODE', 'FLOORSMAX_MODE',\n",
       "       'LIVINGAREA_MODE', 'APARTMENTS_MEDI', 'YEARS_BEGINEXPLUATATION_MEDI',\n",
       "       'ENTRANCES_MEDI', 'FLOORSMAX_MEDI', 'LIVINGAREA_MEDI', 'HOUSETYPE_MODE',\n",
       "       'TOTALAREA_MODE', 'WALLSMATERIAL_MODE', 'EMERGENCYSTATE_MODE',\n",
       "       'OBS_30_CNT_SOCIAL_CIRCLE', 'DEF_30_CNT_SOCIAL_CIRCLE',\n",
       "       'OBS_60_CNT_SOCIAL_CIRCLE', 'DEF_60_CNT_SOCIAL_CIRCLE',\n",
       "       'DAYS_LAST_PHONE_CHANGE', 'AMT_REQ_CREDIT_BUREAU_HOUR',\n",
       "       'AMT_REQ_CREDIT_BUREAU_DAY', 'AMT_REQ_CREDIT_BUREAU_WEEK',\n",
       "       'AMT_REQ_CREDIT_BUREAU_MON', 'AMT_REQ_CREDIT_BUREAU_QRT',\n",
       "       'AMT_REQ_CREDIT_BUREAU_YEAR', 'overdue', 'new_customer',\n",
       "       'lastContractStatus', 'YEARS_BIRTH', 'MONTHS_EMPLOYED',\n",
       "       'document_provided', 'totalDocuments', 'debt', 'repaidCredit',\n",
       "       'repaidLastCredit'],\n",
       "      dtype='object')"
      ]
     },
     "execution_count": 82,
     "metadata": {},
     "output_type": "execute_result"
    }
   ],
   "source": [
    "application5.columns"
   ]
  },
  {
   "cell_type": "markdown",
   "metadata": {
    "slideshow": {
     "slide_type": "slide"
    }
   },
   "source": [
    "<h1><u> QUANTITATIVE DATA REVIEW </u></h1>\n",
    "\n",
    "Start with studing correlation between target and available variables we will follow to review the relationship on the pairplot. \n"
   ]
  },
  {
   "cell_type": "code",
   "execution_count": null,
   "metadata": {
    "slideshow": {
     "slide_type": "-"
    }
   },
   "outputs": [],
   "source": [
    "quant= application5[['TARGET','CNT_CHILDREN', 'AMT_INCOME_TOTAL', 'AMT_CREDIT', 'AMT_ANNUITY', 'AMT_GOODS_PRICE',  'DAYS_REGISTRATION', 'DAYS_ID_PUBLISH',  'CNT_FAM_MEMBERS', \n",
    "          'HOUR_APPR_PROCESS_START', 'EXT_SOURCE_2','REGION_POPULATION_RELATIVE', 'EXT_SOURCE_3','YEARS_BEGINEXPLUATATION_AVG', 'FLOORSMAX_AVG',\n",
    "        'YEARS_BEGINEXPLUATATION_MODE', 'FLOORSMAX_MODE', 'YEARS_BEGINEXPLUATATION_MEDI', 'FLOORSMAX_MEDI', 'TOTALAREA_MODE',\n",
    " 'OBS_30_CNT_SOCIAL_CIRCLE', 'DEF_30_CNT_SOCIAL_CIRCLE', 'OBS_60_CNT_SOCIAL_CIRCLE', 'DEF_60_CNT_SOCIAL_CIRCLE', 'DAYS_LAST_PHONE_CHANGE', \n",
    "        'AMT_REQ_CREDIT_BUREAU_HOUR', 'AMT_REQ_CREDIT_BUREAU_DAY', 'AMT_REQ_CREDIT_BUREAU_WEEK', 'AMT_REQ_CREDIT_BUREAU_MON', 'AMT_REQ_CREDIT_BUREAU_QRT', 'AMT_REQ_CREDIT_BUREAU_YEAR',\n",
    "'YEARS_BIRTH', 'MONTHS_EMPLOYED',  'totalDocuments', 'debt']]\n"
   ]
  },
  {
   "cell_type": "markdown",
   "metadata": {
    "slideshow": {
     "slide_type": "subslide"
    }
   },
   "source": [
    "## Correlation with target variable\n",
    "\n",
    "Using Spearman correlation to investigate if there is any relationship between target variable and other quantitative fetuares\n",
    "\n",
    "Spearman correlation assumptions:\n",
    "- same level of measurement\n",
    "- related pairs\n",
    "- absence of outliers\n",
    "- normality of variables\n",
    "- linearity\n",
    "- homoscedasticity"
   ]
  },
  {
   "cell_type": "code",
   "execution_count": null,
   "metadata": {
    "scrolled": true,
    "slideshow": {
     "slide_type": "subslide"
    }
   },
   "outputs": [],
   "source": [
    "from sklearn.preprocessing import MinMaxScaler \n",
    "scaler = MinMaxScaler()\n",
    "scaler.fit(quant)\n",
    "qnt=pd.DataFrame(scaler.transform(quant), columns= quant.columns)\n",
    "quant.corr('spearman')['TARGET'].sort_values(ascending=False)"
   ]
  },
  {
   "cell_type": "markdown",
   "metadata": {
    "slideshow": {
     "slide_type": "subslide"
    }
   },
   "source": [
    "The correlation resultis are rather poor so to continue with our analysis we wlll keep only features with at least 4% correlation.\n",
    "Data visualisation will help us to see if data distribution, linearity, absence of outliers. The purpose of the data visualisation analysis is to investigate what variables should be chosen for model built with help of logistic regression and how they need to be preprocessed."
   ]
  },
  {
   "cell_type": "markdown",
   "metadata": {
    "slideshow": {
     "slide_type": "slide"
    }
   },
   "source": [
    "## Data Visulaization and Outliers Identification"
   ]
  },
  {
   "cell_type": "code",
   "execution_count": null,
   "metadata": {
    "scrolled": true,
    "slideshow": {
     "slide_type": "subslide"
    }
   },
   "outputs": [],
   "source": [
    "import seaborn as s\n",
    "visual=quant[['TARGET','AMT_INCOME_TOTAL','DAYS_LAST_PHONE_CHANGE','DAYS_ID_PUBLISH','debt',\n",
    "'DAYS_REGISTRATION','DEF_30_CNT_SOCIAL_CIRCLE','FLOORSMAX_AVG','MONTHS_EMPLOYED','YEARS_BIRTH','EXT_SOURCE_2','EXT_SOURCE_3']]\n",
    "s.pairplot(visual)"
   ]
  },
  {
   "cell_type": "markdown",
   "metadata": {
    "slideshow": {
     "slide_type": "subslide"
    }
   },
   "source": [
    "We can identify outliers in debt, default 30 days count in the social circle as well as the income columns.\n",
    "the distribution of variables is not normal.\n"
   ]
  },
  {
   "cell_type": "markdown",
   "metadata": {
    "slideshow": {
     "slide_type": "slide"
    }
   },
   "source": [
    "<h1><u> Preparing and cleaning the data </u></h1>\n",
    "\n",
    "## Processing missing values\n",
    "\n",
    "The dataset still includes some missing values\n",
    "The following is the methods to replace them:\n",
    "\n",
    "- quantitative variable replaced with the variable median\n",
    "- categorical variables replaced with the variable frequency\n",
    "- binary depending on case: 0 or add 3 option\n",
    "\n",
    "Extreme values are removed(1% of top observations )\n",
    "Y,N columns are refactored to 1,0\n",
    "Data is normalized to fit with previously normilized data\n"
   ]
  },
  {
   "cell_type": "markdown",
   "metadata": {
    "slideshow": {
     "slide_type": "subslide"
    }
   },
   "source": [
    "## Spliting labeled data into test and train. ratio 0,3/0,7\n",
    "Further analysis require data splitting into test and train data.\n",
    "* Train data in to be used for mode training\n",
    "* Test data is used to evaluate the model\n",
    "\n",
    "Training data shape and available columns:"
   ]
  },
  {
   "cell_type": "code",
   "execution_count": 83,
   "metadata": {
    "slideshow": {
     "slide_type": "skip"
    }
   },
   "outputs": [],
   "source": [
    "def flagReplace(list,data):\n",
    "    for i in list:\n",
    "        data[i]=data[i].apply(lambda x:1 if x==\"Y\" else 0)\n",
    "    return data"
   ]
  },
  {
   "cell_type": "code",
   "execution_count": 84,
   "metadata": {
    "slideshow": {
     "slide_type": "skip"
    }
   },
   "outputs": [],
   "source": [
    "def removeOutliers(array,data):\n",
    "    for i in array:\n",
    "        quant=data[i].quantile(0.99)\n",
    "        med=data[i].median()\n",
    "        ##data[i]=data[i][data[i]<quant]\n",
    "        data[i]=data[i].apply(lambda x:med if x >quant else x)\n",
    "    return data"
   ]
  },
  {
   "cell_type": "code",
   "execution_count": 85,
   "metadata": {
    "slideshow": {
     "slide_type": "skip"
    }
   },
   "outputs": [],
   "source": [
    "def replaceColumn(list,train1, train):\n",
    "    for i in list:\n",
    "        train[i]=train1[i]\n",
    "    return train\n",
    "\n",
    "def fillNaNumber(list,train, number):\n",
    "    for i in list:\n",
    "        if number==\"median\":\n",
    "            train[i]=train[i].fillna(train[i].median())\n",
    "           \n",
    "        elif number== \"freq\":\n",
    "            train[i] = train[i].fillna(train[i].value_counts().index[0])\n",
    "        else:\n",
    "            train[i]=train[i].fillna(number)\n",
    "    return train"
   ]
  },
  {
   "cell_type": "code",
   "execution_count": 87,
   "metadata": {
    "slideshow": {
     "slide_type": "skip"
    }
   },
   "outputs": [],
   "source": [
    "prp= application5[['SK_ID_CURR','TARGET','EXT_SOURCE_2','EXT_SOURCE_3','debt','CNT_CHILDREN','new_customer','totalDocuments','overdue','lastContractStatus','document_provided','repaidCredit','repaidLastCredit','AMT_INCOME_TOTAL','DAYS_LAST_PHONE_CHANGE','DAYS_ID_PUBLISH','DAYS_REGISTRATION',\n",
    "                    'DEF_30_CNT_SOCIAL_CIRCLE','FLOORSMAX_AVG','MONTHS_EMPLOYED','YEARS_BIRTH','CNT_FAM_MEMBERS', 'CODE_GENDER','FLAG_OWN_CAR', 'FLAG_OWN_REALTY']]\n",
    "prp=fillNaNumber(['EXT_SOURCE_2','EXT_SOURCE_3','debt','CNT_CHILDREN','new_customer','totalDocuments','document_provided','repaidLastCredit'],prp,0)\n",
    "prp=fillNaNumber(['repaidCredit','overdue','lastContractStatus'],prp,2)\n",
    "prp=fillNaNumber(['AMT_INCOME_TOTAL','DAYS_LAST_PHONE_CHANGE','DAYS_ID_PUBLISH','DAYS_REGISTRATION',\n",
    "                    'DEF_30_CNT_SOCIAL_CIRCLE','FLOORSMAX_AVG','MONTHS_EMPLOYED','YEARS_BIRTH','CNT_CHILDREN'],prp,\"median\")\n",
    "prp=fillNaNumber(['CNT_FAM_MEMBERS', 'CODE_GENDER','FLAG_OWN_CAR', 'FLAG_OWN_REALTY'],prp,\"freq\")\n",
    "prp=flagReplace(['FLAG_OWN_CAR','FLAG_OWN_REALTY'],prp)\n",
    "prp['CODE_GENDER']=prp['CODE_GENDER'].apply(lambda x :1 if x==\"M\" else 2)\n",
    "prp=removeOutliers(['AMT_INCOME_TOTAL','debt','DEF_30_CNT_SOCIAL_CIRCLE'],prp)\n",
    "\n",
    "from sklearn.preprocessing import MinMaxScaler \n",
    "scaler = MinMaxScaler()\n",
    "arr=['debt','AMT_INCOME_TOTAL','DAYS_LAST_PHONE_CHANGE','DAYS_ID_PUBLISH','DAYS_REGISTRATION','DEF_30_CNT_SOCIAL_CIRCLE','FLOORSMAX_AVG','MONTHS_EMPLOYED','YEARS_BIRTH']\n",
    "norm = pd.DataFrame(prp[arr], columns=arr)\n",
    "scaler.fit(norm)\n",
    "trainN=pd.DataFrame(scaler.transform(norm), columns=arr)\n",
    "\n",
    "t=replaceColumn(arr,trainN,prp)\n",
    "final= t\n"
   ]
  },
  {
   "cell_type": "code",
   "execution_count": null,
   "metadata": {
    "slideshow": {
     "slide_type": "skip"
    }
   },
   "outputs": [],
   "source": [
    "from sklearn.model_selection import train_test_split\n",
    "import statsmodels.formula.api as smf\n",
    "train, test = train_test_split(final, test_size=0.3, random_state=1)\n",
    "train.shape"
   ]
  },
  {
   "cell_type": "code",
   "execution_count": null,
   "metadata": {
    "slideshow": {
     "slide_type": "subslide"
    }
   },
   "outputs": [],
   "source": [
    "train.columns"
   ]
  },
  {
   "cell_type": "markdown",
   "metadata": {
    "slideshow": {
     "slide_type": "fragment"
    }
   },
   "source": [
    "Our dataset is inbalanced so accuracy is not good measure here, it only takes into account only number of correct assesments( TP and TN). \n",
    "\n",
    "For the further analysis AUC is better measure it takes both TP and FP"
   ]
  },
  {
   "cell_type": "markdown",
   "metadata": {
    "slideshow": {
     "slide_type": "slide"
    }
   },
   "source": [
    "## Logistic regression: selecting model parameters \n",
    "_using rsquare to identify most beneficial linear and polynomial models_\n",
    "\n",
    "Looping thought all available combinations of variables we add new variable to our formula is Rsquared is increased and pvalues of the cooficientis not higher than 0,05\n",
    "\n",
    "We conduct optimal model parameter search for linear model first after for polynomial squared component degree.In the latter case we compare if adding polynomial component is more beneficial than adding linear.\n",
    "\n",
    "\n"
   ]
  },
  {
   "cell_type": "code",
   "execution_count": null,
   "metadata": {
    "slideshow": {
     "slide_type": "skip"
    }
   },
   "outputs": [],
   "source": [
    "def findlinear(prepare,train):\n",
    "    results={}\n",
    "    formul=\"TARGET~\"\n",
    "    for cl in prepare:\n",
    "        formul1=formul\n",
    "        formul+=cl\n",
    "        res = smf.logit(formul, data = train).fit()\n",
    "        check=False\n",
    "        for p in res.pvalues.values:\n",
    "            if p>=0.05:\n",
    "                check=True\n",
    "                formul=formul1\n",
    "        if check == False:\n",
    "            results[formul]=res.prsquared\n",
    "            formul+=\"+\"\n",
    "    return pd.Series(results)\n",
    "\n",
    "def findPolyn(prepare, power,train):\n",
    "    results={}\n",
    "    formul=\"TARGET~\"\n",
    "    for cl in prepare:\n",
    "        formul1=formul\n",
    "        if cl[0:2]!=\"C(\":\n",
    "            formulL=formul+cl\n",
    "            formulP=formul+\"nm.power( \"+cl+\" ,\"+str(power)+\" )\"\n",
    "            resL = smf.logit(formulL, data = train).fit()\n",
    "            resP= smf.logit(formulP, data = train).fit()\n",
    "            checkL=False\n",
    "            checkP=False\n",
    "            for p in resL.pvalues.values:\n",
    "                if p>=0.05:\n",
    "                    checkL=True\n",
    "                \n",
    "            for p in resP.pvalues.values:\n",
    "                if p>=0.05:\n",
    "                    checkP=True\n",
    "            final=\"\"\n",
    "            if  checkL==True and checkP==False:\n",
    "                formul= formulP\n",
    "                results[formul]=resP.prsquared\n",
    "                formul+=\"+\"\n",
    "            elif checkP==True and checkL==False:\n",
    "                formul= formulL\n",
    "                results[formul]=resL.prsquared\n",
    "                formul+=\"+\"\n",
    "            elif  checkL==False and checkP==False and resL.prsquared > resP.prsquared:\n",
    "                formul= formulL\n",
    "                results[formul]=resL.prsquared\n",
    "                formul+=\"+\"\n",
    "            elif  checkL==False and checkP==False and resL.prsquared < resP.prsquared:\n",
    "                formul= formulP\n",
    "                results[formul]=resP.prsquared\n",
    "                formul+=\"+\"\n",
    "            elif checkL==True and checkP==True:\n",
    "                formul=formul1\n",
    "        else:\n",
    "            formul+=cl\n",
    "            \n",
    "            res = smf.logit(formul, data = train).fit()\n",
    "            check=False\n",
    "            for p in res.pvalues.values:\n",
    "                if p>=0.05:\n",
    "                    check=True\n",
    "                    formul=formul1\n",
    "            if check == False:\n",
    "                results[formul]=res.prsquared\n",
    "                formul+=\"+\"\n",
    "        \n",
    "    return pd.Series(results)"
   ]
  },
  {
   "cell_type": "markdown",
   "metadata": {
    "slideshow": {
     "slide_type": "slide"
    }
   },
   "source": [
    "#### Formulae for linear  and baseline model\n",
    "\n",
    "payment default is dependent on the following factors:\n",
    "\n",
    "RSquared score is 0.079\n",
    "\n",
    "TARGET~EXT_SOURCE_2+EXT_SOURCE_3+debt+CNT_CHILDREN+totalDocuments+DAYS_LAST_PHONE_CHANGE+DAYS_ID_PUBLISH+DAYS_REGISTRATION+DEF_30_CNT_SOCIAL_CIRCLE+FLOORSMAX_AVG+MONTHS_EMPLOYED+CNT_FAM_MEMBERS+C(new_customer)+C(FLAG_OWN_CAR)+C(overdue)+C(document_provided)+C(repaidLastCredit)\n"
   ]
  },
  {
   "cell_type": "code",
   "execution_count": null,
   "metadata": {
    "scrolled": true,
    "slideshow": {
     "slide_type": "-"
    }
   },
   "outputs": [],
   "source": [
    "'''\n",
    "prepare= ['EXT_SOURCE_2', 'EXT_SOURCE_3','totalDocuments','DAYS_LAST_PHONE_CHANGE','debt','FLOORSMAX_AVG', 'MONTHS_EMPLOYED', 'YEARS_BIRTH', 'CNT_FAM_MEMBERS',\n",
    "       'CNT_CHILDREN', 'AMT_INCOME_TOTAL', 'DAYS_ID_PUBLISH', 'DAYS_REGISTRATION', 'DEF_30_CNT_SOCIAL_CIRCLE',\n",
    "          'C(FLAG_OWN_CAR)', 'C(FLAG_OWN_REALTY)','C(new_customer)', 'C(overdue)',\n",
    "         'C(repaidCredit)','C(repaidLastCredit)']\n",
    "\n",
    "'''\n",
    "prepare= ['EXT_SOURCE_2', 'EXT_SOURCE_3', 'debt',\n",
    "       'CNT_CHILDREN', 'totalDocuments',\n",
    "        'AMT_INCOME_TOTAL', 'DAYS_LAST_PHONE_CHANGE',\n",
    "       'DAYS_ID_PUBLISH', 'DAYS_REGISTRATION', 'DEF_30_CNT_SOCIAL_CIRCLE',\n",
    "       'FLOORSMAX_AVG', 'MONTHS_EMPLOYED', 'YEARS_BIRTH', 'CNT_FAM_MEMBERS','C(new_customer)',\n",
    "       'C(FLAG_OWN_CAR)', 'C(FLAG_OWN_REALTY)', 'C(overdue)',\n",
    "        'C(document_provided)', 'C(repaidCredit)','C(repaidLastCredit)','C(lastContractStatus)']\n",
    "linear=findlinear(prepare,train)\n",
    "print(linear.sort_values(ascending=False).head(3))\n"
   ]
  },
  {
   "cell_type": "markdown",
   "metadata": {
    "slideshow": {
     "slide_type": "slide"
    }
   },
   "source": [
    "### Formulas for polymonial model\n",
    "\n",
    "Rsquare measure for the best model: 0.81\n",
    "\n",
    "EXT_SOURCE_2+ EXT_SOURCE_3^2+debt+CNT_CHILDREN+totalDocuments+AMT_INCOME_TOTAL^2+DAYS_LAST_PHONE_CHANGE^2+DAYS_ID_PUBLISH^2 + DAYS_REGISTRATION^2+DEF_30_CNT_SOCIAL_CIRCLE+MONTHS_EMPLOYED+CNT_FAM_MEMBERS^2+overdue+document_provided+repaidLastCredit+lastContractStatus\n",
    "\n",
    "a less performant polynomial models:\n",
    "\n",
    "EXT_SOURCE_2+ EXT_SOURCE_3^2+debt+CNT_CHILDREN+totalDocuments+AMT_INCOME_TOTAL^2+DAYS_LAST_PHONE_CHANGE^2+DAYS_ID_PUBLISH^2 + DAYS_REGISTRATION^2+DEF_30_CNT_SOCIAL_CIRCLE+MONTHS_EMPLOYED+CNT_FAM_MEMBERS^2+overdue+document_provided+repaidLastCredit\n",
    "\n",
    "EXT_SOURCE_2+ EXT_SOURCE_3^2+debt+CNT_CHILDREN+totalDocuments+AMT_INCOME_TOTAL^2+DAYS_LAST_PHONE_CHANGE^2+DAYS_ID_PUBLISH^2 + DAYS_REGISTRATION^2+DEF_30_CNT_SOCIAL_CIRCLE+MONTHS_EMPLOYED+CNT_FAM_MEMBERS^2+overdue+document_provided"
   ]
  },
  {
   "cell_type": "code",
   "execution_count": null,
   "metadata": {
    "slideshow": {
     "slide_type": "-"
    }
   },
   "outputs": [],
   "source": [
    "polynomial=findPolyn(prepare,2,train)\n",
    "print(polynomial.sort_values(ascending=False).head(3))"
   ]
  },
  {
   "cell_type": "markdown",
   "metadata": {
    "slideshow": {
     "slide_type": "slide"
    }
   },
   "source": [
    "### Compare models based on 6 selected formulas\n",
    "\n",
    "\n",
    "3 best performant linear models and 3 best performant polynomial\n",
    "\n",
    "Assessing with McFadden's pseudo R2 and RMSE\n",
    "\n",
    "R-squared is used to calculate the goodness of fit of a model. Regression R-squared has higher values between 0 and 1 for pseudo R squred the values are somehow smaller. Good fit according to McFadden is around 0.2 -0.4\n",
    "R squared is Explained variation / Total variation\n",
    "Pseudo R squared is the ratio of explained log likelihood and  intercept log likelihood\n",
    "\n",
    "Root Mean Square Error is the measure that shows deviation of residuals from the model\n",
    "\n",
    "We like to maximze Pseudo Rsquared but minimize RMSE"
   ]
  },
  {
   "cell_type": "code",
   "execution_count": null,
   "metadata": {
    "slideshow": {
     "slide_type": "subslide"
    }
   },
   "outputs": [],
   "source": [
    "\n",
    "formulas=['TARGET~EXT_SOURCE_2+EXT_SOURCE_3+debt+CNT_CHILDREN+totalDocuments+DAYS_LAST_PHONE_CHANGE+DAYS_ID_PUBLISH+DAYS_REGISTRATION+DEF_30_CNT_SOCIAL_CIRCLE+FLOORSMAX_AVG+MONTHS_EMPLOYED+CNT_FAM_MEMBERS+C(new_customer)+C(FLAG_OWN_CAR)+C(overdue)+C(document_provided)+C(repaidLastCredit)',\n",
    "'TARGET~EXT_SOURCE_2+EXT_SOURCE_3+debt+CNT_CHILDREN+totalDocuments+DAYS_LAST_PHONE_CHANGE+DAYS_ID_PUBLISH+DAYS_REGISTRATION+DEF_30_CNT_SOCIAL_CIRCLE+FLOORSMAX_AVG+MONTHS_EMPLOYED+CNT_FAM_MEMBERS+C(new_customer)+C(FLAG_OWN_CAR)+C(overdue)+C(document_provided)',\n",
    "'TARGET~EXT_SOURCE_2+EXT_SOURCE_3+debt+CNT_CHILDREN+totalDocuments+DAYS_LAST_PHONE_CHANGE+DAYS_ID_PUBLISH+DAYS_REGISTRATION+DEF_30_CNT_SOCIAL_CIRCLE+FLOORSMAX_AVG+MONTHS_EMPLOYED+CNT_FAM_MEMBERS+C(new_customer)+C(FLAG_OWN_CAR)+C(overdue) ']\n",
    "    \n",
    "sqrtFormulas=['TARGET~EXT_SOURCE_2+nm.power( EXT_SOURCE_3 ,2 )+debt+CNT_CHILDREN+totalDocuments+nm.power( AMT_INCOME_TOTAL ,2 )+DAYS_LAST_PHONE_CHANGE+DAYS_ID_PUBLISH+DAYS_REGISTRATION+DEF_30_CNT_SOCIAL_CIRCLE+FLOORSMAX_AVG+MONTHS_EMPLOYED+CNT_FAM_MEMBERS+C(new_customer)+C(overdue)+C(document_provided)+C(repaidCredit)+C(repaidLastCredit)',\n",
    "'TARGET~EXT_SOURCE_2+nm.power( EXT_SOURCE_3 ,2 )+debt+CNT_CHILDREN+totalDocuments+nm.power( AMT_INCOME_TOTAL ,2 )+DAYS_LAST_PHONE_CHANGE+DAYS_ID_PUBLISH+DAYS_REGISTRATION+DEF_30_CNT_SOCIAL_CIRCLE+FLOORSMAX_AVG+MONTHS_EMPLOYED+CNT_FAM_MEMBERS+C(new_customer)+C(overdue)+C(document_provided)+C(repaidCredit)',\n",
    "'TARGET~EXT_SOURCE_2+nm.power( EXT_SOURCE_3 ,2 )+debt+CNT_CHILDREN+totalDocuments+nm.power( AMT_INCOME_TOTAL ,2 )+DAYS_LAST_PHONE_CHANGE+DAYS_ID_PUBLISH+DAYS_REGISTRATION+DEF_30_CNT_SOCIAL_CIRCLE+FLOORSMAX_AVG+MONTHS_EMPLOYED+CNT_FAM_MEMBERS+C(new_customer)+C(overdue)+C(document_provided)']\n",
    "def compareMods(formulas,train):\n",
    "    for f in formulas:\n",
    "        res = smf.logit(f, data = train).fit()\n",
    "        print(\"R^2: \"+str(res.prsquared)+\" RMSE: \"+ str(nm.sqrt(nm.square(res.resid_response).sum()) / len(res.resid_response)))\n",
    "print(\"----------------Linear Models-----------------\")  \n",
    "compareMods(formulas,train)\n",
    "print(\"----------------Polynomial Models-----------------\")\n",
    "compareMods(sqrtFormulas,train)"
   ]
  },
  {
   "cell_type": "markdown",
   "metadata": {
    "slideshow": {
     "slide_type": "fragment"
    }
   },
   "source": [
    "For further analysis we keep polynomial model as it has the most optimal performance:\n",
    "R^2: 0.08059479865821595 RMSE: 0.0005713327601124196"
   ]
  },
  {
   "cell_type": "markdown",
   "metadata": {
    "slideshow": {
     "slide_type": "slide"
    }
   },
   "source": [
    "### One- hot  encoding of categorical variables to proceed with cross validation\n",
    "\n",
    "To proceed with cross validation a different library is used that requires categorical variables encoding\n",
    "The following variables are encoded: \n",
    "* repaidCredit\n",
    "* overdue\n",
    "* lastContractStatus\n",
    "\n",
    "Available columns after one-hot encoding"
   ]
  },
  {
   "cell_type": "code",
   "execution_count": null,
   "metadata": {
    "slideshow": {
     "slide_type": "skip"
    }
   },
   "outputs": [],
   "source": [
    "dummies= pd.get_dummies(prp[['repaidCredit','overdue','lastContractStatus']], columns=['repaidCredit','overdue','lastContractStatus'])\n",
    "trainDummy=final\n",
    "trainDummy=trainDummy.drop(['repaidCredit','overdue','lastContractStatus'],axis=1)\n",
    "trainDummy=trainDummy.join(dummies)\n",
    "trainDummy.columns"
   ]
  },
  {
   "cell_type": "markdown",
   "metadata": {
    "slideshow": {
     "slide_type": "slide"
    }
   },
   "source": [
    "### Cross validation of linear and polynomial models\n",
    "\n",
    "In the former approach we have created the model using 70% of the data. We now will investigate if the linear is less performant than the polynomial model with a help of cross validation:\n",
    "\n",
    "- the whole dataset is split in 5 folds\n",
    "- each group is hold as a test data\n",
    "- other 4 groups are used to train model\n",
    "- the process is conducted for all 5 groups\n",
    "- the final score is avarage score of each group score"
   ]
  },
  {
   "cell_type": "code",
   "execution_count": null,
   "metadata": {
    "slideshow": {
     "slide_type": "skip"
    }
   },
   "outputs": [],
   "source": [
    "def CV(data,target):\n",
    "    clf = LogisticRegressionCV(cv=5, random_state=0, scoring=\"roc_auc\").fit(data, target)\n",
    "    print(\"AUC :\"+str(clf.score(data,target)))"
   ]
  },
  {
   "cell_type": "code",
   "execution_count": null,
   "metadata": {
    "slideshow": {
     "slide_type": "fragment"
    }
   },
   "outputs": [],
   "source": [
    "from sklearn.linear_model import LogisticRegressionCV\n",
    "\n",
    "target= trainDummy['TARGET']\n",
    "data= trainDummy[['EXT_SOURCE_2','EXT_SOURCE_3','debt','CNT_CHILDREN','new_customer','totalDocuments','DAYS_LAST_PHONE_CHANGE','DAYS_ID_PUBLISH','DAYS_REGISTRATION','DEF_30_CNT_SOCIAL_CIRCLE','FLOORSMAX_AVG','MONTHS_EMPLOYED','CNT_FAM_MEMBERS','FLAG_OWN_CAR','repaidCredit_0.0',\n",
    "       'repaidCredit_1.0', 'repaidCredit_2.0', 'overdue_0.0', 'overdue_1.0',\n",
    "       'overdue_2.0','lastContractStatus_0.0', 'lastContractStatus_1.0',\n",
    "       'lastContractStatus_2.0']]\n",
    "\n",
    "CV(data,target)\n"
   ]
  },
  {
   "cell_type": "code",
   "execution_count": null,
   "metadata": {
    "slideshow": {
     "slide_type": "fragment"
    }
   },
   "outputs": [],
   "source": [
    "trainDummySqrt=trainDummy\n",
    "trainDummySqrt['EXT_SOURCE_3']=trainDummySqrt['EXT_SOURCE_3']**2\n",
    "#trainDummySqrt['YEARS_BIRTH']=trainDummySqrt['YEARS_BIRTH']**2\n",
    "trainDummySqrt['AMT_INCOME_TOTAL']=trainDummySqrt['AMT_INCOME_TOTAL']**2\n",
    "data=trainDummySqrt[['EXT_SOURCE_2','EXT_SOURCE_3','debt','CNT_CHILDREN','new_customer','totalDocuments','AMT_INCOME_TOTAL','DAYS_LAST_PHONE_CHANGE','DAYS_ID_PUBLISH','DAYS_REGISTRATION','DEF_30_CNT_SOCIAL_CIRCLE','FLOORSMAX_AVG','MONTHS_EMPLOYED','CNT_FAM_MEMBERS','repaidCredit_0.0',\n",
    "       'repaidCredit_1.0', 'repaidCredit_2.0', 'overdue_0.0', 'overdue_1.0',\n",
    "       'overdue_2.0', 'document_provided', 'repaidLastCredit']]\n",
    "#data1=trainDummySqrt[['EXT_SOURCE_2','EXT_SOURCE_3','totalDocuments','DAYS_LAST_PHONE_CHANGE','debt','FLOORSMAX_AVG','MONTHS_EMPLOYED','YEARS_BIRTH','AMT_INCOME_TOTAL','DAYS_ID_PUBLISH','DAYS_REGISTRATION','DEF_30_CNT_SOCIAL_CIRCLE','new_customer_1','overdue_0.0', 'overdue_1.0', 'overdue_2.0']]\n",
    "#data2=trainDummySqrt[['EXT_SOURCE_2','EXT_SOURCE_3','totalDocuments','DAYS_LAST_PHONE_CHANGE','debt','FLOORSMAX_AVG','MONTHS_EMPLOYED','YEARS_BIRTH','AMT_INCOME_TOTAL','DAYS_ID_PUBLISH','DAYS_REGISTRATION','DEF_30_CNT_SOCIAL_CIRCLE','new_customer_1']]\n",
    "CV(data,target)\n",
    "#CV(data1,target)\n",
    "#CV(data2,target)\n"
   ]
  },
  {
   "cell_type": "markdown",
   "metadata": {
    "slideshow": {
     "slide_type": "subslide"
    }
   },
   "source": [
    "### ROC-AUC measure\n",
    "ROC plots performance of a classification model at all classification thresholds (0,...1 )\n",
    "It takes into account for both correctly predicted and uncorrectly predicted results\n",
    "On x axis it plots True Positive Rate per threshold\n",
    "TP/(TP+FN)\n",
    "On y axis it plots False Positive rate per threshold\n",
    "FP/(FP+TN)\n",
    "\n",
    "The curve is ploted over the diagonal that corresponds to a model with random prediction which is 50% of chance for banary classification. The area over the curve is what corresponding to AUC measure.\n",
    "\n",
    "We can see that polynomial model explains payment default by 71,6% whereas linear by 71,3%\n",
    "\n",
    "\n",
    "\n"
   ]
  },
  {
   "cell_type": "markdown",
   "metadata": {
    "slideshow": {
     "slide_type": "slide"
    }
   },
   "source": [
    "### Hyperparameters tunning\n",
    "\n",
    "After the model has been selected we need to proceed with fine tunning of its parameters to maximize its performance.\n",
    "\n",
    "#### Grid Search\n",
    "Grid search, or a parameter sweep is an exhaustive searching through specified subset of the hyperparameter space of a learning algorithm.\n",
    "\n",
    "For more accurate result we combine hyperparameters search with cross validation to use all the available data for hyper parameter tunning\n",
    "\n",
    "The folliwng hyperparameters are to be tuned: 'C': [0.001, 0.01, 0.1, 1, 10, 100, 1000], \"penalty\":[\"l1\",\"l2\"], \"solver\":[\"newton-cg\",\"liblinear\",\"sag\",\"saga\"]\n",
    "\n",
    "l1: lasso regression pushes feature coeficient to 0, important for feature selection\n",
    "\n",
    "l2: rigit regression used when multicollinearity occurs when there are high correlations between two or more predictor variables\n",
    "\n",
    "c: is directly related to the above regularization.it is the inverse of regularization A small value gives more weight to the regularizer\n",
    "\n",
    "solver: indicates what algorithm is used to solve the problem\n",
    "\n",
    "Result:\n",
    "Tuned parameters: {'C': 100, 'penalty': 'l1', 'solver': 'liblinear'}\n",
    "AUC score for the best parametrized model: 0.7160898020411872\n"
   ]
  },
  {
   "cell_type": "code",
   "execution_count": null,
   "metadata": {
    "slideshow": {
     "slide_type": "fragment"
    }
   },
   "outputs": [],
   "source": [
    "from sklearn.model_selection import GridSearchCV\n",
    "from sklearn.linear_model import LogisticRegression\n",
    "grid={'C': [0.001, 0.01, 0.1, 1, 10, 100, 1000], \"penalty\":[\"l1\",\"l2\"], \"solver\":[\"newton-cg\",\"liblinear\",\"sag\",\"saga\"]}\n",
    "logit=LogisticRegression()\n",
    "cv=GridSearchCV(logit,grid,cv=5,scoring=\"roc_auc\")\n",
    "cv.fit(data,target)\n",
    "\n",
    "print(\"Tuned parameters:\",cv.best_params_)\n",
    "print(\"AUC score for the best parametrized model:\",cv.best_score_)"
   ]
  },
  {
   "cell_type": "markdown",
   "metadata": {
    "slideshow": {
     "slide_type": "slide"
    }
   },
   "source": [
    "### Applying fine tunned model on available test set"
   ]
  },
  {
   "cell_type": "code",
   "execution_count": null,
   "metadata": {
    "slideshow": {
     "slide_type": "fragment"
    }
   },
   "outputs": [],
   "source": [
    "X_train, X_test, y_train, y_test = train_test_split(data, target, test_size=0.25)\n",
    "log=LogisticRegression(C= 100, penalty='l1',solver='liblinear').fit(X_train,y_train)\n",
    "res=log.predict(X_test)\n",
    "from sklearn.metrics import confusion_matrix\n",
    "print(\"-----------CONFUSION MATRIX----------\")\n",
    "print(confusion_matrix(y_test, res, labels=[0,1]))\n"
   ]
  },
  {
   "cell_type": "markdown",
   "metadata": {
    "slideshow": {
     "slide_type": "fragment"
    }
   },
   "source": [
    "The confusion martix shows that model predicted  70665 true positive ( correctly predicted non defaulted applications) and 3 true negative ( correctly predicted defaulted applications) \n",
    "\n",
    "6210 was incorrectly predicted as false negative ( repaid applicats predicted as defalted) and 0 incorrectly predicted as true positive ( someone who defaulted by predicted as repaid his/her credit)"
   ]
  },
  {
   "cell_type": "markdown",
   "metadata": {
    "slideshow": {
     "slide_type": "slide"
    }
   },
   "source": [
    "### Final model and variables importance\n",
    "\n",
    "#### Formula: \n",
    "_EXT_SOURCE_2+ EXT_SOURCE_3^2+totalDocuments+DAYS_LAST_PHONE_CHANGE+debt+FLOORSMAX_AVG+YEARS_BIRTH^2+AMT_INCOME_TOTAL^2+DAYS_ID_PUBLISH+DAYS_REGISTRATION+DEF_30_CNT_SOCIAL_CIRCLE+new_customer+overdue+repaidLastCredit_\n",
    "\n",
    "Variables are normalized so to be able to explain differences in dependant variable by changes in independent we would need to scale them back to original scales\n",
    "\n",
    "However we can see that EXT_SOURCE_2 and squared EXT_SOURCE_3 as well as month_employed has the most influence in model"
   ]
  },
  {
   "cell_type": "code",
   "execution_count": 60,
   "metadata": {
    "slideshow": {
     "slide_type": "subslide"
    }
   },
   "outputs": [
    {
     "name": "stdout",
     "output_type": "stream",
     "text": [
      "Optimization terminated successfully.\n",
      "         Current function value: 0.257445\n",
      "         Iterations 7\n",
      "                           Logit Regression Results                           \n",
      "==============================================================================\n",
      "Dep. Variable:                 TARGET   No. Observations:               307511\n",
      "Model:                          Logit   Df Residuals:                   307491\n",
      "Method:                           MLE   Df Model:                           19\n",
      "Date:                Sun, 02 Feb 2020   Pseudo R-squ.:                 0.08234\n",
      "Time:                        22:58:32   Log-Likelihood:                -79167.\n",
      "converged:                       True   LL-Null:                       -86271.\n",
      "Covariance Type:            nonrobust   LLR p-value:                     0.000\n",
      "=================================================================================================\n",
      "                                    coef    std err          z      P>|z|      [0.025      0.975]\n",
      "-------------------------------------------------------------------------------------------------\n",
      "Intercept                        -1.6330      0.073    -22.257      0.000      -1.777      -1.489\n",
      "C(new_customer)[T.1]             -0.1981      0.036     -5.491      0.000      -0.269      -0.127\n",
      "C(overdue)[T.1.0]                 0.4356      0.050      8.761      0.000       0.338       0.533\n",
      "C(overdue)[T.2.0]                -0.1953        nan        nan        nan         nan         nan\n",
      "C(document_provided)[T.1]         1.0236      0.062     16.587      0.000       0.903       1.145\n",
      "C(repaidCredit)[T.1.0]           -0.1003      0.024     -4.256      0.000      -0.146      -0.054\n",
      "C(repaidCredit)[T.2.0]           -0.1953        nan        nan        nan         nan         nan\n",
      "C(repaidLastCredit)[T.1]         -0.0926      0.019     -4.884      0.000      -0.130      -0.055\n",
      "EXT_SOURCE_2                     -2.2813      0.033    -68.374      0.000      -2.347      -2.216\n",
      "nm.power(EXT_SOURCE_3, 2)        -2.4388      0.045    -53.935      0.000      -2.527      -2.350\n",
      "debt                              0.6216      0.054     11.540      0.000       0.516       0.727\n",
      "CNT_CHILDREN                      0.1279      0.020      6.549      0.000       0.090       0.166\n",
      "totalDocuments                   -0.4950      0.054     -9.173      0.000      -0.601      -0.389\n",
      "nm.power(AMT_INCOME_TOTAL, 2)    -0.2293      0.052     -4.369      0.000      -0.332      -0.126\n",
      "DAYS_LAST_PHONE_CHANGE            0.3511      0.040      8.781      0.000       0.273       0.429\n",
      "DAYS_ID_PUBLISH                   0.4231      0.033     12.783      0.000       0.358       0.488\n",
      "DAYS_REGISTRATION                 0.4013      0.052      7.790      0.000       0.300       0.502\n",
      "DEF_30_CNT_SOCIAL_CIRCLE          0.3878      0.032     12.185      0.000       0.325       0.450\n",
      "FLOORSMAX_AVG                    -0.9483      0.075    -12.598      0.000      -1.096      -0.801\n",
      "MONTHS_EMPLOYED                  -1.7429      0.075    -23.221      0.000      -1.890      -1.596\n",
      "CNT_FAM_MEMBERS                  -0.0740      0.016     -4.760      0.000      -0.104      -0.044\n",
      "=================================================================================================\n"
     ]
    }
   ],
   "source": [
    "start='TARGET~EXT_SOURCE_2+nm.power( EXT_SOURCE_3 ,2 )+debt+CNT_CHILDREN+C(new_customer)+totalDocuments+nm.power( AMT_INCOME_TOTAL ,2 )+DAYS_LAST_PHONE_CHANGE+DAYS_ID_PUBLISH+DAYS_REGISTRATION+DEF_30_CNT_SOCIAL_CIRCLE+FLOORSMAX_AVG+MONTHS_EMPLOYED+CNT_FAM_MEMBERS+C(overdue)+C(document_provided)+C(repaidCredit)+C(repaidLastCredit)'\n",
    "\n",
    "res = smf.logit(start, data = final ).fit()\n",
    "print(res.summary())\n",
    "\n",
    "ss={\"Feature\":res.params.index, \"Coef\":res.params.values}\n",
    "ss=pd.DataFrame(ss)\n",
    "ss.plot.bar(x='Feature', y='Coef', rot=90,title=\"Feature importance\")\n",
    "\n"
   ]
  },
  {
   "cell_type": "code",
   "execution_count": 101,
   "metadata": {},
   "outputs": [],
   "source": [
    "final['TARGET']=resultt.apply(lambda x:1 if x>0.5 else 0)"
   ]
  },
  {
   "cell_type": "code",
   "execution_count": 102,
   "metadata": {},
   "outputs": [
    {
     "data": {
      "text/plain": [
       "0    48744\n",
       "Name: TARGET, dtype: int64"
      ]
     },
     "execution_count": 102,
     "metadata": {},
     "output_type": "execute_result"
    }
   ],
   "source": [
    "final['TARGET'].value_counts()"
   ]
  },
  {
   "cell_type": "code",
   "execution_count": 93,
   "metadata": {},
   "outputs": [],
   "source": [
    "final[['SK_ID_CURR','TARGET']].to_csv('subm.csv', index=False)"
   ]
  },
  {
   "cell_type": "markdown",
   "metadata": {
    "slideshow": {
     "slide_type": "slide"
    }
   },
   "source": [
    "## Receiver Operating Characteristic and Area Under the Curve\n",
    "\n",
    "Plotting the model with help of ROC.We compare ideal model that recognizes all the defalted applications with our model.\n",
    "The goal is to maximize the area under the curve."
   ]
  },
  {
   "cell_type": "code",
   "execution_count": null,
   "metadata": {
    "slideshow": {
     "slide_type": "subslide"
    }
   },
   "outputs": [],
   "source": [
    "import matplotlib.pyplot as plm\n",
    "from sklearn.metrics import roc_curve, auc\n",
    "yhat= res.predict(test)\n",
    "\n",
    "false_positive_rate, true_positive_rate, thresholds = roc_curve(test['TARGET'], yhat)\n",
    "false_positive_rate_fake, true_positive_rate_fake, thresholds2 = roc_curve(test['TARGET'], test['TARGET'])\n",
    "plm.rcParams[\"figure.figsize\"] = (10,10)\n",
    "plm.title(\"ROC-AUC\")\n",
    "#plt.xlabel('False Positive')\n",
    "#plm.ylabel('True Positive')\n",
    "plm.plot(false_positive_rate, true_positive_rate, label=\"The model's ROC\")\n",
    "plm.plot(false_positive_rate_fake, true_positive_rate_fake,color=\"green\",linestyle=\"--\", label=\"Ideal ROC\")\n",
    "plm.plot([0,1],[0,1], color=\"red\", label=\"Predicts at chance model\")\n",
    "plm.legend()"
   ]
  },
  {
   "cell_type": "code",
   "execution_count": null,
   "metadata": {
    "slideshow": {
     "slide_type": "subslide"
    }
   },
   "outputs": [],
   "source": [
    "from sklearn.metrics import roc_auc_score\n",
    "print( \"Models AUC score : \"+ str(roc_auc_score(test['TARGET'], yhat)))"
   ]
  },
  {
   "cell_type": "markdown",
   "metadata": {
    "slideshow": {
     "slide_type": "slide"
    }
   },
   "source": [
    "## Cross Validation and AUC calculation of alternative classification models\n",
    "\n",
    "Let's now have a look at other classification models and see if we did the right choice by selecting logistic regression.\n",
    "\n",
    "#### Decision Tree Algorithm \n",
    "Simply creating classification model that consists of number of decisions. The nodes hierarchy depends on various methods one of those gini index (0,...1) probability of outcome. Lower index would indicate the fetuares for node splitting.\n",
    "\n",
    "#### K-Nearest Neighbors Algorithm\n",
    "The classification groups are described by differences in the features during the model tarining.\n",
    "The individual in placed withing a circle with labled K number of nearest members, finally the classifier decides whether the individual belongs to one or another group \n",
    "\n",
    "#### Random Forest Algorithm\n",
    "Creates multiple decision trees from subsets of the dataset. Different decisions provided by tress are evaluated by majority vote to find the best ove.\n",
    "\n",
    "#### Support Vector Machine Algorithm\n",
    "Find a hyper plane that segregates two classes based on margin distance to the closest individuals from different classes.In case there is no linearity kernel can be adjusted \n"
   ]
  },
  {
   "cell_type": "code",
   "execution_count": null,
   "metadata": {
    "slideshow": {
     "slide_type": "fragment"
    }
   },
   "outputs": [],
   "source": [
    "from sklearn.tree import DecisionTreeClassifier\n",
    "from sklearn.model_selection import cross_val_score\n",
    "clf = DecisionTreeClassifier(random_state=0)\n",
    "print(\"Decision tree AUC score \"+str(cross_val_score(clf, data, target, cv=5, scoring=\"roc_auc\").mean()))"
   ]
  },
  {
   "cell_type": "code",
   "execution_count": null,
   "metadata": {
    "slideshow": {
     "slide_type": "fragment"
    }
   },
   "outputs": [],
   "source": [
    "from sklearn.neighbors import KNeighborsClassifier\n",
    "neigh = KNeighborsClassifier(n_neighbors=3)\n",
    "print(\"K-Neighbors classifier AUC score \"+str(cross_val_score(neigh, data, target, cv=5, scoring=\"roc_auc\").mean()))"
   ]
  },
  {
   "cell_type": "code",
   "execution_count": null,
   "metadata": {},
   "outputs": [],
   "source": [
    "from sklearn.ensemble import RandomForestClassifier\n",
    "clf = RandomForestClassifier(max_depth=2, random_state=0)\n",
    "print(\"Random Forest AUC score \"+str(cross_val_score(clf, data, target, cv=5, scoring=\"roc_auc\").mean()))"
   ]
  },
  {
   "cell_type": "code",
   "execution_count": null,
   "metadata": {},
   "outputs": [],
   "source": [
    "from sklearn.svm import SVC\n",
    "clf = SVC(gamma='auto')\n",
    "print(\"C-Support Vector Classification \"+str(cross_val_score(clf, data, target, cv=5, scoring=\"roc_auc\").mean()))"
   ]
  },
  {
   "cell_type": "code",
   "execution_count": null,
   "metadata": {
    "slideshow": {
     "slide_type": "skip"
    }
   },
   "outputs": [],
   "source": [
    "from IPython.display import HTML\n",
    "HTML('''<script>\n",
    "code_show=true; \n",
    "function code_toggle() {\n",
    " if (code_show){\n",
    " $('div.input').hide();\n",
    " } else {\n",
    " $('div.input').show();\n",
    " }\n",
    " code_show = !code_show\n",
    "} \n",
    "$( document ).ready(code_toggle);\n",
    "</script>\n",
    "The raw code for this IPython notebook is by default hidden for easier reading.\n",
    "To toggle on/off the raw code, click <a href=\"javascript:code_toggle()\">here</a>.''')"
   ]
  }
 ],
 "metadata": {
  "celltoolbar": "Slideshow",
  "kernelspec": {
   "display_name": "Python 3",
   "language": "python",
   "name": "python3"
  },
  "language_info": {
   "codemirror_mode": {
    "name": "ipython",
    "version": 3
   },
   "file_extension": ".py",
   "mimetype": "text/x-python",
   "name": "python",
   "nbconvert_exporter": "python",
   "pygments_lexer": "ipython3",
   "version": "3.7.4"
  },
  "toc": {
   "base_numbering": 1,
   "nav_menu": {},
   "number_sections": false,
   "sideBar": false,
   "skip_h1_title": false,
   "title_cell": "Table of Contents",
   "title_sidebar": "Contents",
   "toc_cell": false,
   "toc_position": {
    "height": "542.4px",
    "left": "2434.75px",
    "top": "21px",
    "width": "261.175px"
   },
   "toc_section_display": true,
   "toc_window_display": true
  }
 },
 "nbformat": 4,
 "nbformat_minor": 2
}
