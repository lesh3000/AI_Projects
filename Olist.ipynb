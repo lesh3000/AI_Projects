{
 "cells": [
  {
   "cell_type": "markdown",
   "metadata": {},
   "source": [
    "# OLIST\n",
    "## Customer segmentation\n"
   ]
  },
  {
   "cell_type": "code",
   "execution_count": 268,
   "metadata": {},
   "outputs": [
    {
     "data": {
      "text/html": [
       "<script>\n",
       "code_show=true; \n",
       "function code_toggle() {\n",
       " if (code_show){\n",
       " $('div.input').hide();\n",
       " } else {\n",
       " $('div.input').show();\n",
       " }\n",
       " code_show = !code_show\n",
       "} \n",
       "$( document ).ready(code_toggle);\n",
       "</script>\n",
       "The raw code for this IPython notebook is by default hidden for easier reading.\n",
       "To toggle on/off the raw code, click <a href=\"javascript:code_toggle()\">here</a>."
      ],
      "text/plain": [
       "<IPython.core.display.HTML object>"
      ]
     },
     "execution_count": 268,
     "metadata": {},
     "output_type": "execute_result"
    }
   ],
   "source": [
    "from IPython.display import HTML\n",
    "HTML('''<script>\n",
    "code_show=true; \n",
    "function code_toggle() {\n",
    " if (code_show){\n",
    " $('div.input').hide();\n",
    " } else {\n",
    " $('div.input').show();\n",
    " }\n",
    " code_show = !code_show\n",
    "} \n",
    "$( document ).ready(code_toggle);\n",
    "</script>\n",
    "The raw code for this IPython notebook is by default hidden for easier reading.\n",
    "To toggle on/off the raw code, click <a href=\"javascript:code_toggle()\">here</a>.''')"
   ]
  },
  {
   "cell_type": "code",
   "execution_count": 312,
   "metadata": {},
   "outputs": [],
   "source": [
    "%config IPCompleter.greedy=True\n",
    "import pandas as pd\n",
    "from collections import Counter\n",
    "import numpy as nm\n",
    "import matplotlib.pyplot as plt\n",
    "import warnings\n",
    "import random\n",
    "import datetime\n",
    "warnings.filterwarnings(\"ignore\")"
   ]
  },
  {
   "cell_type": "markdown",
   "metadata": {},
   "source": [
    "# Dataset\n",
    "<img src=\"olist.png\">"
   ]
  },
  {
   "cell_type": "code",
   "execution_count": 374,
   "metadata": {},
   "outputs": [],
   "source": [
    "customers=pd.read_csv(\"olist_customers_dataset.csv\")\n",
    "customers.name= \"customers\"\n",
    "geo=pd.read_csv(\"olist_geolocation_dataset.csv\")\n",
    "geo.name= \"geolocation\"\n",
    "items=pd.read_csv(\"olist_order_items_dataset.csv\")\n",
    "items.name=\"order items\"\n",
    "payments=pd.read_csv(\"olist_order_payments_dataset.csv\")\n",
    "payments.name= \"order payments\"\n",
    "reviews=pd.read_csv(\"olist_order_reviews_dataset.csv\")\n",
    "reviews.name= \"order reviews\"\n",
    "orders=pd.read_csv(\"olist_orders_dataset.csv\")\n",
    "orders.name='orders'\n",
    "products=pd.read_csv(\"olist_products_dataset.csv\")\n",
    "products.name=\"products\"\n",
    "sellers=pd.read_csv(\"olist_sellers_dataset.csv\")\n",
    "sellers.name=\"sellers\"\n",
    "geo= pd.read_csv(\"olist_geolocation_dataset.csv\")\n",
    "geo.name=\"Zip geolocalization\""
   ]
  },
  {
   "cell_type": "code",
   "execution_count": 287,
   "metadata": {},
   "outputs": [],
   "source": [
    "def exploreFrequencies(customers):\n",
    "    print(\"{0:30} {1:25} {2:25}\".format(customers.name, \"unique values\", \"missing values\"))\n",
    "    for i in customers:\n",
    "        print(\"{0:30} {1:20} {2:20}\".format(i, customers[i].nunique(),customers[i].isna().sum()))\n",
    "    print(\"------------------------------------\")"
   ]
  },
  {
   "cell_type": "markdown",
   "metadata": {},
   "source": [
    "# Exploratory Analysis\n",
    "\n",
    "## Dataset available columns, unique and missing values"
   ]
  },
  {
   "cell_type": "code",
   "execution_count": 289,
   "metadata": {},
   "outputs": [
    {
     "name": "stdout",
     "output_type": "stream",
     "text": [
      "customers                      unique values             missing values           \n",
      "customer_id                                   99441                    0\n",
      "customer_unique_id                            96096                    0\n",
      "customer_zip_code_prefix                      14994                    0\n",
      "customer_city                                  4119                    0\n",
      "customer_state                                   27                    0\n",
      "------------------------------------\n",
      "order items                    unique values             missing values           \n",
      "order_id                                      98666                    0\n",
      "order_item_id                                    21                    0\n",
      "product_id                                    32951                    0\n",
      "seller_id                                      3095                    0\n",
      "shipping_limit_date                           93318                    0\n",
      "price                                          5968                    0\n",
      "freight_value                                  6999                    0\n",
      "------------------------------------\n",
      "order payments                 unique values             missing values           \n",
      "order_id                                      99440                    0\n",
      "payment_sequential                               29                    0\n",
      "payment_type                                      5                    0\n",
      "payment_installments                             24                    0\n",
      "payment_value                                 29077                    0\n",
      "------------------------------------\n",
      "order reviews                  unique values             missing values           \n",
      "review_id                                     99173                    0\n",
      "order_id                                      99441                    0\n",
      "review_score                                      5                    0\n",
      "review_comment_title                           4600                88285\n",
      "review_comment_message                        36921                58247\n",
      "review_creation_date                            637                    0\n",
      "review_answer_timestamp                       99010                    0\n",
      "------------------------------------\n",
      "orders                         unique values             missing values           \n",
      "order_id                                      99441                    0\n",
      "customer_id                                   99441                    0\n",
      "order_status                                      8                    0\n",
      "order_purchase_timestamp                      98875                    0\n",
      "order_approved_at                             90733                  160\n",
      "order_delivered_carrier_date                  81018                 1783\n",
      "order_delivered_customer_date                 95664                 2965\n",
      "order_estimated_delivery_date                   459                    0\n",
      "------------------------------------\n",
      "products                       unique values             missing values           \n",
      "product_id                                    32951                    0\n",
      "product_category_name                            73                  610\n",
      "product_name_lenght                              66                  610\n",
      "product_description_lenght                     2960                  610\n",
      "product_photos_qty                               19                  610\n",
      "product_weight_g                               2204                    2\n",
      "product_length_cm                                99                    2\n",
      "product_height_cm                               102                    2\n",
      "product_width_cm                                 95                    2\n",
      "------------------------------------\n",
      "sellers                        unique values             missing values           \n",
      "seller_id                                      3095                    0\n",
      "seller_zip_code_prefix                         2246                    0\n",
      "seller_city                                     611                    0\n",
      "seller_state                                     23                    0\n",
      "------------------------------------\n",
      "Zip geolocalization            unique values             missing values           \n",
      "geolocation_zip_code_prefix                   19015                    0\n",
      "geolocation_lat                              717358                    0\n",
      "geolocation_lng                              717613                    0\n",
      "geolocation_city                               8011                    0\n",
      "geolocation_state                                27                    0\n",
      "------------------------------------\n"
     ]
    }
   ],
   "source": [
    "exploreFrequencies(customers)\n",
    "exploreFrequencies(items)\n",
    "exploreFrequencies(payments)\n",
    "exploreFrequencies(reviews)\n",
    "exploreFrequencies(orders)\n",
    "exploreFrequencies(products)\n",
    "exploreFrequencies(sellers)\n",
    "exploreFrequencies(geo)\n"
   ]
  },
  {
   "cell_type": "markdown",
   "metadata": {},
   "source": [
    "## Number customers and sellers per state"
   ]
  },
  {
   "cell_type": "code",
   "execution_count": 9,
   "metadata": {},
   "outputs": [
    {
     "name": "stdout",
     "output_type": "stream",
     "text": [
      "-------Customers and sellers location per state-----\n",
      "    customers  sellers\n",
      "SP      41746   1849.0\n",
      "RJ      12852    171.0\n",
      "MG      11635    244.0\n",
      "RS       5466    129.0\n",
      "PR       5045    349.0\n",
      "SC       3637    190.0\n",
      "BA       3380     19.0\n",
      "DF       2140     30.0\n",
      "ES       2033     23.0\n",
      "GO       2020     40.0\n",
      "PE       1652      9.0\n",
      "CE       1336     13.0\n",
      "PA        975      1.0\n",
      "MT        907      4.0\n",
      "MA        747      1.0\n",
      "MS        715      5.0\n",
      "PB        536      6.0\n",
      "PI        495      1.0\n",
      "RN        485      5.0\n",
      "AL        413      0.0\n",
      "SE        350      2.0\n",
      "TO        280      0.0\n",
      "RO        253      2.0\n",
      "AM        148      1.0\n",
      "AC         81      1.0\n",
      "AP         68      0.0\n",
      "RR         46      0.0\n"
     ]
    }
   ],
   "source": [
    "k=pd.DataFrame({'customers':customers['customer_state'].value_counts(),'sellers':sellers['seller_state'].value_counts()})\n",
    "print(\"-------Customers and sellers location per state-----\")\n",
    "k=k.sort_values(by='customers',ascending=False)\n",
    "k=k.fillna(0)\n",
    "print(k)\n",
    "k['sellers']= k['sellers'].apply( lambda x:x/k['sellers'].sum())\n",
    "k['customers']= k['customers'].apply( lambda x:x/k['customers'].sum())"
   ]
  },
  {
   "cell_type": "markdown",
   "metadata": {},
   "source": [
    "## Percentage of customers and sellers per state"
   ]
  },
  {
   "cell_type": "code",
   "execution_count": 10,
   "metadata": {},
   "outputs": [
    {
     "data": {
      "text/plain": [
       "<matplotlib.legend.Legend at 0x142c56eea48>"
      ]
     },
     "execution_count": 10,
     "metadata": {},
     "output_type": "execute_result"
    },
    {
     "data": {
      "image/png": "[encoded data removed]",
      "text/plain": [
       "<Figure size 1440x720 with 1 Axes>"
      ]
     },
     "metadata": {
      "needs_background": "light"
     },
     "output_type": "display_data"
    }
   ],
   "source": [
    "\n",
    "labels = k.T.columns\n",
    "sel = k['sellers']\n",
    "cus = k['customers']\n",
    "\n",
    "x = nm.arange(len(labels))  # the label locations\n",
    "width = 0.2  # the width of the bars\n",
    "\n",
    "fig, ax = plt.subplots(figsize=(20,10))\n",
    "\n",
    "rects1 = ax.bar(x - width/2, sel, width, label='Sellers')\n",
    "rects2 = ax.bar(x + width/2, cus, width, label='Customers')\n",
    "\n",
    "# Add some text for labels, title and custom x-axis tick labels, etc.\n",
    "ax.set_ylabel('Percentage of total per state')\n",
    "ax.set_xlabel('States')\n",
    "ax.set_title('Customers and sellers location by state')\n",
    "ax.set_xticks(x)\n",
    "ax.set_xticklabels(labels)\n",
    "ax.legend()"
   ]
  },
  {
   "cell_type": "markdown",
   "metadata": {},
   "source": [
    "## Order total and item price visualization"
   ]
  },
  {
   "cell_type": "code",
   "execution_count": 200,
   "metadata": {},
   "outputs": [
    {
     "data": {
      "text/plain": [
       "Text(0, 0.5, 'currency units')"
      ]
     },
     "execution_count": 200,
     "metadata": {},
     "output_type": "execute_result"
    },
    {
     "data": {
      "image/png": "[encoded data removed]",
      "text/plain": [
       "<Figure size 432x288 with 1 Axes>"
      ]
     },
     "metadata": {
      "needs_background": "light"
     },
     "output_type": "display_data"
    }
   ],
   "source": [
    "plt.boxplot(items.groupby(by='order_id')['price'].sum(), showfliers=False)\n",
    "plt.title(\"Order total without outliers\")\n",
    "plt.ylabel(\"currency units\")"
   ]
  },
  {
   "cell_type": "code",
   "execution_count": 201,
   "metadata": {},
   "outputs": [
    {
     "data": {
      "text/plain": [
       "Text(0, 0.5, 'currency units')"
      ]
     },
     "execution_count": 201,
     "metadata": {},
     "output_type": "execute_result"
    },
    {
     "data": {
      "image/png": "[encoded data removed]",
      "text/plain": [
       "<Figure size 432x288 with 1 Axes>"
      ]
     },
     "metadata": {
      "needs_background": "light"
     },
     "output_type": "display_data"
    }
   ],
   "source": [
    "plt.boxplot(items['price'], showfliers=False)\n",
    "plt.title(\"Item price without outliers\")\n",
    "plt.ylabel(\"currency units\")"
   ]
  },
  {
   "cell_type": "markdown",
   "metadata": {},
   "source": [
    "## Number of items sold by one seller"
   ]
  },
  {
   "cell_type": "code",
   "execution_count": 213,
   "metadata": {},
   "outputs": [
    {
     "data": {
      "text/plain": [
       "Text(0, 0.5, 'Number of items')"
      ]
     },
     "execution_count": 213,
     "metadata": {},
     "output_type": "execute_result"
    },
    {
     "data": {
      "image/png": "[encoded data removed]",
      "text/plain": [
       "<Figure size 432x288 with 1 Axes>"
      ]
     },
     "metadata": {
      "needs_background": "light"
     },
     "output_type": "display_data"
    }
   ],
   "source": [
    "d=pd.DataFrame(items.groupby(by='seller_id').size().sort_values(0,ascending=False))\n",
    "d.head(5)\n",
    "plt.boxplot(d.T,showfliers=False)\n",
    "plt.title(\"Number of items sold by one seller\")\n",
    "plt.ylabel(\"Number of items\")"
   ]
  },
  {
   "cell_type": "markdown",
   "metadata": {},
   "source": [
    "## Preferred payment methods"
   ]
  },
  {
   "cell_type": "code",
   "execution_count": 215,
   "metadata": {},
   "outputs": [
    {
     "data": {
      "text/plain": [
       "Text(0, 0.5, 'Number of transactions used a specific method')"
      ]
     },
     "execution_count": 215,
     "metadata": {},
     "output_type": "execute_result"
    },
    {
     "data": {
      "image/png": "[encoded data removed]",
      "text/plain": [
       "<Figure size 432x288 with 1 Axes>"
      ]
     },
     "metadata": {
      "needs_background": "light"
     },
     "output_type": "display_data"
    }
   ],
   "source": [
    "z=pd.DataFrame(payments['payment_type'].value_counts())\n",
    "plt.bar(z.index, z.payment_type,tick_label=z.T.columns)\n",
    "plt.title(\"Payment methods\")\n",
    "plt.ylabel(\"Number of transactions used a specific method\")\n"
   ]
  },
  {
   "cell_type": "markdown",
   "metadata": {},
   "source": [
    "## Number of items per order"
   ]
  },
  {
   "cell_type": "code",
   "execution_count": 294,
   "metadata": {},
   "outputs": [
    {
     "data": {
      "text/plain": [
       "Text(0, 0.5, 'Percentage')"
      ]
     },
     "execution_count": 294,
     "metadata": {},
     "output_type": "execute_result"
    },
    {
     "data": {
      "image/png": "[encoded data removed]",
      "text/plain": [
       "<Figure size 432x288 with 1 Axes>"
      ]
     },
     "metadata": {
      "needs_background": "light"
     },
     "output_type": "display_data"
    }
   ],
   "source": [
    "ax=pd.DataFrame(items.groupby(by='order_id')['order_item_id'].size().value_counts()).apply(lambda x:x/items['order_item_id'].sum()).plot(kind=\"bar\", title=\"Items number per order\", rot=0)\n",
    "ax.legend(\"\")\n",
    "ax.set_xlabel(\"Items per order\")\n",
    "ax.set_ylabel(\"Percentage\")\n",
    "\n",
    "\n"
   ]
  },
  {
   "cell_type": "markdown",
   "metadata": {},
   "source": [
    "## Orders per year"
   ]
  },
  {
   "cell_type": "code",
   "execution_count": 221,
   "metadata": {},
   "outputs": [
    {
     "name": "stdout",
     "output_type": "stream",
     "text": [
      "2018    54011\n",
      "2017    45101\n",
      "2016      329\n",
      "Name: year, dtype: int64\n"
     ]
    },
    {
     "data": {
      "image/png": "[encoded data removed]",
      "text/plain": [
       "<Figure size 432x288 with 1 Axes>"
      ]
     },
     "metadata": {
      "needs_background": "light"
     },
     "output_type": "display_data"
    }
   ],
   "source": [
    "orders[\"year\"]= orders['order_purchase_timestamp'].str[:4]\n",
    "col=[orders[\"year\"]==2017]\n",
    "sc=orders[\"year\"].value_counts()\n",
    "print(sc)\n",
    "\n",
    "ax=sc.plot(kind=\"bar\", title=\"Number of orders per year\", rot=0)\n"
   ]
  },
  {
   "cell_type": "code",
   "execution_count": 205,
   "metadata": {},
   "outputs": [
    {
     "data": {
      "text/plain": [
       "1    99441\n",
       "dtype: int64"
      ]
     },
     "execution_count": 205,
     "metadata": {},
     "output_type": "execute_result"
    }
   ],
   "source": [
    "#will remove\n",
    "orders.pivot_table(index=['customer_id'], aggfunc='size').value_counts()"
   ]
  },
  {
   "cell_type": "markdown",
   "metadata": {},
   "source": [
    "## Number of reviews per order"
   ]
  },
  {
   "cell_type": "code",
   "execution_count": 222,
   "metadata": {},
   "outputs": [
    {
     "name": "stdout",
     "output_type": "stream",
     "text": [
      "1    98886\n",
      "2      551\n",
      "3        4\n",
      "dtype: int64\n"
     ]
    },
    {
     "data": {
      "text/plain": [
       "<matplotlib.axes._subplots.AxesSubplot at 0x14320330888>"
      ]
     },
     "execution_count": 222,
     "metadata": {},
     "output_type": "execute_result"
    },
    {
     "data": {
      "image/png": "[encoded data removed]",
      "text/plain": [
       "<Figure size 432x288 with 1 Axes>"
      ]
     },
     "metadata": {
      "needs_background": "light"
     },
     "output_type": "display_data"
    }
   ],
   "source": [
    "#reviews per order\n",
    "a=reviews.groupby('order_id').size()\n",
    "dd=a.value_counts()\n",
    "print(dd)\n",
    "az=dd.plot(kind=\"bar\", title= \"Number of reviews per order\", rot=0)\n",
    "az"
   ]
  },
  {
   "cell_type": "markdown",
   "metadata": {},
   "source": [
    "## Distribution of review scores"
   ]
  },
  {
   "cell_type": "code",
   "execution_count": 224,
   "metadata": {},
   "outputs": [
    {
     "data": {
      "text/plain": [
       "Text(0, 0.5, 'Order number for a specific review score')"
      ]
     },
     "execution_count": 224,
     "metadata": {},
     "output_type": "execute_result"
    },
    {
     "data": {
      "image/png": "[encoded data removed]",
      "text/plain": [
       "<Figure size 432x288 with 1 Axes>"
      ]
     },
     "metadata": {
      "needs_background": "light"
     },
     "output_type": "display_data"
    }
   ],
   "source": [
    "o=reviews['review_score'].value_counts()\n",
    "ax=o.plot(kind='bar', title= \" Distribution of review scores\", rot=90)\n",
    "ax.set_xlabel(\"Review Score\")\n",
    "ax.set_ylabel(\"Order number for a specific review score\")\n"
   ]
  },
  {
   "cell_type": "markdown",
   "metadata": {},
   "source": [
    "## Analysis of item price and freight cost"
   ]
  },
  {
   "cell_type": "code",
   "execution_count": 92,
   "metadata": {},
   "outputs": [
    {
     "data": {
      "text/html": [
       "<div>\n",
       "<style scoped>\n",
       "    .dataframe tbody tr th:only-of-type {\n",
       "        vertical-align: middle;\n",
       "    }\n",
       "\n",
       "    .dataframe tbody tr th {\n",
       "        vertical-align: top;\n",
       "    }\n",
       "\n",
       "    .dataframe thead th {\n",
       "        text-align: right;\n",
       "    }\n",
       "</style>\n",
       "<table border=\"1\" class=\"dataframe\">\n",
       "  <thead>\n",
       "    <tr style=\"text-align: right;\">\n",
       "      <th></th>\n",
       "      <th>price</th>\n",
       "      <th>freight_value</th>\n",
       "    </tr>\n",
       "  </thead>\n",
       "  <tbody>\n",
       "    <tr>\n",
       "      <td>count</td>\n",
       "      <td>112650.000000</td>\n",
       "      <td>112650.000000</td>\n",
       "    </tr>\n",
       "    <tr>\n",
       "      <td>mean</td>\n",
       "      <td>120.653739</td>\n",
       "      <td>19.990320</td>\n",
       "    </tr>\n",
       "    <tr>\n",
       "      <td>std</td>\n",
       "      <td>183.633928</td>\n",
       "      <td>15.806405</td>\n",
       "    </tr>\n",
       "    <tr>\n",
       "      <td>min</td>\n",
       "      <td>0.850000</td>\n",
       "      <td>0.000000</td>\n",
       "    </tr>\n",
       "    <tr>\n",
       "      <td>25%</td>\n",
       "      <td>39.900000</td>\n",
       "      <td>13.080000</td>\n",
       "    </tr>\n",
       "    <tr>\n",
       "      <td>50%</td>\n",
       "      <td>74.990000</td>\n",
       "      <td>16.260000</td>\n",
       "    </tr>\n",
       "    <tr>\n",
       "      <td>75%</td>\n",
       "      <td>134.900000</td>\n",
       "      <td>21.150000</td>\n",
       "    </tr>\n",
       "    <tr>\n",
       "      <td>max</td>\n",
       "      <td>6735.000000</td>\n",
       "      <td>409.680000</td>\n",
       "    </tr>\n",
       "  </tbody>\n",
       "</table>\n",
       "</div>"
      ],
      "text/plain": [
       "               price  freight_value\n",
       "count  112650.000000  112650.000000\n",
       "mean      120.653739      19.990320\n",
       "std       183.633928      15.806405\n",
       "min         0.850000       0.000000\n",
       "25%        39.900000      13.080000\n",
       "50%        74.990000      16.260000\n",
       "75%       134.900000      21.150000\n",
       "max      6735.000000     409.680000"
      ]
     },
     "execution_count": 92,
     "metadata": {},
     "output_type": "execute_result"
    }
   ],
   "source": [
    "items[['price','freight_value']].describe()"
   ]
  },
  {
   "cell_type": "code",
   "execution_count": 225,
   "metadata": {},
   "outputs": [
    {
     "data": {
      "text/plain": [
       "Text(0.5, 0, 'Item price')"
      ]
     },
     "execution_count": 225,
     "metadata": {},
     "output_type": "execute_result"
    },
    {
     "data": {
      "image/png": "[encoded data removed]",
      "text/plain": [
       "<Figure size 432x288 with 1 Axes>"
      ]
     },
     "metadata": {
      "needs_background": "light"
     },
     "output_type": "display_data"
    }
   ],
   "source": [
    "plt.scatter(items['price'], items['freight_value'])\n",
    "plt.title(\"relationship between price and freight cost\")\n",
    "plt.ylabel(\"Freight cost\")\n",
    "plt.xlabel(\"Item price\")"
   ]
  },
  {
   "cell_type": "markdown",
   "metadata": {},
   "source": [
    "## Relationship between description length, photos number and number of sold items"
   ]
  },
  {
   "cell_type": "code",
   "execution_count": 244,
   "metadata": {},
   "outputs": [
    {
     "name": "stdout",
     "output_type": "stream",
     "text": [
      "       quantity_sold  product_description_lenght\n",
      "count   32951.000000                32341.000000\n",
      "mean        3.418713                  771.495285\n",
      "std        10.619709                  635.115225\n",
      "min         1.000000                    4.000000\n",
      "25%         1.000000                  339.000000\n",
      "50%         1.000000                  595.000000\n",
      "75%         3.000000                  972.000000\n",
      "max       527.000000                 3992.000000\n"
     ]
    },
    {
     "data": {
      "text/plain": [
       "Text(0.5, 0, 'Quantity sold')"
      ]
     },
     "execution_count": 244,
     "metadata": {},
     "output_type": "execute_result"
    },
    {
     "data": {
      "image/png": "[encoded data removed]",
      "text/plain": [
       "<Figure size 432x288 with 1 Axes>"
      ]
     },
     "metadata": {
      "needs_background": "light"
     },
     "output_type": "display_data"
    }
   ],
   "source": [
    "f=products[['product_id','product_description_lenght','product_photos_qty']]\n",
    "i=pd.DataFrame(items.groupby(by='product_id').size()).reset_index()\n",
    "f= f.merge(i, how=\"left\", on='product_id')\n",
    "f['quantity_sold']=f[0]\n",
    "f=f.drop(0, axis=1)\n",
    "print(f[['quantity_sold','product_description_lenght']].describe())\n",
    "plt.scatter(f['quantity_sold'], f['product_description_lenght'])\n",
    "plt.title(\"relationship between description length and sold items\")\n",
    "plt.ylabel(\"Description length\")\n",
    "plt.xlabel(\"Quantity sold\")"
   ]
  },
  {
   "cell_type": "code",
   "execution_count": 267,
   "metadata": {},
   "outputs": [
    {
     "name": "stdout",
     "output_type": "stream",
     "text": [
      "       quantity_sold  product_photos_qty\n",
      "count   32951.000000        32341.000000\n",
      "mean        3.418713            2.188986\n",
      "std        10.619709            1.736766\n",
      "min         1.000000            1.000000\n",
      "25%         1.000000            1.000000\n",
      "50%         1.000000            1.000000\n",
      "75%         3.000000            3.000000\n",
      "max       527.000000           20.000000\n"
     ]
    },
    {
     "data": {
      "image/png": "[encoded data removed]",
      "text/plain": [
       "<Figure size 432x288 with 1 Axes>"
      ]
     },
     "metadata": {
      "needs_background": "light"
     },
     "output_type": "display_data"
    }
   ],
   "source": [
    "print(f[['quantity_sold','product_photos_qty']].describe())\n",
    "plt.scatter(f['quantity_sold'], f['product_photos_qty'])\n",
    "plt.title(\"relationship between photos quantity and number of sold items\")\n",
    "plt.ylabel(\"Photos number\")\n",
    "plt.xlabel(\"Quantity sold\")\n",
    "plt.yticks(nm.arange(0, 21, step=1))\n",
    "plt.show()"
   ]
  },
  {
   "cell_type": "markdown",
   "metadata": {},
   "source": [
    "# Feature engineering\n",
    "## Number of orders per customer"
   ]
  },
  {
   "cell_type": "code",
   "execution_count": 176,
   "metadata": {},
   "outputs": [
    {
     "data": {
      "text/plain": [
       "1     93099\n",
       "2      2745\n",
       "3       203\n",
       "4        30\n",
       "5         8\n",
       "6         6\n",
       "7         3\n",
       "17        1\n",
       "9         1\n",
       "Name: nbOrders, dtype: int64"
      ]
     },
     "execution_count": 176,
     "metadata": {},
     "output_type": "execute_result"
    }
   ],
   "source": [
    "s=pd.DataFrame(customers.groupby('customer_unique_id').size().reset_index())\n",
    "s['nbOrders']=s[0]\n",
    "s.drop(0,axis=1)\n",
    "f=s['nbOrders'].value_counts()\n",
    "f"
   ]
  },
  {
   "cell_type": "code",
   "execution_count": 297,
   "metadata": {},
   "outputs": [
    {
     "data": {
      "text/plain": [
       "Text(0, 0.5, 'Number of orders per customer')"
      ]
     },
     "execution_count": 297,
     "metadata": {},
     "output_type": "execute_result"
    },
    {
     "data": {
      "image/png": "[encoded data removed]",
      "text/plain": [
       "<Figure size 432x288 with 1 Axes>"
      ]
     },
     "metadata": {
      "needs_background": "light"
     },
     "output_type": "display_data"
    }
   ],
   "source": [
    "d=s.merge(customers.drop_duplicates('customer_unique_id',keep=\"last\"),how='left',on=\"customer_unique_id\")\n",
    "co=d['nbOrders'].value_counts()\n",
    "#plt.bar(co.index,co.values)\n",
    "ax=co.plot(kind='bar', title=\"Number of orders per customer\", rot=0)\n",
    "ax.set_xlabel(\"Number of customers per specific number of orders\")\n",
    "ax.set_ylabel(\"Number of orders per customer\")"
   ]
  },
  {
   "cell_type": "code",
   "execution_count": 309,
   "metadata": {},
   "outputs": [],
   "source": [
    "ordersList=customers.groupby('customer_unique_id')['customer_id'].apply(list).to_dict()\n",
    "\n",
    "#list of customer_ids associated with customer_unique_ids. 1 customer unique id can have many ids      "
   ]
  },
  {
   "cell_type": "markdown",
   "metadata": {},
   "source": [
    "## Average Order Total Spent by a customer"
   ]
  },
  {
   "cell_type": "code",
   "execution_count": 671,
   "metadata": {},
   "outputs": [],
   "source": [
    "'''\n",
    "money= pd.DataFrame(columns=[\"customer_unique_id\",\"total\"])\n",
    "for i in ordersList:\n",
    "    total=0\n",
    "    orderCounter=0\n",
    "    for u in ordersList[i]:\n",
    "        ordersPerCs=orders.loc[orders['customer_id']==u].values\n",
    "        for orde in ordersPerCs:\n",
    "            orderCounter=orderCounter+1\n",
    "            \n",
    "            itemsOrder=items.loc[items['order_id']==orde[0]].values\n",
    "            for ea in itemsOrder:\n",
    "                #print(ea[1])\n",
    "            #if(len(itemsOrder['price'])>0):\n",
    "                #total+=itemsOrder['price'].values[0]  \n",
    "                total+=ea[5]\n",
    "    if orderCounter>0:\n",
    "        v=total/orderCounter\n",
    "    else:\n",
    "        v=0\n",
    "        print(total)\n",
    "    \n",
    "    money=money.append({'customer_unique_id':i, 'total':v},ignore_index=True)\n",
    "money.to_csv(\"averagePerOrderMoneySpent.csv\", encoding='utf-8', index=False)\n",
    "'''"
   ]
  },
  {
   "cell_type": "code",
   "execution_count": 278,
   "metadata": {},
   "outputs": [
    {
     "name": "stdout",
     "output_type": "stream",
     "text": [
      "count    96096.000000\n",
      "mean       137.163463\n",
      "std        210.735847\n",
      "min          0.000000\n",
      "25%         45.827500\n",
      "50%         85.990000\n",
      "75%        149.900000\n",
      "max      13440.000000\n",
      "Name: total, dtype: float64\n"
     ]
    },
    {
     "data": {
      "text/plain": [
       "<matplotlib.axes._subplots.AxesSubplot at 0x14435427348>"
      ]
     },
     "execution_count": 278,
     "metadata": {},
     "output_type": "execute_result"
    },
    {
     "data": {
      "image/png": "[encoded data removed]",
      "text/plain": [
       "<Figure size 432x288 with 1 Axes>"
      ]
     },
     "metadata": {
      "needs_background": "light"
     },
     "output_type": "display_data"
    }
   ],
   "source": [
    "money=pd.read_csv(\"averagePerOrderMoneySpent.csv\")\n",
    "print(money['total'].describe())\n",
    "money['total'].plot(kind='box', showfliers=False, title=\"Average money spent by customer per order\")\n"
   ]
  },
  {
   "cell_type": "markdown",
   "metadata": {},
   "source": [
    "## Average review score by customer"
   ]
  },
  {
   "cell_type": "code",
   "execution_count": 407,
   "metadata": {},
   "outputs": [],
   "source": [
    "'''\n",
    "revs= pd.DataFrame(columns=[\"customer_unique_id\",\"reveiwScore\"])\n",
    "for i in ordersList:\n",
    "    score=0\n",
    "    count=0\n",
    "    \n",
    "    for u in ordersList[i]:\n",
    "        ordersPerCs=orders.loc[orders['customer_id']==u].values\n",
    "        for orde in ordersPerCs:\n",
    "            reviewsOrder=reviews.loc[reviews['order_id']==orde[0]].values\n",
    "            for r in reviewsOrder:\n",
    "                score=score+r[2]\n",
    "                count=count+1\n",
    "                \n",
    "    revs=revs.append({'customer_unique_id':i, 'reviewScore':score/count},ignore_index=True)\n",
    "revs.to_csv(\"reviewsCustomers.csv\", encoding='utf-8', index=False)\n",
    " '''   \n",
    "    "
   ]
  },
  {
   "cell_type": "code",
   "execution_count": 281,
   "metadata": {},
   "outputs": [
    {
     "name": "stdout",
     "output_type": "stream",
     "text": [
      "count    96096.000000\n",
      "mean         4.069535\n",
      "std          1.353446\n",
      "min          1.000000\n",
      "25%          4.000000\n",
      "50%          5.000000\n",
      "75%          5.000000\n",
      "max          5.000000\n",
      "Name: reviewScore, dtype: float64\n"
     ]
    },
    {
     "data": {
      "text/plain": [
       "<matplotlib.axes._subplots.AxesSubplot at 0x14435ae4f88>"
      ]
     },
     "execution_count": 281,
     "metadata": {},
     "output_type": "execute_result"
    },
    {
     "data": {
      "image/png": "[encoded data removed]",
      "text/plain": [
       "<Figure size 432x288 with 1 Axes>"
      ]
     },
     "metadata": {
      "needs_background": "light"
     },
     "output_type": "display_data"
    }
   ],
   "source": [
    "revs=pd.read_csv(\"reviewsCustomers.csv\")\n",
    "print(revs['reviewScore'].describe())\n",
    "revs['reviewScore'].plot(kind='box', title=\"Average score left by customer\")"
   ]
  },
  {
   "cell_type": "markdown",
   "metadata": {},
   "source": [
    "## Number of resellers per customer"
   ]
  },
  {
   "cell_type": "code",
   "execution_count": 449,
   "metadata": {},
   "outputs": [],
   "source": [
    "'''\n",
    "vendeurs= pd.DataFrame(columns=[\"customer_unique_id\",\"totalSellers\"])\n",
    "for i in ordersList:\n",
    "    total=[]\n",
    "    \n",
    "    for u in ordersList[i]:\n",
    "        ordersPerCs=orders.loc[orders['customer_id']==u].values\n",
    "        for orde in ordersPerCs:\n",
    "            itemsOrder=items.loc[items['order_id']==orde[0]]\n",
    "            if(len(itemsOrder['seller_id'])>0):\n",
    "                \n",
    "                sstr=str(itemsOrder['seller_id'].values)\n",
    "                \n",
    "                if (sstr not in total):\n",
    "                    \n",
    "                    total.append(sstr)\n",
    "    vendeurs=vendeurs.append({'customer_unique_id':i, 'totalSellers':len(total)},ignore_index=True)\n",
    "vendeurs.to_csv(\"resellersPerCustomer.csv\", encoding='utf-8', index=False)\n",
    "\n",
    "'''"
   ]
  },
  {
   "cell_type": "code",
   "execution_count": 285,
   "metadata": {},
   "outputs": [
    {
     "name": "stdout",
     "output_type": "stream",
     "text": [
      "1    93160\n",
      "2     2104\n",
      "0      676\n",
      "3      126\n",
      "4       16\n",
      "5        7\n",
      "6        5\n",
      "9        1\n",
      "8        1\n",
      "Name: totalSellers, dtype: int64\n"
     ]
    },
    {
     "data": {
      "text/plain": [
       "<matplotlib.axes._subplots.AxesSubplot at 0x14435d61108>"
      ]
     },
     "execution_count": 285,
     "metadata": {},
     "output_type": "execute_result"
    },
    {
     "data": {
      "image/png": "[encoded data removed]",
      "text/plain": [
       "<Figure size 432x288 with 1 Axes>"
      ]
     },
     "metadata": {
      "needs_background": "light"
     },
     "output_type": "display_data"
    }
   ],
   "source": [
    "vend=pd.read_csv(\"resellersPerCustomer.csv\")\n",
    "print(vend['totalSellers'].value_counts())\n",
    "vend['totalSellers'].value_counts().plot(kind='bar', title=\"Number of resellers per customer\",rot=0)\n"
   ]
  },
  {
   "cell_type": "markdown",
   "metadata": {},
   "source": [
    "## Maximum distance purchased from per customer"
   ]
  },
  {
   "cell_type": "code",
   "execution_count": 587,
   "metadata": {},
   "outputs": [],
   "source": [
    "from math import sin, cos, sqrt, atan2, radians\n",
    "\n",
    "def distance(a,b):\n",
    "    R = 6373.0\n",
    "    aa=geo.loc[geo['geolocation_zip_code_prefix'].values == a].head(1)\n",
    "    bb= geo.loc[geo['geolocation_zip_code_prefix'].values == b].head(1)\n",
    "    if len(aa)==0:\n",
    "        a1= geo['geolocation_lat'].mean()\n",
    "        a2= geo['geolocation_lng'].mean()\n",
    "    else:\n",
    "        a1=aa['geolocation_lat'].values\n",
    "        a2=aa['geolocation_lng'].values\n",
    "    if len(bb)==0:\n",
    "        b1= geo['geolocation_lat'].mean()\n",
    "        b2= geo['geolocation_lng'].mean()\n",
    "    else:\n",
    "        b1=bb['geolocation_lat'].values\n",
    "        b2=bb['geolocation_lng'].values\n",
    "            \n",
    "   \n",
    "    lat1 = radians(a1)\n",
    "    lon1 = radians(a2)\n",
    "    lat2 = radians(b1)\n",
    "    lon2 = radians(b2)\n",
    "\n",
    "    dlon = lon2 - lon1\n",
    "    dlat = lat2 - lat1\n",
    "\n",
    "    a = sin(dlat / 2)**2 + cos(lat1) * cos(lat2) * sin(dlon / 2)**2\n",
    "    c = 2 * atan2(sqrt(a), sqrt(1 - a))\n",
    "\n",
    "    return R * c\n"
   ]
  },
  {
   "cell_type": "code",
   "execution_count": 589,
   "metadata": {},
   "outputs": [],
   "source": [
    "'''\n",
    "distances= pd.DataFrame(columns=[\"customer_unique_id\",\"maximumDistance\"])\n",
    "for i in ordersList:\n",
    "    total=0\n",
    "    customerZip=customers.loc[customers['customer_unique_id']==i]['customer_zip_code_prefix'].values[0]\n",
    "    \n",
    "    for u in ordersList[i]:\n",
    "        ordersPerCs=orders.loc[orders['customer_id']==u].values\n",
    "        for orde in ordersPerCs:\n",
    "            itemsOrder=items.loc[items['order_id']==orde[0]]\n",
    "            if(len(itemsOrder['seller_id'])>0):\n",
    "                    for sal in itemsOrder['seller_id']:\n",
    "                        zips= sellers.loc[sellers['seller_id']==sal]\n",
    "                        sellerZip=zips['seller_zip_code_prefix'].values\n",
    "                        #print(customerZip)\n",
    "                        #print(int(sellerZip))\n",
    "                        if(int(customerZip)>0 and int(sellerZip)>0):\n",
    "                            dist=distance(int(customerZip),int(sellerZip))\n",
    "                            if dist>total:\n",
    "                                total=dist\n",
    "                            \n",
    "    distances=distances.append({'customer_unique_id':i, 'maximumDistance': total},ignore_index=True)\n",
    "distances.to_csv(\"MaximumDistancePerCustomer.csv\", encoding='utf-8', index=False)\n",
    "\n",
    "'''"
   ]
  },
  {
   "cell_type": "code",
   "execution_count": 292,
   "metadata": {},
   "outputs": [
    {
     "name": "stdout",
     "output_type": "stream",
     "text": [
      "count    96096.000000\n",
      "mean       602.349296\n",
      "std        598.388790\n",
      "min          0.000000\n",
      "25%        184.449508\n",
      "50%        434.235259\n",
      "75%        802.016361\n",
      "max       8739.690342\n",
      "Name: maximumDistance, dtype: float64\n"
     ]
    },
    {
     "data": {
      "text/plain": [
       "<matplotlib.axes._subplots.AxesSubplot at 0x142cb74a408>"
      ]
     },
     "execution_count": 292,
     "metadata": {},
     "output_type": "execute_result"
    },
    {
     "data": {
      "image/png": "[encoded data removed]",
      "text/plain": [
       "<Figure size 432x288 with 1 Axes>"
      ]
     },
     "metadata": {
      "needs_background": "light"
     },
     "output_type": "display_data"
    }
   ],
   "source": [
    "distance=pd.read_csv(\"MaximumDistancePerCustomer.csv\")\n",
    "print(distance['maximumDistance'].describe())\n",
    "distance['maximumDistance'].plot(kind='box', title=\"Maximum distance customer purchased from\", showfliers=False)"
   ]
  },
  {
   "cell_type": "markdown",
   "metadata": {},
   "source": [
    "## Average number of items per customer order"
   ]
  },
  {
   "cell_type": "code",
   "execution_count": 314,
   "metadata": {},
   "outputs": [],
   "source": [
    "'''\n",
    "itemsNumber= pd.DataFrame(columns=[\"customer_unique_id\",\"nbItems\"])\n",
    "#get all customer ids\n",
    "for i in ordersList:\n",
    "    totalItems=[]\n",
    "    \n",
    "    \n",
    "    #get all customer orders corresponding to ids\n",
    "    for u in ordersList[i]:\n",
    "        ordersPerCs=orders.loc[orders['customer_id']==u].values\n",
    "        #get all orders items corresponding to ids\n",
    "        \n",
    "        for orde in ordersPerCs:\n",
    "            \n",
    "            itemsOrder=items.loc[items['order_id']==orde[0]]\n",
    "            if(itemsOrder.shape[0]>0):\n",
    "                totalItems.append(itemsOrder.shape[0])\n",
    "    \n",
    "    if len(totalItems)>0:\n",
    "        c = Counter(totalItems)\n",
    "        v=c.most_common(1)[0][0]\n",
    "        \n",
    "    else:\n",
    "        v=0\n",
    "        \n",
    "    itemsNumber=itemsNumber.append({'customer_unique_id':i, 'nbItems': v},ignore_index=True)\n",
    "    \n",
    "itemsNumber.to_csv(\"itemsNumberPerCustomer.csv\", encoding='utf-8', index=False)\n",
    "'''"
   ]
  },
  {
   "cell_type": "code",
   "execution_count": 346,
   "metadata": {},
   "outputs": [
    {
     "name": "stdout",
     "output_type": "stream",
     "text": [
      "1    86116\n",
      "2     7172\n",
      "3     1232\n",
      "0      676\n",
      "4      471\n",
      "Name: nbItems, dtype: int64\n"
     ]
    },
    {
     "data": {
      "text/plain": [
       "<matplotlib.axes._subplots.AxesSubplot at 0x1449e5f21c8>"
      ]
     },
     "execution_count": 346,
     "metadata": {},
     "output_type": "execute_result"
    },
    {
     "data": {
      "image/png": "[encoded data removed]",
      "text/plain": [
       "<Figure size 432x288 with 1 Axes>"
      ]
     },
     "metadata": {
      "needs_background": "light"
     },
     "output_type": "display_data"
    }
   ],
   "source": [
    "itemsNumber=pd.read_csv(\"itemsNumberPerCustomer.csv\")\n",
    "vv=itemsNumber['nbItems'].value_counts()\n",
    "print(vv.head(5))\n",
    "vv.plot(kind='bar', title=\"Items frequency per customer orders\",rot=0)"
   ]
  },
  {
   "cell_type": "markdown",
   "metadata": {},
   "source": [
    "## customer payment method\n"
   ]
  },
  {
   "cell_type": "code",
   "execution_count": 656,
   "metadata": {},
   "outputs": [],
   "source": [
    "'''\n",
    "from collections import Counter\n",
    "\n",
    "paymentMethod= pd.DataFrame(columns=[\"customer_unique_id\",\"paymentMethod\"])\n",
    "#get all customer ids\n",
    "for i in ordersList:\n",
    "    totalItems=[]\n",
    "    \n",
    "    \n",
    "    #get all customer orders corresponding to ids\n",
    "    for u in ordersList[i]:\n",
    "        ordersPerCs=orders.loc[orders['customer_id']==u].values\n",
    "        #get all orders items corresponding to ids\n",
    "        \n",
    "        for orde in ordersPerCs:\n",
    "            \n",
    "            method=payments.loc[payments['order_id']==orde[0]]\n",
    "            if(method.empty!=True):\n",
    "                \n",
    "                totalItems.append(method.values[0][2])\n",
    "    if len(totalItems)>0:\n",
    "        c = Counter(totalItems)\n",
    "        v=c.most_common(1)[0][0]\n",
    "    else:\n",
    "        v='not known'\n",
    "    \n",
    "    paymentMethod=paymentMethod.append({'customer_unique_id':i, 'paymentMethod': v},ignore_index=True)\n",
    "    \n",
    "paymentMethod.to_csv(\"paymentMethod.csv\", encoding='utf-8', index=False)\n",
    "'''"
   ]
  },
  {
   "cell_type": "code",
   "execution_count": 304,
   "metadata": {},
   "outputs": [
    {
     "name": "stdout",
     "output_type": "stream",
     "text": [
      "credit_card    72861\n",
      "boleto         19161\n",
      "voucher         2583\n",
      "debit_card      1487\n",
      "not_defined        3\n",
      "not known          1\n",
      "Name: paymentMethod, dtype: int64\n"
     ]
    },
    {
     "data": {
      "text/plain": [
       "<matplotlib.axes._subplots.AxesSubplot at 0x142cc6d10c8>"
      ]
     },
     "execution_count": 304,
     "metadata": {},
     "output_type": "execute_result"
    },
    {
     "data": {
      "image/png": "[encoded data removed]",
      "text/plain": [
       "<Figure size 432x288 with 1 Axes>"
      ]
     },
     "metadata": {
      "needs_background": "light"
     },
     "output_type": "display_data"
    }
   ],
   "source": [
    "paymentMethod=pd.read_csv(\"paymentMethod.csv\")\n",
    "v=paymentMethod['paymentMethod'].value_counts()\n",
    "print(v)\n",
    "ax=v.plot(kind='barh', title=\"Prefereed payment method\")\n",
    "ax"
   ]
  },
  {
   "cell_type": "markdown",
   "metadata": {},
   "source": [
    "## Preferred Cathegory"
   ]
  },
  {
   "cell_type": "code",
   "execution_count": 695,
   "metadata": {},
   "outputs": [],
   "source": [
    "'''\n",
    "category= pd.DataFrame(columns=[\"customer_unique_id\",\"category\"])\n",
    "#get all customer ids\n",
    "for i in ordersList:\n",
    "    totalItems=[]\n",
    "    #get all customer orders corresponding to ids\n",
    "    for u in ordersList[i]:\n",
    "        ordersPerCs=orders.loc[orders['customer_id']==u].values\n",
    "        #get all orders items corresponding to ids\n",
    "        \n",
    "        for orde in ordersPerCs:\n",
    "            \n",
    "            itemsOrder=items.loc[items['order_id']==orde[0]].values\n",
    "            for ea in itemsOrder:\n",
    "                \n",
    "                produits=products.loc[products['product_id']==ea[2]].values\n",
    "                \n",
    "                if (len(produits[0])>0):\n",
    "                    totalItems.append(produits[0][1])\n",
    "                        \n",
    "                                      \n",
    "    if len(totalItems)>0:\n",
    "        c = Counter(totalItems)\n",
    "        c=c.most_common(1)[0][0]\n",
    "        \n",
    "    else:\n",
    "        v='not known'\n",
    "    \n",
    "    category=category.append({'customer_unique_id':i, 'category': c},ignore_index=True)\n",
    "category.to_csv(\"categoryCustomers.csv\", encoding='utf-8', index=False)\n",
    "'''"
   ]
  },
  {
   "cell_type": "code",
   "execution_count": 344,
   "metadata": {},
   "outputs": [
    {
     "name": "stdout",
     "output_type": "stream",
     "text": [
      "Number of preferred categories: 74\n",
      "First 10 categories represent :62.902722277722276% of customers choice\n"
     ]
    },
    {
     "data": {
      "text/plain": [
       "<matplotlib.axes._subplots.AxesSubplot at 0x1449e5be7c8>"
      ]
     },
     "execution_count": 344,
     "metadata": {},
     "output_type": "execute_result"
    },
    {
     "data": {
      "image/png": "[encoded data removed]",
      "text/plain": [
       "<Figure size 432x288 with 1 Axes>"
      ]
     },
     "metadata": {
      "needs_background": "light"
     },
     "output_type": "display_data"
    }
   ],
   "source": [
    "category=pd.read_csv(\"categoryCustomers.csv\")\n",
    "print(\"Number of preferred categories: \"+str(len(category['category'].unique())))\n",
    "print(\"First 10 categories represent :\"+str(category['category'].value_counts().head(10).values.sum()/len(category['category'])*100)+ \"% of customers choice\")\n",
    "\n",
    "ax=category['category'].value_counts().head(10).plot(kind='barh', title=\"10 top prefered categories per customers\")\n",
    "ax"
   ]
  },
  {
   "cell_type": "markdown",
   "metadata": {},
   "source": [
    "## Prefered reseller by customer"
   ]
  },
  {
   "cell_type": "code",
   "execution_count": 358,
   "metadata": {},
   "outputs": [
    {
     "data": {
      "text/plain": [
       "'\\nfrequentReseller= pd.DataFrame(columns=[\"customer_unique_id\",\"frequent reseller\"])\\n#get all customer ids\\nfor i in ordersList:\\n    totalSellers=[]\\n    #get all customer orders corresponding to ids\\n    for u in ordersList[i]:\\n        ordersPerCs=orders.loc[orders[\\'customer_id\\']==u].values\\n        #get all orders items corresponding to ids\\n        \\n        for orde in ordersPerCs:\\n            \\n            itemsOrder=items.loc[items[\\'order_id\\']==orde[0]].values\\n            for ea in itemsOrder:\\n                \\n                totalSellers.append(ea[3])\\n                                    \\n    if len(totalSellers)>0:\\n        c = Counter(totalSellers)\\n        c=c.most_common(1)[0][0]\\n        \\n    else:\\n        c=\\'not known\\'\\n    \\n    frequentReseller=frequentReseller.append({\\'customer_unique_id\\':i, \\'frequent reseller\\': c},ignore_index=True)\\nfrequentReseller.to_csv(\"frequentResellers.csv\", encoding=\\'utf-8\\', index=False)\\n'"
      ]
     },
     "execution_count": 358,
     "metadata": {},
     "output_type": "execute_result"
    }
   ],
   "source": [
    "'''\n",
    "frequentReseller= pd.DataFrame(columns=[\"customer_unique_id\",\"frequent reseller\"])\n",
    "#get all customer ids\n",
    "for i in ordersList:\n",
    "    totalSellers=[]\n",
    "    #get all customer orders corresponding to ids\n",
    "    for u in ordersList[i]:\n",
    "        ordersPerCs=orders.loc[orders['customer_id']==u].values\n",
    "        #get all orders items corresponding to ids\n",
    "        \n",
    "        for orde in ordersPerCs:\n",
    "            \n",
    "            itemsOrder=items.loc[items['order_id']==orde[0]].values\n",
    "            for ea in itemsOrder:\n",
    "                \n",
    "                totalSellers.append(ea[3])\n",
    "                                    \n",
    "    if len(totalSellers)>0:\n",
    "        c = Counter(totalSellers)\n",
    "        c=c.most_common(1)[0][0]\n",
    "        \n",
    "    else:\n",
    "        c='not known'\n",
    "    \n",
    "    frequentReseller=frequentReseller.append({'customer_unique_id':i, 'frequent reseller': c},ignore_index=True)\n",
    "frequentReseller.to_csv(\"frequentResellers.csv\", encoding='utf-8', index=False)\n",
    "'''"
   ]
  },
  {
   "cell_type": "code",
   "execution_count": 356,
   "metadata": {},
   "outputs": [
    {
     "name": "stdout",
     "output_type": "stream",
     "text": [
      "Number of preferred resellers: 3063\n",
      "Top 200 resellers represent :58.94626207126207% of customers choice\n"
     ]
    },
    {
     "data": {
      "text/plain": [
       "<matplotlib.axes._subplots.AxesSubplot at 0x1449e756488>"
      ]
     },
     "execution_count": 356,
     "metadata": {},
     "output_type": "execute_result"
    },
    {
     "data": {
      "image/png": "[encoded data removed]",
      "text/plain": [
       "<Figure size 432x288 with 1 Axes>"
      ]
     },
     "metadata": {
      "needs_background": "light"
     },
     "output_type": "display_data"
    }
   ],
   "source": [
    "frequentReseller=pd.read_csv(\"frequentResellers.csv\")\n",
    "print(\"Number of preferred resellers: \"+str(len(frequentReseller['frequent reseller'].unique())))\n",
    "print(\"Top 200 resellers represent :\"+str(frequentReseller['frequent reseller'].value_counts().head(200).values.sum()/len(frequentReseller['frequent reseller'])*100)+ \"% of customers choice\")\n",
    "frequentReseller['frequent reseller'].value_counts().head(10).plot(kind='barh', title=\"10 top resellers\")\n"
   ]
  },
  {
   "cell_type": "markdown",
   "metadata": {},
   "source": [
    "## Preferred city to purchase from"
   ]
  },
  {
   "cell_type": "code",
   "execution_count": 717,
   "metadata": {},
   "outputs": [],
   "source": [
    "'''\n",
    "purchaseCity= pd.DataFrame(columns=[\"customer_unique_id\",\"frequent purchase city\"])\n",
    "#get all customer ids\n",
    "for i in ordersList:\n",
    "    totalAreas=[]\n",
    "    #get all customer orders corresponding to ids\n",
    "    for u in ordersList[i]:\n",
    "        ordersPerCs=orders.loc[orders['customer_id']==u].values\n",
    "        #get all orders items corresponding to ids\n",
    "        \n",
    "        for orde in ordersPerCs:\n",
    "            \n",
    "            itemsOrder=items.loc[items['order_id']==orde[0]].values\n",
    "            for ea in itemsOrder:\n",
    "                zips= sellers.loc[sellers['seller_id']==ea[3]].values\n",
    "                zipo= zips[0][2]\n",
    "                \n",
    "                totalAreas.append(zipo)\n",
    "                                  \n",
    "    if len(totalAreas)>0:\n",
    "        c = Counter(totalAreas)\n",
    "        c=c.most_common(1)[0][0]\n",
    "        \n",
    "    else:\n",
    "        v='not known'\n",
    "    \n",
    "    purchaseCity=purchaseCity.append({'customer_unique_id':i, 'frequent purchase city': c},ignore_index=True)\n",
    "purchaseCity.to_csv(\"frequentCity.csv\", encoding='utf-8', index=False)\n",
    "'''"
   ]
  },
  {
   "cell_type": "code",
   "execution_count": 362,
   "metadata": {},
   "outputs": [
    {
     "name": "stdout",
     "output_type": "stream",
     "text": [
      "sao paulo                23867\n",
      "ibitinga                  6201\n",
      "santo andre               2582\n",
      "curitiba                  2582\n",
      "belo horizonte            2355\n",
      "rio de janeiro            2116\n",
      "guarulhos                 2012\n",
      "ribeirao preto            1960\n",
      "sao jose do rio preto     1899\n",
      "maringa                   1770\n",
      "Name: frequent purchase city, dtype: int64\n"
     ]
    },
    {
     "data": {
      "text/plain": [
       "<matplotlib.axes._subplots.AxesSubplot at 0x1449ece95c8>"
      ]
     },
     "execution_count": 362,
     "metadata": {},
     "output_type": "execute_result"
    },
    {
     "data": {
      "image/png": "[encoded data removed]",
      "text/plain": [
       "<Figure size 432x288 with 1 Axes>"
      ]
     },
     "metadata": {
      "needs_background": "light"
     },
     "output_type": "display_data"
    }
   ],
   "source": [
    "purchaseCity=pd.read_csv(\"frequentCity.csv\")\n",
    "c=purchaseCity['frequent purchase city'].value_counts().head(10)\n",
    "print(c)\n",
    "c.plot(kind=\"barh\", title=\"10 top prefered cities\")"
   ]
  },
  {
   "cell_type": "markdown",
   "metadata": {},
   "source": [
    "## Year of the last purchase"
   ]
  },
  {
   "cell_type": "code",
   "execution_count": 375,
   "metadata": {},
   "outputs": [],
   "source": [
    "purchaseYear= pd.DataFrame(columns=[\"customer_unique_id\",\"lastPurchase\"])\n",
    "#get all customer ids\n",
    "for i in ordersList:\n",
    "    totalYear=0\n",
    "    #get all customer orders corresponding to ids\n",
    "    for u in ordersList[i]:\n",
    "        ordersPerCs=orders.loc[orders['customer_id']==u].values\n",
    "        #get all orders items corresponding to ids\n",
    "        \n",
    "        for orde in ordersPerCs:\n",
    "            if pd.isna(orde[4])!=True:\n",
    "                \n",
    "                year=int(orde[4][:4])\n",
    "                if(year>totalYear):\n",
    "                    totalYear=year\n",
    "                    \n",
    "            else:\n",
    "                totalYear=2018\n",
    "    purchaseYear=purchaseYear.append({'customer_unique_id':i, 'lastPurchase': totalYear},ignore_index=True)\n",
    "purchaseYear.to_csv(\"lastPurchase.csv\", encoding='utf-8', index=False)\n",
    "\n"
   ]
  },
  {
   "cell_type": "code",
   "execution_count": 378,
   "metadata": {},
   "outputs": [
    {
     "data": {
      "text/plain": [
       "<matplotlib.axes._subplots.AxesSubplot at 0x144a0490a48>"
      ]
     },
     "execution_count": 378,
     "metadata": {},
     "output_type": "execute_result"
    },
    {
     "data": {
      "image/png": "[encoded data removed]",
      "text/plain": [
       "<Figure size 432x288 with 1 Axes>"
      ]
     },
     "metadata": {
      "needs_background": "light"
     },
     "output_type": "display_data"
    }
   ],
   "source": [
    "purchaseYear[\"lastPurchase\"].value_counts().plot(kind=\"bar\")"
   ]
  },
  {
   "cell_type": "code",
   "execution_count": null,
   "metadata": {},
   "outputs": [],
   "source": []
  }
 ],
 "metadata": {
  "kernelspec": {
   "display_name": "Python 3",
   "language": "python",
   "name": "python3"
  },
  "language_info": {
   "codemirror_mode": {
    "name": "ipython",
    "version": 3
   },
   "file_extension": ".py",
   "mimetype": "text/x-python",
   "name": "python",
   "nbconvert_exporter": "python",
   "pygments_lexer": "ipython3",
   "version": "3.7.4"
  },
  "toc": {
   "base_numbering": 1,
   "nav_menu": {
    "height": "246px",
    "width": "238px"
   },
   "number_sections": true,
   "sideBar": true,
   "skip_h1_title": false,
   "title_cell": "Table of Contents",
   "title_sidebar": "Contents",
   "toc_cell": false,
   "toc_position": {},
   "toc_section_display": true,
   "toc_window_display": false
  }
 },
 "nbformat": 4,
 "nbformat_minor": 2
}
