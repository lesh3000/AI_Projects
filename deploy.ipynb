{
 "cells": [
  {
   "cell_type": "code",
   "execution_count": 61,
   "metadata": {},
   "outputs": [
    {
     "data": {
      "text/plain": [
       "\"\\ndataset = Dataset.get_by_name(workspace, name='tweets')\\ndataset=dataset.to_pandas_dataframe()\\n\""
      ]
     },
     "execution_count": 61,
     "metadata": {},
     "output_type": "execute_result"
    }
   ],
   "source": [
    "import os\n",
    "import azureml\n",
    "from azureml.core import Experiment\n",
    "from azureml.core import Workspace, Run\n",
    "from azureml.core.compute import ComputeTarget, AmlCompute\n",
    "from azureml.core.compute_target import ComputeTargetException\n",
    "from azureml.core import Workspace, Dataset,Model\n",
    "\n",
    "subscription_id = key\n",
    "resource_group = 'ml'\n",
    "workspace_name = 'project'\n",
    "\n",
    "workspace = Workspace(subscription_id, resource_group, workspace_name)\n",
    "\n",
    "'''\n",
    "dataset = Dataset.get_by_name(workspace, name='tweets')\n",
    "dataset=dataset.to_pandas_dataframe()\n",
    "'''"
   ]
  },
  {
   "cell_type": "code",
   "execution_count": 68,
   "metadata": {},
   "outputs": [
    {
     "name": "stdout",
     "output_type": "stream",
     "text": [
      "Registering model tweetsMulti\n",
      "Name: tweetsMulti\n",
      "Version: 2\n"
     ]
    }
   ],
   "source": [
    "from azureml.core.resource_configuration import ResourceConfiguration\n",
    "\n",
    "\n",
    "model = Model.register(workspace=workspace,\n",
    "                       model_name='tweetsMulti',                # Name of the registered model in your workspace.\n",
    "                       model_path='./words',  # Local file to upload and register as a model.\n",
    "                       model_framework=Model.Framework.CUSTOM,  # Framework used to create the model.\n",
    "                       model_framework_version='2',             # Version of scikit-learn used to create the model.\n",
    "                       \n",
    "                       resource_configuration=ResourceConfiguration(cpu=1, memory_in_gb=0.5)\n",
    "                       )\n",
    "\n",
    "print('Name:', model.name)\n",
    "print('Version:', model.version)"
   ]
  },
  {
   "cell_type": "code",
   "execution_count": 69,
   "metadata": {},
   "outputs": [],
   "source": [
    "from azureml.core.model import InferenceConfig\n",
    "from azureml.core.environment import Environment\n",
    "from azureml.core.conda_dependencies import CondaDependencies\n",
    "\n",
    "# Create the environment\n",
    "myenv = Environment(name=\"myenv\")\n",
    "conda_dep = CondaDependencies()\n",
    "\n",
    "# Define the packages needed by the model and scripts\n",
    "conda_dep.add_conda_package(\"tensorflow\")\n",
    "conda_dep.add_conda_package(\"numpy\")\n",
    "conda_dep.add_conda_package(\"scikit-learn\")\n",
    "# You must list azureml-defaults as a pip dependency\n",
    "conda_dep.add_pip_package(\"azureml-defaults\")\n",
    "conda_dep.add_pip_package(\"keras\")\n",
    "conda_dep.add_pip_package(\"gensim\")\n",
    "conda_dep.add_pip_package(\"nltk\")\n",
    "\n",
    "# Adds dependencies to PythonSection of myenv\n",
    "myenv.python.conda_dependencies=conda_dep\n"
   ]
  },
  {
   "cell_type": "code",
   "execution_count": 70,
   "metadata": {},
   "outputs": [
    {
     "name": "stdout",
     "output_type": "stream",
     "text": [
      "#!/usr/bin/env python\n",
      "# coding: utf-8\n",
      "\n",
      "# In[58]:\n",
      "\n",
      "\n",
      "from keras.models import load_model\n",
      "from keras.layers import LSTM, Dense, Embedding, Dropout, Activation,Conv1D,MaxPooling1D\n",
      "from nltk.tokenize import TweetTokenizer\n",
      "tknzr = TweetTokenizer(strip_handles=True, reduce_len=True)\n",
      "from nltk.stem import PorterStemmer \n",
      "import string\n",
      "import re\n",
      "import json\n",
      "from nltk.corpus import stopwords \n",
      "from nltk.tokenize import word_tokenize \n",
      "from multiprocessing import cpu_count\n",
      "stop_words = set(stopwords.words('english'))\n",
      "import numpy as np\n",
      "import pandas as pd\n",
      "import azureml.core\n",
      "#from gensim.models import Word2Vec\n",
      "import pickle\n",
      "from keras.preprocessing.sequence import pad_sequences\n",
      "from azureml.core import Workspace , Dataset, Model\n",
      "\n",
      "\n",
      "\n",
      "\n",
      "\n",
      "def init():\n",
      "    \n",
      "    \n",
      "   \n",
      "    global modelKeras\n",
      "    #global modelGensim\n",
      "    global tokenizer\n",
      "    # Replace filename if needed.\n",
      "    model_path = Model.get_model_path(model_name='multiple',_workspace=workspace)\n",
      "    # Deserialize the model file back into a sklearn model.\n",
      "    #modelGensim = Word2Vec.load(model_path+'/words.w2v')\n",
      "    \n",
      "    modelKeras = load_model(model_path+\"/kerasTweets.h5\")\n",
      "    \n",
      "    with open(model_path+\"/tokenizer.pkl\" ,'rb') as handle:\n",
      "        tokenizer = pickle.load(handle)\n",
      "\n",
      "\n",
      "\n",
      "def run(input_sample):\n",
      "    try:\n",
      "        input_sample = pd.read_json(input_sample,lines=True)\n",
      "        ps = PorterStemmer()\n",
      "        input_sample['text']=input_sample['text'].apply(lambda x: \" \".join(ps.stem(i) for i in tknzr.tokenize(x) if not i in stop_words ))\n",
      "        input_sample['text']=input_sample['text'].apply(lambda x: re.sub(\"@S+|www?:\\S+|https?:\\S+|http?:\\S|[^A-Za-z0-9]+\",' ',x))\n",
      "        input_sample['text']=input_sample['text'].str.replace('\\d+', '').apply(lambda x:str(x).translate(str.maketrans('', '', string.punctuation)).lower().rstrip())\n",
      "        input_sample['text']= input_sample['text'].apply(lambda x: [w for w in word_tokenize(x)])\n",
      "        x_test = pad_sequences(tokenizer.texts_to_sequences(input_sample['text']), maxlen=42)\n",
      "        \n",
      "       # Predict\n",
      "        f=modelKeras.predict([x_test])[0]\n",
      "        if f<0.5:\n",
      "            return \"Negative\"\n",
      "        else:\n",
      "            return \"Positive\"\n",
      "        \n",
      "    except Exception as e:\n",
      "        error = str(e)\n",
      "        return error\n",
      "\n",
      "                                                                \n",
      "\n",
      "\n",
      "\n"
     ]
    }
   ],
   "source": [
    "with open('score.py') as f:\n",
    "    print(f.read())"
   ]
  },
  {
   "cell_type": "code",
   "execution_count": 71,
   "metadata": {},
   "outputs": [
    {
     "name": "stdout",
     "output_type": "stream",
     "text": [
      "Running...........................................................................................................................................................................................................................................\n",
      "TimedOut\n"
     ]
    },
    {
     "name": "stderr",
     "output_type": "stream",
     "text": [
      "ERROR - Service deployment polling reached non-successful terminal state, current service state: Unhealthy\n",
      "Operation ID: a098a93c-bdba-4c2e-b3dc-069d0f87bd51\n",
      "More information can be found using '.get_logs()'\n",
      "Error:\n",
      "{\n",
      "  \"code\": \"DeploymentTimedOut\",\n",
      "  \"statusCode\": 504,\n",
      "  \"message\": \"The deployment operation polling has TimedOut. The service creation is taking longer than our normal time. We are still trying to achieve the desired state for the web service. Please check the webservice state for the current webservice health. You can run print(service.state) from the python SDK to retrieve the current state of the webservice.\"\n",
      "}\n",
      "\n",
      "ERROR - Service deployment polling reached non-successful terminal state, current service state: Unhealthy\n",
      "Operation ID: a098a93c-bdba-4c2e-b3dc-069d0f87bd51\n",
      "More information can be found using '.get_logs()'\n",
      "Error:\n",
      "{\n",
      "  \"code\": \"DeploymentTimedOut\",\n",
      "  \"statusCode\": 504,\n",
      "  \"message\": \"The deployment operation polling has TimedOut. The service creation is taking longer than our normal time. We are still trying to achieve the desired state for the web service. Please check the webservice state for the current webservice health. You can run print(service.state) from the python SDK to retrieve the current state of the webservice.\"\n",
      "}\n",
      "\n"
     ]
    },
    {
     "ename": "WebserviceException",
     "evalue": "WebserviceException:\n\tMessage: Service deployment polling reached non-successful terminal state, current service state: Unhealthy\nOperation ID: a098a93c-bdba-4c2e-b3dc-069d0f87bd51\nMore information can be found using '.get_logs()'\nError:\n{\n  \"code\": \"DeploymentTimedOut\",\n  \"statusCode\": 504,\n  \"message\": \"The deployment operation polling has TimedOut. The service creation is taking longer than our normal time. We are still trying to achieve the desired state for the web service. Please check the webservice state for the current webservice health. You can run print(service.state) from the python SDK to retrieve the current state of the webservice.\"\n}\n\tInnerException None\n\tErrorResponse \n{\n    \"error\": {\n        \"message\": \"Service deployment polling reached non-successful terminal state, current service state: Unhealthy\\nOperation ID: a098a93c-bdba-4c2e-b3dc-069d0f87bd51\\nMore information can be found using '.get_logs()'\\nError:\\n{\\n  \\\"code\\\": \\\"DeploymentTimedOut\\\",\\n  \\\"statusCode\\\": 504,\\n  \\\"message\\\": \\\"The deployment operation polling has TimedOut. The service creation is taking longer than our normal time. We are still trying to achieve the desired state for the web service. Please check the webservice state for the current webservice health. You can run print(service.state) from the python SDK to retrieve the current state of the webservice.\\\"\\n}\"\n    }\n}",
     "output_type": "error",
     "traceback": [
      "\u001b[1;31m---------------------------------------------------------------------------\u001b[0m",
      "\u001b[1;31mWebserviceException\u001b[0m                       Traceback (most recent call last)",
      "\u001b[1;32m~\\Anaconda3\\lib\\site-packages\\azureml\\core\\webservice\\webservice.py\u001b[0m in \u001b[0;36mwait_for_deployment\u001b[1;34m(self, show_output)\u001b[0m\n\u001b[0;32m    676\u001b[0m                                           '{}'.format(self.state, self._operation_endpoint.split('/')[-1],\n\u001b[1;32m--> 677\u001b[1;33m                                                       logs_response, error_response), logger=module_logger)\n\u001b[0m\u001b[0;32m    678\u001b[0m             print('{} service creation operation finished, operation \"{}\"'.format(self._webservice_type,\n",
      "\u001b[1;31mWebserviceException\u001b[0m: WebserviceException:\n\tMessage: Service deployment polling reached non-successful terminal state, current service state: Unhealthy\nOperation ID: a098a93c-bdba-4c2e-b3dc-069d0f87bd51\nMore information can be found using '.get_logs()'\nError:\n{\n  \"code\": \"DeploymentTimedOut\",\n  \"statusCode\": 504,\n  \"message\": \"The deployment operation polling has TimedOut. The service creation is taking longer than our normal time. We are still trying to achieve the desired state for the web service. Please check the webservice state for the current webservice health. You can run print(service.state) from the python SDK to retrieve the current state of the webservice.\"\n}\n\tInnerException None\n\tErrorResponse \n{\n    \"error\": {\n        \"message\": \"Service deployment polling reached non-successful terminal state, current service state: Unhealthy\\nOperation ID: a098a93c-bdba-4c2e-b3dc-069d0f87bd51\\nMore information can be found using '.get_logs()'\\nError:\\n{\\n  \\\"code\\\": \\\"DeploymentTimedOut\\\",\\n  \\\"statusCode\\\": 504,\\n  \\\"message\\\": \\\"The deployment operation polling has TimedOut. The service creation is taking longer than our normal time. We are still trying to achieve the desired state for the web service. Please check the webservice state for the current webservice health. You can run print(service.state) from the python SDK to retrieve the current state of the webservice.\\\"\\n}\"\n    }\n}",
      "\nDuring handling of the above exception, another exception occurred:\n",
      "\u001b[1;31mWebserviceException\u001b[0m                       Traceback (most recent call last)",
      "\u001b[1;32m<ipython-input-71-d2c93b044fa4>\u001b[0m in \u001b[0;36m<module>\u001b[1;34m\u001b[0m\n\u001b[0;32m     21\u001b[0m                        \u001b[0minference_config\u001b[0m\u001b[1;33m=\u001b[0m\u001b[0minference_config\u001b[0m\u001b[1;33m,\u001b[0m\u001b[1;33m\u001b[0m\u001b[1;33m\u001b[0m\u001b[0m\n\u001b[0;32m     22\u001b[0m                        deployment_config=aci_config)\n\u001b[1;32m---> 23\u001b[1;33m \u001b[0mservice\u001b[0m\u001b[1;33m.\u001b[0m\u001b[0mwait_for_deployment\u001b[0m\u001b[1;33m(\u001b[0m\u001b[0mshow_output\u001b[0m\u001b[1;33m=\u001b[0m\u001b[1;32mTrue\u001b[0m\u001b[1;33m)\u001b[0m\u001b[1;33m\u001b[0m\u001b[1;33m\u001b[0m\u001b[0m\n\u001b[0m",
      "\u001b[1;32m~\\Anaconda3\\lib\\site-packages\\azureml\\core\\webservice\\webservice.py\u001b[0m in \u001b[0;36mwait_for_deployment\u001b[1;34m(self, show_output)\u001b[0m\n\u001b[0;32m    684\u001b[0m                                           'Current state is {}'.format(self.state), logger=module_logger)\n\u001b[0;32m    685\u001b[0m             \u001b[1;32melse\u001b[0m\u001b[1;33m:\u001b[0m\u001b[1;33m\u001b[0m\u001b[1;33m\u001b[0m\u001b[0m\n\u001b[1;32m--> 686\u001b[1;33m                 \u001b[1;32mraise\u001b[0m \u001b[0mWebserviceException\u001b[0m\u001b[1;33m(\u001b[0m\u001b[0me\u001b[0m\u001b[1;33m.\u001b[0m\u001b[0mmessage\u001b[0m\u001b[1;33m,\u001b[0m \u001b[0mlogger\u001b[0m\u001b[1;33m=\u001b[0m\u001b[0mmodule_logger\u001b[0m\u001b[1;33m)\u001b[0m\u001b[1;33m\u001b[0m\u001b[1;33m\u001b[0m\u001b[0m\n\u001b[0m\u001b[0;32m    687\u001b[0m \u001b[1;33m\u001b[0m\u001b[0m\n\u001b[0;32m    688\u001b[0m     \u001b[1;32mdef\u001b[0m \u001b[0m_wait_for_operation_to_complete\u001b[0m\u001b[1;33m(\u001b[0m\u001b[0mself\u001b[0m\u001b[1;33m,\u001b[0m \u001b[0mshow_output\u001b[0m\u001b[1;33m)\u001b[0m\u001b[1;33m:\u001b[0m\u001b[1;33m\u001b[0m\u001b[1;33m\u001b[0m\u001b[0m\n",
      "\u001b[1;31mWebserviceException\u001b[0m: WebserviceException:\n\tMessage: Service deployment polling reached non-successful terminal state, current service state: Unhealthy\nOperation ID: a098a93c-bdba-4c2e-b3dc-069d0f87bd51\nMore information can be found using '.get_logs()'\nError:\n{\n  \"code\": \"DeploymentTimedOut\",\n  \"statusCode\": 504,\n  \"message\": \"The deployment operation polling has TimedOut. The service creation is taking longer than our normal time. We are still trying to achieve the desired state for the web service. Please check the webservice state for the current webservice health. You can run print(service.state) from the python SDK to retrieve the current state of the webservice.\"\n}\n\tInnerException None\n\tErrorResponse \n{\n    \"error\": {\n        \"message\": \"Service deployment polling reached non-successful terminal state, current service state: Unhealthy\\nOperation ID: a098a93c-bdba-4c2e-b3dc-069d0f87bd51\\nMore information can be found using '.get_logs()'\\nError:\\n{\\n  \\\"code\\\": \\\"DeploymentTimedOut\\\",\\n  \\\"statusCode\\\": 504,\\n  \\\"message\\\": \\\"The deployment operation polling has TimedOut. The service creation is taking longer than our normal time. We are still trying to achieve the desired state for the web service. Please check the webservice state for the current webservice health. You can run print(service.state) from the python SDK to retrieve the current state of the webservice.\\\"\\n}\"\n    }\n}"
     ]
    }
   ],
   "source": [
    "from azureml.core import Webservice\n",
    "from azureml.core.model import InferenceConfig\n",
    "from azureml.core.webservice import AciWebservice\n",
    "from azureml.exceptions import WebserviceException\n",
    "\n",
    "\n",
    "service_name = 'my-custom-env-service'\n",
    "\n",
    "# Remove any existing service under the same name.\n",
    "try:\n",
    "    Webservice(workspace, service_name).delete()\n",
    "except WebserviceException:\n",
    "    pass\n",
    "\n",
    "inference_config = InferenceConfig(entry_script='score.py', environment=myenv)\n",
    "aci_config = AciWebservice.deploy_configuration(cpu_cores=1, memory_gb=1)\n",
    "\n",
    "service = Model.deploy(workspace=workspace,\n",
    "                       name=service_name,\n",
    "                       models=[model],\n",
    "                       inference_config=inference_config,\n",
    "                       deployment_config=aci_config)\n",
    "service.wait_for_deployment(show_output=True)"
   ]
  },
  {
   "cell_type": "code",
   "execution_count": 73,
   "metadata": {},
   "outputs": [
    {
     "name": "stdout",
     "output_type": "stream",
     "text": [
      "Unhealthy\n",
      "scoring URI: http://9aef3626-5af9-4e0a-b503-b1fc9d78387a.eastus.azurecontainer.io/score\n"
     ]
    }
   ],
   "source": [
    "\n",
    "print(service.state)\n",
    "print(\"scoring URI: \" + service.scoring_uri)"
   ]
  }
 ],
 "metadata": {
  "kernelspec": {
   "display_name": "Python 3",
   "language": "python",
   "name": "python3"
  },
  "language_info": {
   "codemirror_mode": {
    "name": "ipython",
    "version": 3
   },
   "file_extension": ".py",
   "mimetype": "text/x-python",
   "name": "python",
   "nbconvert_exporter": "python",
   "pygments_lexer": "ipython3",
   "version": "3.7.4"
  },
  "toc": {
   "base_numbering": 1,
   "nav_menu": {},
   "number_sections": true,
   "sideBar": true,
   "skip_h1_title": false,
   "title_cell": "Table of Contents",
   "title_sidebar": "Contents",
   "toc_cell": false,
   "toc_position": {},
   "toc_section_display": true,
   "toc_window_display": false
  }
 },
 "nbformat": 4,
 "nbformat_minor": 2
}
