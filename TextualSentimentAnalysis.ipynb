{
 "cells": [
  {
   "cell_type": "code",
   "execution_count": 11,
   "metadata": {},
   "outputs": [],
   "source": [
    "%matplotlib inline\n",
    "import numpy as np\n",
    "import matplotlib.pyplot as plt\n",
    "import pandas as pd\n",
    "import azureml.core\n",
    "from azureml.core import Workspace , Dataset\n",
    "from multiprocessing import cpu_count"
   ]
  },
  {
   "cell_type": "markdown",
   "metadata": {},
   "source": [
    "# Tweets Sentiment analysis\n",
    "# Loading and preprocessing data\n",
    "- apply stemmer/ lemmatizer\n",
    "- select target and text columns\n",
    "- remove URL\n",
    "- remove punctuation\n",
    "- remove rows with Nan\n",
    "- remove stopwords\n",
    "- tokenize"
   ]
  },
  {
   "cell_type": "code",
   "execution_count": 121,
   "metadata": {},
   "outputs": [
    {
     "data": {
      "text/plain": [
       "0      awww that a bummer you shoulda got david car...\n",
       "1    is upset that he can t updat hi facebook by te...\n",
       "2    i dive mani time for the ball manag to save  t...\n",
       "3         my whole bodi feel itchi and like it on fire\n",
       "4    no it not behav at all i m mad whi am i here b...\n",
       "Name: Col6, dtype: object"
      ]
     },
     "execution_count": 121,
     "metadata": {},
     "output_type": "execute_result"
    }
   ],
   "source": [
    "dataset= pd.read_csv(\"tw.csv\", names=[\"Col1\",\"Col2\",\"Col3\",\"Col4\",\"Col5\",\"Col6\"], encoding='ISO-8859-1') \n",
    "\n",
    "from nltk.tokenize import TweetTokenizer\n",
    "tknzr = TweetTokenizer(strip_handles=True, reduce_len=True)\n",
    "from nltk.stem import WordNetLemmatizer \n",
    "from nltk.stem import PorterStemmer \n",
    "import string\n",
    "import re\n",
    "\n",
    "##############################################################\n",
    "##STEMMER##\n",
    "ps = PorterStemmer()\n",
    "dataset['Col6']=dataset['Col6'].apply(lambda x: \" \".join(ps.stem(i) for i in tknzr.tokenize(x) ))\n",
    "\n",
    "###############################################################\n",
    "\n",
    "################################################################\n",
    "#LEMMATIZER##\n",
    "#lemmatizer = WordNetLemmatizer()\n",
    "#dataset['Col6']=dataset['Col6'].apply(lambda x: \" \".join(lemmatizer.lemmatize(i) for i in tknzr.tokenize(x) ))\n",
    "#################################################################\n",
    "dataset['Col6']=dataset['Col6'].apply(lambda x: re.sub(\"@S+|www?:\\S+|https?:\\S+|http?:\\S|[^A-Za-z0-9]+\",' ',x))\n",
    "dataset= dataset.dropna(axis=0, how=\"any\")\n",
    "dataset['Col6']=dataset['Col6'].str.replace('\\d+', '').apply(lambda x:str(x).translate(str.maketrans('', '', string.punctuation)).lower().rstrip())\n",
    "dataset['Col6'].head()"
   ]
  },
  {
   "cell_type": "code",
   "execution_count": 122,
   "metadata": {},
   "outputs": [
    {
     "data": {
      "text/html": [
       "<div>\n",
       "<style scoped>\n",
       "    .dataframe tbody tr th:only-of-type {\n",
       "        vertical-align: middle;\n",
       "    }\n",
       "\n",
       "    .dataframe tbody tr th {\n",
       "        vertical-align: top;\n",
       "    }\n",
       "\n",
       "    .dataframe thead th {\n",
       "        text-align: right;\n",
       "    }\n",
       "</style>\n",
       "<table border=\"1\" class=\"dataframe\">\n",
       "  <thead>\n",
       "    <tr style=\"text-align: right;\">\n",
       "      <th></th>\n",
       "      <th>Col1</th>\n",
       "      <th>Col6</th>\n",
       "    </tr>\n",
       "  </thead>\n",
       "  <tbody>\n",
       "    <tr>\n",
       "      <th>0</th>\n",
       "      <td>0</td>\n",
       "      <td>awww that a bummer you shoulda got david car...</td>\n",
       "    </tr>\n",
       "    <tr>\n",
       "      <th>1</th>\n",
       "      <td>0</td>\n",
       "      <td>is upset that he can t updat hi facebook by te...</td>\n",
       "    </tr>\n",
       "    <tr>\n",
       "      <th>2</th>\n",
       "      <td>0</td>\n",
       "      <td>i dive mani time for the ball manag to save  t...</td>\n",
       "    </tr>\n",
       "    <tr>\n",
       "      <th>3</th>\n",
       "      <td>0</td>\n",
       "      <td>my whole bodi feel itchi and like it on fire</td>\n",
       "    </tr>\n",
       "    <tr>\n",
       "      <th>4</th>\n",
       "      <td>0</td>\n",
       "      <td>no it not behav at all i m mad whi am i here b...</td>\n",
       "    </tr>\n",
       "  </tbody>\n",
       "</table>\n",
       "</div>"
      ],
      "text/plain": [
       "   Col1                                               Col6\n",
       "0     0    awww that a bummer you shoulda got david car...\n",
       "1     0  is upset that he can t updat hi facebook by te...\n",
       "2     0  i dive mani time for the ball manag to save  t...\n",
       "3     0       my whole bodi feel itchi and like it on fire\n",
       "4     0  no it not behav at all i m mad whi am i here b..."
      ]
     },
     "execution_count": 122,
     "metadata": {},
     "output_type": "execute_result"
    }
   ],
   "source": [
    "dataset= dataset[[\"Col1\",\"Col6\"]]\n",
    "from nltk.corpus import stopwords \n",
    "from nltk.tokenize import word_tokenize \n",
    "stop_words = set(stopwords.words('english')) \n",
    "dataset.head()"
   ]
  },
  {
   "cell_type": "code",
   "execution_count": 187,
   "metadata": {},
   "outputs": [
    {
     "data": {
      "text/plain": [
       "<matplotlib.axes._subplots.AxesSubplot at 0x1d9de94b6c8>"
      ]
     },
     "execution_count": 187,
     "metadata": {},
     "output_type": "execute_result"
    },
    {
     "data": {
      "image/png": "[encoded data removed]",
      "text/plain": [
       "<Figure size 432x288 with 1 Axes>"
      ]
     },
     "metadata": {
      "needs_background": "light"
     },
     "output_type": "display_data"
    }
   ],
   "source": [
    "dataset[\"Col1\"].plot(kind=\"hist\", title=\"Target\")"
   ]
  },
  {
   "cell_type": "code",
   "execution_count": 123,
   "metadata": {},
   "outputs": [
    {
     "data": {
      "text/plain": [
       "0    [awww, bummer, shoulda, got, david, carr, thir...\n",
       "1    [upset, updat, hi, facebook, text, might, cri,...\n",
       "2    [dive, mani, time, ball, manag, save, rest, go...\n",
       "3               [whole, bodi, feel, itchi, like, fire]\n",
       "4                       [behav, mad, whi, becaus, see]\n",
       "Name: Col6, dtype: object"
      ]
     },
     "execution_count": 123,
     "metadata": {},
     "output_type": "execute_result"
    }
   ],
   "source": [
    "dataset['Col6'] = dataset['Col6'].apply(lambda x: [w for w in word_tokenize(x) if not w in stop_words])\n",
    "dataset['Col6'].head()"
   ]
  },
  {
   "cell_type": "markdown",
   "metadata": {},
   "source": [
    "# Simple model\n",
    "\n",
    "Word vectors has been averaged into 1D corpus representation\n",
    "- apply fasttext and word2vec algorithms\n",
    "- build vocabulary\n"
   ]
  },
  {
   "cell_type": "code",
   "execution_count": null,
   "metadata": {},
   "outputs": [],
   "source": [
    "ds=dataset\n",
    "from gensim.models import Word2Vec, FastText\n",
    "############FASTTEXT#############\n",
    "model = FastText(word_tokens, min_count=1, size=8,workers=cpu_count())\n",
    "#################################\n",
    "\n",
    "##############Word2Vec###########\n",
    "#model = Word2Vec(word_tokens, min_count=1, size=8,workers=cpu_count())\n",
    "################################\n",
    "word_tokens=ds['Col6']\n",
    "words = list(model.wv.vocab)\n",
    "print(words)\n"
   ]
  },
  {
   "cell_type": "markdown",
   "metadata": {},
   "source": [
    "- average vectors\n",
    "- replace words with average of vectors"
   ]
  },
  {
   "cell_type": "code",
   "execution_count": 125,
   "metadata": {},
   "outputs": [
    {
     "data": {
      "text/plain": [
       "214918"
      ]
     },
     "execution_count": 125,
     "metadata": {},
     "output_type": "execute_result"
    }
   ],
   "source": [
    "dic={}\n",
    "ww=list(model.wv.vocab)\n",
    "for i in ww:\n",
    "    dic.update({i:model.wv[i].mean()})\n",
    "len(dic)\n"
   ]
  },
  {
   "cell_type": "code",
   "execution_count": 126,
   "metadata": {},
   "outputs": [],
   "source": [
    "final=[]\n",
    "for i in ds[\"Col6\"]:\n",
    "    arr=[]\n",
    "    for u in i:\n",
    "        if u in dic.keys():\n",
    "            arr.append(dic[u])\n",
    "        else:\n",
    "            print(u)\n",
    "    final.append(arr)"
   ]
  },
  {
   "cell_type": "markdown",
   "metadata": {},
   "source": [
    "- keep 20 words per tweet, to have equal matrix of documents\n",
    "- check if all the documents have the same length"
   ]
  },
  {
   "cell_type": "code",
   "execution_count": 127,
   "metadata": {},
   "outputs": [],
   "source": [
    "#keeping 20 words per tweet\n",
    "\n",
    "for i in final:\n",
    "    if len(i)<21:\n",
    "        for b in range(len(i),20):\n",
    "            i.append(0)\n",
    "    elif len(i)>20:\n",
    "        b=len(i)\n",
    "        while b>20:\n",
    "            i.pop(b-1)\n",
    "            b=b-1"
   ]
  },
  {
   "cell_type": "code",
   "execution_count": 128,
   "metadata": {},
   "outputs": [
    {
     "name": "stdout",
     "output_type": "stream",
     "text": [
      "20\n",
      "20\n"
     ]
    }
   ],
   "source": [
    "#check nr tweets\n",
    "max=0\n",
    "min=90\n",
    "for i in final:\n",
    "    if len(i)>max:\n",
    "        max=len(i)\n",
    "    if len(i)<min:\n",
    "        min=len(i)\n",
    "print(min)\n",
    "print(max)"
   ]
  },
  {
   "cell_type": "code",
   "execution_count": 129,
   "metadata": {},
   "outputs": [
    {
     "data": {
      "text/plain": [
       "(1600000, 20)"
      ]
     },
     "execution_count": 129,
     "metadata": {},
     "output_type": "execute_result"
    }
   ],
   "source": [
    "X= pd.DataFrame(final)\n",
    "X.shape"
   ]
  },
  {
   "cell_type": "code",
   "execution_count": 130,
   "metadata": {},
   "outputs": [
    {
     "data": {
      "text/plain": [
       "(1600000,)"
      ]
     },
     "execution_count": 130,
     "metadata": {},
     "output_type": "execute_result"
    }
   ],
   "source": [
    "ds['Col1']= ds['Col1'].replace(4,1)\n",
    "Y=ds['Col1']\n",
    "Y.shape\n"
   ]
  },
  {
   "cell_type": "markdown",
   "metadata": {},
   "source": [
    "- define DNN model \n",
    "- split dataset into test and train sets\n",
    "- fit and run model"
   ]
  },
  {
   "cell_type": "code",
   "execution_count": 133,
   "metadata": {},
   "outputs": [
    {
     "name": "stdout",
     "output_type": "stream",
     "text": [
      "Wall time: 0 ns\n",
      "Train on 1024000 samples, validate on 256000 samples\n",
      "Epoch 1/10\n",
      "1024000/1024000 [==============================] - 241s 236us/step - loss: 0.6742 - accuracy: 0.5680 - val_loss: 0.6707 - val_accuracy: 0.5746\n",
      "Epoch 2/10\n",
      "1024000/1024000 [==============================] - 248s 242us/step - loss: 0.6707 - accuracy: 0.5743 - val_loss: 0.6698 - val_accuracy: 0.5749\n",
      "Epoch 3/10\n",
      "1024000/1024000 [==============================] - 249s 243us/step - loss: 0.6695 - accuracy: 0.5768 - val_loss: 0.6687 - val_accuracy: 0.5758\n",
      "Epoch 4/10\n",
      "1024000/1024000 [==============================] - 244s 238us/step - loss: 0.6690 - accuracy: 0.5766 - val_loss: 0.6692 - val_accuracy: 0.5750\n",
      "Epoch 5/10\n",
      "1024000/1024000 [==============================] - 236s 231us/step - loss: 0.6685 - accuracy: 0.5781 - val_loss: 0.6679 - val_accuracy: 0.5789\n",
      "Epoch 6/10\n",
      "1024000/1024000 [==============================] - 240s 235us/step - loss: 0.6686 - accuracy: 0.5790 - val_loss: 0.6675 - val_accuracy: 0.5807\n",
      "Epoch 7/10\n",
      "1024000/1024000 [==============================] - 240s 235us/step - loss: 0.6682 - accuracy: 0.5794 - val_loss: 0.6680 - val_accuracy: 0.5788\n",
      "Epoch 8/10\n",
      "1024000/1024000 [==============================] - 248s 243us/step - loss: 0.6680 - accuracy: 0.5799 - val_loss: 0.6679 - val_accuracy: 0.5805\n",
      "Epoch 9/10\n",
      "1024000/1024000 [==============================] - 228s 223us/step - loss: 0.6678 - accuracy: 0.5806 - val_loss: 0.6679 - val_accuracy: 0.5812\n",
      "Epoch 10/10\n",
      "1024000/1024000 [==============================] - 239s 234us/step - loss: 0.6678 - accuracy: 0.5806 - val_loss: 0.6676 - val_accuracy: 0.5819\n"
     ]
    },
    {
     "data": {
      "text/plain": [
       "<keras.callbacks.callbacks.History at 0x1daab5d6348>"
      ]
     },
     "execution_count": 133,
     "metadata": {},
     "output_type": "execute_result"
    }
   ],
   "source": [
    "%time\n",
    "# Import `Sequential` from `keras.models`\n",
    "from keras.models import Sequential\n",
    "from sklearn.model_selection import train_test_split\n",
    "# Import `Dense` from `keras.layers`\n",
    "from keras.layers import Dense\n",
    "from keras.layers import SimpleRNN\n",
    "\n",
    "# Initialize the constructor\n",
    "model = Sequential()\n",
    "# Add an input layer \n",
    "model.add(Dense(20, activation='relu', input_shape=(20,)))\n",
    "model.add(Dense(16, activation='relu'))\n",
    "\n",
    "model.add(Dense(12, activation='relu'))\n",
    "# Add one hidden layer \n",
    "model.add(Dense(8, activation='relu'))\n",
    "# Add an output layer \n",
    "model.add(Dense(1, activation='sigmoid'))\n",
    "model.compile(loss='binary_crossentropy',\n",
    "              optimizer='adam',\n",
    "              metrics=['accuracy'])\n",
    "X_train, X_test, y_train, y_test = train_test_split(X, Y, test_size=0.2, random_state=42)\n",
    "model.fit(X_train, y_train,epochs= 10, batch_size=5, verbose=1, validation_split=0.2 )\n"
   ]
  },
  {
   "cell_type": "code",
   "execution_count": 134,
   "metadata": {},
   "outputs": [
    {
     "name": "stdout",
     "output_type": "stream",
     "text": [
      "320000/320000 [==============================] - 5s 15us/step\n",
      "[0.6679766739666462, 0.5808968544006348]\n"
     ]
    }
   ],
   "source": [
    "acc= model.evaluate(X_test,y_test)\n",
    "print(acc)"
   ]
  },
  {
   "cell_type": "code",
   "execution_count": 135,
   "metadata": {},
   "outputs": [
    {
     "data": {
      "text/plain": [
       "0.5813331548131104"
      ]
     },
     "execution_count": 135,
     "metadata": {},
     "output_type": "execute_result"
    }
   ],
   "source": [
    "y_scores = model.predict_classes(X_test)\n",
    "from sklearn.metrics import roc_auc_score\n",
    "roc_auc_score(y_test, y_scores)\n"
   ]
  },
  {
   "cell_type": "markdown",
   "metadata": {},
   "source": [
    "# Summary Basic Model\n",
    "\n",
    "<table><th>Model</th><th>Word ending</th><th>Vectorization</th><th>Accuracy</th><th>Loss</th><th>AUC</th><th>Max Time</th>\n",
    "    <tr>\n",
    "        <td>Input20/Dense16/Dense12/Dense8/Output1</td><td>Lemmatization</td><td>Word2vec<td>0.58</td><td>0.67</td><td>0.58</td><td>193</td>\n",
    "        </tr><tr>\n",
    "    <td>Input20/Dense16/Dense12/Dense8/Output1</td><td>Lemmatization</td><td>FastText<td>0.55</td><td>0.68</td><td>0.55</td><td>244</td></tr><tr>\n",
    "    <td>Input20/Dense16/Dense12/Dense8/Output1</td><td>Stemming</td><td>FastText<td>0.58</td><td>0.67</td><td>0.58</td><td>249</td>\n",
    "     </tr><tr>\n",
    "    <td>Input20/Dense16/Dense12/Dense8/Output1</td><td>Stemming</td><td>Word2vec<td>0.58</td><td>0.67</td><td>0.58</td><td>190</td>\n",
    "     </tr></table>"
   ]
  },
  {
   "cell_type": "markdown",
   "metadata": {},
   "source": [
    "# Multiple dimentions model\n",
    "Keeping 100 word vectors and loading them into Embeding layer of keras model\n",
    "- preprocessing documents\n",
    "- keep target and text column\n",
    "- apply lemmitizer or stemmer\n",
    "- remove stopwords\n",
    "- remove URI\n",
    "- remove punctuation"
   ]
  },
  {
   "cell_type": "code",
   "execution_count": 165,
   "metadata": {},
   "outputs": [],
   "source": [
    "dataset= pd.read_csv(\"tw.csv\", names=[\"Col1\",\"Col2\",\"Col3\",\"Col4\",\"Col5\",\"Col6\"], encoding='ISO-8859-1') \n",
    "#data preprocessing- done\n",
    "from nltk.tokenize import TweetTokenizer\n",
    "tknzr = TweetTokenizer(strip_handles=True, reduce_len=True)\n",
    "from nltk.stem import WordNetLemmatizer \n",
    "from nltk.stem import PorterStemmer \n",
    "import string\n",
    "import re\n",
    "from nltk.corpus import stopwords \n",
    "from nltk.tokenize import word_tokenize \n",
    "from multiprocessing import cpu_count\n",
    "stop_words = set(stopwords.words('english')) \n",
    "\n",
    "############ LEMMITIZER ###############\n",
    "#lemmatizer = WordNetLemmatizer()\n",
    "#dataset['Col6']=dataset['Col6'].apply(lambda x: \" \".join(lemmatizer.lemmatize(i) for i in tknzr.tokenize(x) if not i in stop_words ))\n",
    "#######################################\n",
    "\n",
    "########### STEMMER ##################\n",
    "ps = PorterStemmer()\n",
    "dataset['Col6']=dataset['Col6'].apply(lambda x: \" \".join(ps.stem(i) for i in tknzr.tokenize(x) if not i in stop_words ))\n",
    "######################################\n",
    "\n",
    "dataset['Col6']=dataset['Col6'].apply(lambda x: re.sub(\"@S+|www?:\\S+|https?:\\S+|http?:\\S|[^A-Za-z0-9]+\",' ',x))\n",
    "dataset['Col1']= dataset['Col1'].replace(4,1)\n",
    "dataset['Col6']=dataset['Col6'].str.replace('\\d+', '').apply(lambda x:str(x).translate(str.maketrans('', '', string.punctuation)).lower().rstrip())\n",
    "dataset= dataset[[\"Col1\",\"Col6\"]]\n",
    "dataset= dataset.dropna(axis=0,how=\"any\")\n",
    "ds= dataset"
   ]
  },
  {
   "cell_type": "markdown",
   "metadata": {},
   "source": [
    "- tokenize documents\n",
    "- apply end of word processing algorithm word2vec /fasttex\n",
    "- create vocabulary\n",
    "- create 100 dimentional matrix that represents the distionary"
   ]
  },
  {
   "cell_type": "code",
   "execution_count": null,
   "metadata": {},
   "outputs": [],
   "source": [
    "from multiprocessing import cpu_count\n",
    "from gensim.models import FastText, Word2Vec\n",
    "\n",
    "tokenized= ds\n",
    "word_tokens= tokenized['Col6'].apply(lambda x: [w for w in word_tokenize(x)])\n",
    "nrDimentsions=100\n",
    "\n",
    "######## Word2Text ####################\n",
    "#model = Word2Vec(word_tokens, min_count=1, size=nrDimentsions,workers=cpu_count())\n",
    "#######################################\n",
    "\n",
    "######## FastText ######################\n",
    "model = FastText(word_tokens, min_count=1, size=nrDimentsions,workers=cpu_count())\n",
    "########################################\n",
    "\n",
    "words = list(model.wv.vocab)\n",
    "print(words)\n",
    "\n",
    "# save the vectors in a new matrix\n",
    "embedding_matrix = np.zeros((len(model.wv.vocab) + 1, nrDimentsions))\n",
    "for i, vec in enumerate(model.wv.vectors):\n",
    "    embedding_matrix[i] = vec"
   ]
  },
  {
   "cell_type": "code",
   "execution_count": 167,
   "metadata": {},
   "outputs": [
    {
     "name": "stderr",
     "output_type": "stream",
     "text": [
      "WARNING - Effective 'alpha' higher than previous training cycles\n"
     ]
    }
   ],
   "source": [
    "model.train(word_tokens,total_examples=len(word_tokens),epochs=10)"
   ]
  },
  {
   "cell_type": "markdown",
   "metadata": {},
   "source": [
    "- define DNN model with multidimentional input\n",
    "- prepare tokens for model loading\n",
    "- split data into train and test\n",
    "- save tokenizer to file\n",
    "- fit model"
   ]
  },
  {
   "cell_type": "code",
   "execution_count": 168,
   "metadata": {},
   "outputs": [],
   "source": [
    "# more imports\n",
    "from sklearn.model_selection import train_test_split\n",
    "from keras.preprocessing.text import Tokenizer\n",
    "from keras.preprocessing.sequence import pad_sequences\n",
    "\n",
    "# how many features should the tokenizer extract\n",
    "features = embedding_matrix.shape[0]\n",
    "tokenizer = Tokenizer(num_words = features)\n",
    "# fit the tokenizer on our text\n",
    "tokenizer.fit_on_texts(ds['Col6'])\n",
    "\n",
    "# get all words that the tokenizer knows\n",
    "word_index = tokenizer.word_index\n",
    "\n",
    "# put the tokens in a matrix\n",
    "X = tokenizer.texts_to_sequences(ds['Col6'])\n",
    "X = pad_sequences(X)\n",
    "\n",
    "# prepare the labels\n",
    "y = pd.get_dummies(ds['Col1'])\n",
    "\n",
    "# split in train and test\n",
    "X_train, X_test, y_train, y_test = train_test_split(X, ds['Col1'], test_size=0.1, random_state=42)"
   ]
  },
  {
   "cell_type": "markdown",
   "metadata": {},
   "source": [
    "- save tokenizer\n",
    "- fit model\n",
    "- calculate mertics\n",
    "- save model"
   ]
  },
  {
   "cell_type": "code",
   "execution_count": 169,
   "metadata": {},
   "outputs": [],
   "source": [
    "import pickle\n",
    "\n",
    "# saving tokenizer to file\n",
    "with open('tokenizer.pkl', 'wb') as handle:\n",
    "    pickle.dump(tokenizer, handle, protocol=pickle.HIGHEST_PROTOCOL)\n"
   ]
  },
  {
   "cell_type": "code",
   "execution_count": 170,
   "metadata": {},
   "outputs": [
    {
     "data": {
      "text/plain": [
       "(1600000, 42)"
      ]
     },
     "execution_count": 170,
     "metadata": {},
     "output_type": "execute_result"
    }
   ],
   "source": [
    "X.shape"
   ]
  },
  {
   "cell_type": "code",
   "execution_count": 171,
   "metadata": {},
   "outputs": [],
   "source": [
    "from keras.models import Sequential\n",
    "from keras.layers import LSTM, Dense, Embedding, Dropout, Activation,Conv1D,MaxPooling1D\n",
    "\n",
    "# init model\n",
    "mod = Sequential()\n",
    "# emmbed word vectors\n",
    "mod.add(Embedding(len(model.wv.vocab)+1,nrDimentsions,input_length=X.shape[1],weights=[embedding_matrix],trainable=False))\n",
    "mod.add(Dropout(0.25))\n",
    "\n",
    "#mod.add(MaxPooling1D(pool_size=4))\n",
    "mod.add(LSTM(200))\n",
    "\n",
    "mod.add(Dense(1))\n",
    "mod.add(Activation('sigmoid'))\n",
    "\n",
    "\n",
    "mod.compile(loss='binary_crossentropy',\n",
    "              optimizer='adam',\n",
    "              metrics=['accuracy'])"
   ]
  },
  {
   "cell_type": "code",
   "execution_count": 172,
   "metadata": {},
   "outputs": [
    {
     "name": "stdout",
     "output_type": "stream",
     "text": [
      "Wall time: 2.18 ms\n",
      "Train on 1152000 samples, validate on 288000 samples\n",
      "Epoch 1/2\n",
      "1152000/1152000 [==============================] - 5756s 5ms/step - loss: 0.5379 - accuracy: 0.7239 - val_loss: 0.5115 - val_accuracy: 0.7447\n",
      "Epoch 2/2\n"
     ]
    },
    {
     "name": "stderr",
     "output_type": "stream",
     "text": [
      "C:\\Users\\lesh3\\Anaconda3\\lib\\site-packages\\keras\\callbacks\\callbacks.py:846: RuntimeWarning: Early stopping conditioned on metric `val_acc` which is not available. Available metrics are: val_loss,val_accuracy,loss,accuracy,lr\n",
      "  (self.monitor, ','.join(list(logs.keys()))), RuntimeWarning\n"
     ]
    },
    {
     "name": "stdout",
     "output_type": "stream",
     "text": [
      "1152000/1152000 [==============================] - 6530s 6ms/step - loss: 0.5260 - accuracy: 0.7334 - val_loss: 0.5062 - val_accuracy: 0.7489\n"
     ]
    },
    {
     "data": {
      "text/plain": [
       "<keras.callbacks.callbacks.History at 0x1dc5b4b92c8>"
      ]
     },
     "execution_count": 172,
     "metadata": {},
     "output_type": "execute_result"
    }
   ],
   "source": [
    "%time\n",
    "from keras.callbacks import ReduceLROnPlateau, EarlyStopping\n",
    "mod.fit(X_train,y_train,epochs= 2, batch_size=5, verbose=1, validation_split=0.2, callbacks= [ ReduceLROnPlateau(monitor='val_loss', patience=5, cooldown=0),\n",
    "              EarlyStopping(monitor='val_acc', min_delta=1e-4, patience=5)])"
   ]
  },
  {
   "cell_type": "code",
   "execution_count": 173,
   "metadata": {},
   "outputs": [
    {
     "name": "stdout",
     "output_type": "stream",
     "text": [
      "160000/160000 [==============================] - 101s 633us/step\n",
      "[0.5059733984947204, 0.7489562630653381]\n"
     ]
    }
   ],
   "source": [
    "acc= mod.evaluate(X_test,y_test)\n",
    "print(acc)\n",
    "\n",
    "y_scores = mod.predict_classes(X_test)\n"
   ]
  },
  {
   "cell_type": "code",
   "execution_count": 34,
   "metadata": {},
   "outputs": [
    {
     "name": "stdout",
     "output_type": "stream",
     "text": [
      "Saved model to disk\n"
     ]
    }
   ],
   "source": [
    "# serialize model to JSON\n",
    "model_json = mod.to_json()\n",
    "with open(\"model.json\", \"w\") as json_file:\n",
    "    json_file.write(model_json)\n",
    "# serialize weights to HDF5\n",
    "mod.save_weights(\"model.h5\")\n",
    "print(\"Saved model to disk\")"
   ]
  },
  {
   "cell_type": "code",
   "execution_count": 174,
   "metadata": {},
   "outputs": [
    {
     "data": {
      "text/plain": [
       "0.7488592621377752"
      ]
     },
     "execution_count": 174,
     "metadata": {},
     "output_type": "execute_result"
    }
   ],
   "source": [
    "roc_auc_score(y_test, y_scores)"
   ]
  },
  {
   "cell_type": "markdown",
   "metadata": {},
   "source": [
    "# Summary Multiple Dimentions Input Model\n",
    "\n",
    "<table><th>Model</th><th>Word ending</th><th>Vectorization</th><th>Accuracy</th><th>Loss</th><th>AUC</th><th>Max Time</th>\n",
    "    <tr>\n",
    "        <td>Embedding/Dropout0.25/LSMT200/Output1</td><td>Lemmatization</td><td>Word2vec<td>0.7594</td><td>0.49</td><td>0.7595</td><td>5203</td>\n",
    "        </tr><tr>\n",
    "    <td>Embedding/Dropout0.25/LSMT200/Output1</td><td>Lemmatization</td><td>FastText<td>0.749</td><td>0.506</td><td>0.7489</td><td>6530</td></tr><tr>\n",
    "    <td>Embedding/Dropout0.25/LSMT200/Output1</td><td>Stemming</td><td>FastText<td>0.748</td><td>0.508</td><td>0.748</td><td>5629</td>\n",
    "     </tr><tr>\n",
    "    <td>Embedding/Dropout0.25/LSMT200/Output1</td><td>Stemming</td><td>Word2vec<td>0.762</td><td>0.48</td><td>0.763</td><td>5408</td>\n",
    "     </tr></table>"
   ]
  },
  {
   "cell_type": "markdown",
   "metadata": {},
   "source": [
    "# Commercial API Test"
   ]
  },
  {
   "cell_type": "code",
   "execution_count": 176,
   "metadata": {},
   "outputs": [
    {
     "name": "stdout",
     "output_type": "stream",
     "text": [
      "(0, \"@switchfoot http://twitpic.com/2y1zl - Awww, that's a bummer.  You shoulda got David Carr of Third Day to do it. ;D\")\n",
      "b'{\"documents\":[{\"id\":\"1\",\"score\":0.87795019149780273}],\"errors\":[]}'\n",
      "(1, \"is upset that he can't update his Facebook by texting it... and might cry as a result  School today also. Blah!\")\n",
      "b'{\"documents\":[{\"id\":\"1\",\"score\":0.11837613582611084}],\"errors\":[]}'\n",
      "(2, '@Kenichan I dived many times for the ball. Managed to save 50%  The rest go out of bounds')\n",
      "b'{\"documents\":[{\"id\":\"1\",\"score\":0.8160826563835144}],\"errors\":[]}'\n",
      "(3, 'my whole body feels itchy and like its on fire ')\n",
      "b'{\"documents\":[{\"id\":\"1\",\"score\":0.056455731391906738}],\"errors\":[]}'\n",
      "(4, \"@nationwideclass no, it's not behaving at all. i'm mad. why am i here? because I can't see you all over there. \")\n",
      "b'{\"documents\":[{\"id\":\"1\",\"score\":0.026735126972198486}],\"errors\":[]}'\n",
      "(5, '@Kwesidei not the whole crew ')\n",
      "b'{\"documents\":[{\"id\":\"1\",\"score\":0.720441460609436}],\"errors\":[]}'\n",
      "(6, 'Need a hug ')\n",
      "b'{\"documents\":[{\"id\":\"1\",\"score\":0.15054789185523987}],\"errors\":[]}'\n",
      "(7, \"@LOLTrish hey  long time no see! Yes.. Rains a bit ,only a bit  LOL , I'm fine thanks , how's you ?\")\n",
      "b'{\"documents\":[{\"id\":\"1\",\"score\":0.9729386568069458}],\"errors\":[]}'\n",
      "(8, \"@Tatiana_K nope they didn't have it \")\n",
      "b'{\"documents\":[{\"id\":\"1\",\"score\":0.030338048934936523}],\"errors\":[]}'\n"
     ]
    }
   ],
   "source": [
    "import http.client, urllib.request, urllib.parse, urllib.error, base64, json\n",
    "datas= pd.read_csv(\"tw.csv\", names=[\"Col1\",\"Col2\",\"Col3\",\"Col4\",\"Col5\",\"Col6\"], encoding='ISO-8859-1')\n",
    "counter=0\n",
    "for i in datas['Col6'].iteritems():\n",
    "    counter=counter+1\n",
    "    if counter==10:\n",
    "        break\n",
    "    else:\n",
    "        headers = {\n",
    "    # Request headers\n",
    "    'Content-Type': 'application/json',\n",
    "    'Ocp-Apim-Subscription-Key': 'key',\n",
    "}\n",
    "\n",
    "        params = urllib.parse.urlencode({\n",
    "    # Request parameters\n",
    "    'showStats': '{true}',\n",
    "    'model-version': '{2}',\n",
    "})\n",
    "\n",
    "        try:\n",
    "            conn = http.client.HTTPSConnection('westcentralus.api.cognitive.microsoft.com')\n",
    "            conn.request(\"POST\", \"/text/analytics/v2.0/sentiment?%s\" % params, json.dumps(\n",
    "  {\"documents\": [\n",
    "    {\n",
    "      \"language\": \"en\",\n",
    "      \"id\": \"1\",\n",
    "      \"text\": str(i)\n",
    "    }]}), headers)\n",
    "            response = conn.getresponse()\n",
    "            data = response.read()\n",
    "            print(i)\n",
    "            print(data)\n",
    "            conn.close()\n",
    "        except Exception as e:\n",
    "            print(\"[Errno {0}] {1}\".format(e.errno, e.strerror))\n",
    "    \n",
    "\n",
    "    \n",
    "\n"
   ]
  },
  {
   "cell_type": "markdown",
   "metadata": {},
   "source": [
    "# Customized Model Deployed Test"
   ]
  },
  {
   "cell_type": "code",
   "execution_count": 189,
   "metadata": {},
   "outputs": [
    {
     "name": "stdout",
     "output_type": "stream",
     "text": [
      "@switchfoot http://twitpic.com/2y1zl - Awww, that's a bummer.  You shoulda got David Carr of Third Day to do it. ;D\n",
      "0:00:00.656637\n",
      "Positive\n",
      "*******************************************************\n",
      "is upset that he can't update his Facebook by texting it... and might cry as a result  School today also. Blah!\n",
      "0:00:00.308153\n",
      "Negative\n",
      "*******************************************************\n",
      "@Kenichan I dived many times for the ball. Managed to save 50%  The rest go out of bounds\n",
      "0:00:00.263334\n",
      "Negative\n",
      "*******************************************************\n",
      "my whole body feels itchy and like its on fire \n",
      "0:00:00.251848\n",
      "Negative\n",
      "*******************************************************\n",
      "@nationwideclass no, it's not behaving at all. i'm mad. why am i here? because I can't see you all over there. \n",
      "0:00:00.287267\n",
      "Negative\n",
      "*******************************************************\n",
      "@Kwesidei not the whole crew \n",
      "0:00:00.282035\n",
      "Positive\n",
      "*******************************************************\n",
      "Need a hug \n",
      "0:00:00.257519\n",
      "Negative\n",
      "*******************************************************\n",
      "@LOLTrish hey  long time no see! Yes.. Rains a bit ,only a bit  LOL , I'm fine thanks , how's you ?\n",
      "0:00:00.259252\n",
      "Positive\n",
      "*******************************************************\n",
      "@Tatiana_K nope they didn't have it \n",
      "0:00:00.275651\n",
      "Positive\n",
      "*******************************************************\n"
     ]
    }
   ],
   "source": [
    "import requests\n",
    "import json\n",
    "\n",
    "scoring_uri = 'http://b713b98a-5ead-4c2b-ba9a-9ff4682b1712.eastus.azurecontainer.io/score'\n",
    "headers = {'Content-Type':'application/json'}\n",
    "counter=0\n",
    "for i in datas['Col6'].iteritems():\n",
    "    counter=counter+1\n",
    "    if counter==10:\n",
    "        break\n",
    "    else:\n",
    "        print(i[1])\n",
    "        test_data = json.dumps({'text': i[1]})\n",
    "\n",
    "        response = requests.post(scoring_uri, data=test_data, headers=headers)\n",
    "       \n",
    "        print(response.elapsed)\n",
    "        print(response.json())\n",
    "        print(\"*******************************************************\")"
   ]
  },
  {
   "cell_type": "code",
   "execution_count": null,
   "metadata": {},
   "outputs": [],
   "source": []
  }
 ],
 "metadata": {
  "kernelspec": {
   "display_name": "Python 3",
   "language": "python",
   "name": "python3"
  },
  "language_info": {
   "codemirror_mode": {
    "name": "ipython",
    "version": 3
   },
   "file_extension": ".py",
   "mimetype": "text/x-python",
   "name": "python",
   "nbconvert_exporter": "python",
   "pygments_lexer": "ipython3",
   "version": "3.7.4"
  },
  "toc": {
   "base_numbering": 1,
   "nav_menu": {},
   "number_sections": true,
   "sideBar": true,
   "skip_h1_title": false,
   "title_cell": "Table of Contents",
   "title_sidebar": "Contents",
   "toc_cell": false,
   "toc_position": {},
   "toc_section_display": true,
   "toc_window_display": false
  }
 },
 "nbformat": 4,
 "nbformat_minor": 2
}
