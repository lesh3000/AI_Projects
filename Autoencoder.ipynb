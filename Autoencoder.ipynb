{
 "cells": [
  {
   "cell_type": "code",
   "execution_count": 47,
   "metadata": {},
   "outputs": [],
   "source": [
    "import tensorflow_datasets as tfds\n",
    "import numpy as np\n",
    "import cv2\n",
    "from tensorflow.keras import layers\n",
    "import tensorflow.keras as keras\n",
    "import tensorflow\n",
    "\n",
    "dataset_name = 'horses_or_humans'\n",
    "\n",
    "(training_images, training_labels), (test_images, test_labels) =  tfds.as_numpy(tfds.load(dataset_name, split = ['train', 'test'], batch_size=-1, as_supervised=True))"
   ]
  },
  {
   "cell_type": "code",
   "execution_count": 48,
   "metadata": {},
   "outputs": [
    {
     "name": "stdout",
     "output_type": "stream",
     "text": [
      "Model: \"model_3\"\n",
      "_________________________________________________________________\n",
      "Layer (type)                 Output Shape              Param #   \n",
      "=================================================================\n",
      "input_3 (InputLayer)         [(None, 300, 300, 1)]     0         \n",
      "_________________________________________________________________\n",
      "conv2d_14 (Conv2D)           (None, 300, 300, 128)     1280      \n",
      "_________________________________________________________________\n",
      "max_pooling2d_6 (MaxPooling2 (None, 150, 150, 128)     0         \n",
      "_________________________________________________________________\n",
      "conv2d_15 (Conv2D)           (None, 150, 150, 32)      36896     \n",
      "_________________________________________________________________\n",
      "max_pooling2d_7 (MaxPooling2 (None, 75, 75, 32)        0         \n",
      "_________________________________________________________________\n",
      "conv2d_16 (Conv2D)           (None, 75, 75, 8)         2312      \n",
      "_________________________________________________________________\n",
      "max_pooling2d_8 (MaxPooling2 (None, 38, 38, 8)         0         \n",
      "_________________________________________________________________\n",
      "conv2d_17 (Conv2D)           (None, 38, 38, 8)         584       \n",
      "_________________________________________________________________\n",
      "up_sampling2d_6 (UpSampling2 (None, 76, 76, 8)         0         \n",
      "_________________________________________________________________\n",
      "conv2d_18 (Conv2D)           (None, 76, 76, 32)        2336      \n",
      "_________________________________________________________________\n",
      "up_sampling2d_7 (UpSampling2 (None, 152, 152, 32)      0         \n",
      "_________________________________________________________________\n",
      "conv2d_19 (Conv2D)           (None, 150, 150, 128)     36992     \n",
      "_________________________________________________________________\n",
      "up_sampling2d_8 (UpSampling2 (None, 300, 300, 128)     0         \n",
      "_________________________________________________________________\n",
      "conv2d_20 (Conv2D)           (None, 300, 300, 1)       1153      \n",
      "=================================================================\n",
      "Total params: 81,553\n",
      "Trainable params: 81,553\n",
      "Non-trainable params: 0\n",
      "_________________________________________________________________\n"
     ]
    }
   ],
   "source": [
    "\n",
    "input_img = layers.Input(shape=(300, 300, 1))\n",
    "\n",
    "x = layers.Conv2D(128, (3, 3), activation='relu', padding='same')(input_img)\n",
    "x = layers.MaxPooling2D((2, 2), padding='same')(x)\n",
    "x = layers.Conv2D(32, (3, 3), activation='relu', padding='same')(x)\n",
    "x = layers.MaxPooling2D((2, 2), padding='same')(x)\n",
    "x = layers.Conv2D(8, (3, 3), activation='relu', padding='same')(x)\n",
    "encoded = layers.MaxPooling2D((2, 2), padding='same')(x)\n",
    "\n",
    "x = layers.Conv2D(8, (3, 3), activation='relu', padding='same')(encoded)\n",
    "x = layers.UpSampling2D((2, 2))(x)\n",
    "x = layers.Conv2D(32, (3, 3), activation='relu', padding='same')(x)\n",
    "x = layers.UpSampling2D((2, 2))(x)\n",
    "x = layers.Conv2D(128, (3, 3), activation='relu')(x)\n",
    "x = layers.UpSampling2D((2, 2))(x)\n",
    "decoded = layers.Conv2D(1, (3, 3), activation='linear', padding='same')(x)\n",
    "\n",
    "autoencoder = keras.Model(input_img, decoded)\n",
    "autoencoder.compile(optimizer='adam', loss='mse')\n",
    "autoencoder.summary()"
   ]
  },
  {
   "cell_type": "code",
   "execution_count": 49,
   "metadata": {},
   "outputs": [],
   "source": [
    "train= [cv2.cvtColor(i, cv2.COLOR_BGR2GRAY)/255. for i in training_images]\n",
    "test= [cv2.cvtColor(i, cv2.COLOR_BGR2GRAY)/255. for i in test_images]"
   ]
  },
  {
   "cell_type": "code",
   "execution_count": 50,
   "metadata": {},
   "outputs": [],
   "source": [
    "train=np.expand_dims(np.array(train),axis=3)\n",
    "test=np.expand_dims(np.array(test),axis=3)"
   ]
  },
  {
   "cell_type": "code",
   "execution_count": 51,
   "metadata": {},
   "outputs": [
    {
     "name": "stdout",
     "output_type": "stream",
     "text": [
      "(1027, 300, 300, 1)\n"
     ]
    }
   ],
   "source": [
    "print(train.shape)"
   ]
  },
  {
   "cell_type": "code",
   "execution_count": 56,
   "metadata": {},
   "outputs": [
    {
     "name": "stdout",
     "output_type": "stream",
     "text": [
      "Epoch 1/10\n",
      "33/33 [==============================] - 624s 19s/step - loss: 0.0326 - val_loss: 0.0439\n",
      "Epoch 2/10\n",
      "33/33 [==============================] - 609s 18s/step - loss: 0.0109 - val_loss: 0.0158\n",
      "Epoch 3/10\n",
      "33/33 [==============================] - 591s 18s/step - loss: 0.0066 - val_loss: 0.0084\n",
      "Epoch 4/10\n",
      "33/33 [==============================] - 537s 16s/step - loss: 0.0048 - val_loss: 0.0082\n",
      "Epoch 5/10\n",
      "33/33 [==============================] - 500s 15s/step - loss: 0.0040 - val_loss: 0.0058\n",
      "Epoch 6/10\n",
      "33/33 [==============================] - 491s 15s/step - loss: 0.0036 - val_loss: 0.0059\n",
      "Epoch 7/10\n",
      "33/33 [==============================] - 495s 15s/step - loss: 0.0035 - val_loss: 0.0052\n",
      "Epoch 8/10\n",
      "33/33 [==============================] - 492s 15s/step - loss: 0.0033 - val_loss: 0.0048\n",
      "Epoch 9/10\n",
      "33/33 [==============================] - 571s 17s/step - loss: 0.0032 - val_loss: 0.0053\n",
      "Epoch 10/10\n",
      "33/33 [==============================] - 633s 19s/step - loss: 0.0033 - val_loss: 0.0049\n"
     ]
    },
    {
     "data": {
      "text/plain": [
       "<tensorflow.python.keras.callbacks.History at 0x202a3caad00>"
      ]
     },
     "execution_count": 56,
     "metadata": {},
     "output_type": "execute_result"
    }
   ],
   "source": [
    "es=tensorflow.keras.callbacks.EarlyStopping(monitor='val_loss',patience=3, restore_best_weights=True)\n",
    "autoencoder.fit(train, train,epochs=10, batch_size= 32,shuffle=True,validation_data=(test, test), callbacks=[es])"
   ]
  },
  {
   "cell_type": "code",
   "execution_count": 57,
   "metadata": {},
   "outputs": [],
   "source": [
    "autoencoder.save(\"autoencoder1.h5\")"
   ]
  },
  {
   "cell_type": "code",
   "execution_count": 58,
   "metadata": {},
   "outputs": [],
   "source": [
    "model=tensorflow.keras.models.load_model(\"autoencoder1.h5\")"
   ]
  },
  {
   "cell_type": "code",
   "execution_count": 59,
   "metadata": {},
   "outputs": [],
   "source": [
    "model=tensorflow.keras.models.Model(model.inputs, model.get_layer(\"max_pooling2d_8\").output)"
   ]
  },
  {
   "cell_type": "code",
   "execution_count": 60,
   "metadata": {},
   "outputs": [
    {
     "name": "stdout",
     "output_type": "stream",
     "text": [
      "Model: \"model_5\"\n",
      "_________________________________________________________________\n",
      "Layer (type)                 Output Shape              Param #   \n",
      "=================================================================\n",
      "input_3 (InputLayer)         [(None, 300, 300, 1)]     0         \n",
      "_________________________________________________________________\n",
      "conv2d_14 (Conv2D)           (None, 300, 300, 128)     1280      \n",
      "_________________________________________________________________\n",
      "max_pooling2d_6 (MaxPooling2 (None, 150, 150, 128)     0         \n",
      "_________________________________________________________________\n",
      "conv2d_15 (Conv2D)           (None, 150, 150, 32)      36896     \n",
      "_________________________________________________________________\n",
      "max_pooling2d_7 (MaxPooling2 (None, 75, 75, 32)        0         \n",
      "_________________________________________________________________\n",
      "conv2d_16 (Conv2D)           (None, 75, 75, 8)         2312      \n",
      "_________________________________________________________________\n",
      "max_pooling2d_8 (MaxPooling2 (None, 38, 38, 8)         0         \n",
      "=================================================================\n",
      "Total params: 40,488\n",
      "Trainable params: 40,488\n",
      "Non-trainable params: 0\n",
      "_________________________________________________________________\n"
     ]
    }
   ],
   "source": [
    "model.summary()"
   ]
  },
  {
   "cell_type": "code",
   "execution_count": 64,
   "metadata": {},
   "outputs": [],
   "source": [
    "train_features=model.predict(train)\n",
    "test_features=model.predict(test)"
   ]
  },
  {
   "cell_type": "code",
   "execution_count": 65,
   "metadata": {},
   "outputs": [
    {
     "name": "stdout",
     "output_type": "stream",
     "text": [
      "(1027, 38, 38, 8)\n"
     ]
    }
   ],
   "source": [
    "print(train_features.shape)"
   ]
  },
  {
   "cell_type": "code",
   "execution_count": 62,
   "metadata": {},
   "outputs": [],
   "source": [
    "train_features=train_features\n",
    "test_features=train_features"
   ]
  },
  {
   "cell_type": "code",
   "execution_count": 66,
   "metadata": {},
   "outputs": [
    {
     "data": {
      "text/plain": [
       "(1283, 11552)"
      ]
     },
     "execution_count": 66,
     "metadata": {},
     "output_type": "execute_result"
    }
   ],
   "source": [
    "all_features=np.append(train_features,test_features,axis=0)\n",
    "all_features= all_features.reshape(all_features.shape[0],-1)\n",
    "all_features.shape"
   ]
  },
  {
   "cell_type": "code",
   "execution_count": 67,
   "metadata": {},
   "outputs": [
    {
     "data": {
      "text/plain": [
       "(1283, 1)"
      ]
     },
     "execution_count": 67,
     "metadata": {},
     "output_type": "execute_result"
    }
   ],
   "source": [
    "labs=np.append(training_labels,test_labels,axis=0)\n",
    "labs= labs.reshape(labs.shape[0],-1)\n",
    "labs.shape"
   ]
  },
  {
   "cell_type": "code",
   "execution_count": 68,
   "metadata": {},
   "outputs": [],
   "source": [
    "from sklearn.cluster import KMeans\n",
    "\n",
    "kmeans = KMeans(n_clusters=2, random_state=0).fit(all_features)\n",
    "labels=kmeans.labels_"
   ]
  },
  {
   "cell_type": "code",
   "execution_count": 69,
   "metadata": {},
   "outputs": [
    {
     "data": {
      "text/plain": [
       "0.544037412314887"
      ]
     },
     "execution_count": 69,
     "metadata": {},
     "output_type": "execute_result"
    }
   ],
   "source": [
    "from sklearn.metrics import accuracy_score\n",
    "accuracy_score(labs, labels)"
   ]
  }
 ],
 "metadata": {
  "kernelspec": {
   "display_name": "Python 3",
   "language": "python",
   "name": "python3"
  },
  "language_info": {
   "codemirror_mode": {
    "name": "ipython",
    "version": 3
   },
   "file_extension": ".py",
   "mimetype": "text/x-python",
   "name": "python",
   "nbconvert_exporter": "python",
   "pygments_lexer": "ipython3",
   "version": "3.8.3"
  }
 },
 "nbformat": 4,
 "nbformat_minor": 4
}
